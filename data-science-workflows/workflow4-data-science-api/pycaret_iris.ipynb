{
 "cells": [
  {
   "cell_type": "markdown",
   "metadata": {
    "colab_type": "text",
    "id": "mCOJwSTxfuMP"
   },
   "source": [
    "#  <span style=\"color:orange\">Multiclass Classification Tutorial (MCLF101) - Level Beginner</span>"
   ]
  },
  {
   "cell_type": "markdown",
   "metadata": {
    "colab_type": "text",
    "id": "h0Bb-8rXfuMS"
   },
   "source": [
    "**Created using: PyCaret 2.0** <br />\n",
    "**Date Updated: August 24, 2020**\n",
    "\n",
    "# 1.0 Tutorial Objective\n",
    "Welcome to the Multiclass Classification Tutorial **(MCLF101)** - Level Beginner. This tutorial assumes that you are new to PyCaret and looking to get started with Multiclass Classification using the `pycaret.classification` Module.\n",
    "\n",
    "In this tutorial we will learn:\n",
    "\n",
    "\n",
    "* **Getting Data:**  How to import data from PyCaret repository\n",
    "* **Setting up Environment:**  How to setup an experiment in PyCaret and get started with building multiclass models\n",
    "* **Create Model:**  How to create a model, perform stratified cross validation and evaluate classification metrics\n",
    "* **Tune Model:**  How to automatically tune the hyper-parameters of a multiclass model\n",
    "* **Plot Model:**  How to analyze model performance using various plots\n",
    "* **Finalize Model:** How to finalize the best model at the end of the experiment\n",
    "* **Predict Model:**  How to make predictions on new / unseen data\n",
    "* **Save / Load Model:**  How to save / load a model for future use\n",
    "\n",
    "Read Time : Approx. 30 Minutes\n",
    "\n",
    "\n",
    "# 1.1 Installing PyCaret\n",
    "The first step to get started with PyCaret is to install pycaret. Installation is easy and will only take a few minutes. Follow the instructions below:\n",
    "\n",
    "# Installing PyCaret in Local Jupyter Notebook\n",
    "`pip install pycaret`  <br />\n",
    "\n",
    "# Installing PyCaret on Google Colab or Azure Notebooks\n",
    "`!pip install pycaret`\n",
    "\n",
    "\n",
    "# 1.2 Pre-Requisites\n",
    "- Python 3.6 or greater\n",
    "- PyCaret 2.0 or greater\n",
    "- Internet connection to load data from pycaret's repository\n",
    "- Basic Knowledge of Multiclass Classification\n",
    "\n",
    "# 1.3 For Google colab users:\n",
    "If you are running this notebook on Google colab, run the following code at top of your notebook to display interactive visuals.<br/>\n",
    "<br/>\n",
    "`from pycaret.utils import enable_colab` <br/>\n",
    "`enable_colab()`\n",
    "\n",
    "# 1.4 See also:\n",
    "- __[Binary Classification Tutorial (CLF101) - Level Beginner](https://github.com/pycaret/pycaret/blob/master/tutorials/Binary%20Classification%20Tutorial%20Level%20Beginner%20-%20%20CLF101.ipynb)__\n",
    "- __[Binary Classification Tutorial (CLF102) - Level Intermediate](https://github.com/pycaret/pycaret/blob/master/tutorials/Binary%20Classification%20Tutorial%20Level%20Intermediate%20-%20CLF102.ipynb)__"
   ]
  },
  {
   "cell_type": "markdown",
   "metadata": {
    "colab_type": "text",
    "id": "VDM6TNTrfuMV"
   },
   "source": [
    "# 2.0 What is Multiclass Classification?\n",
    "Multiclass classification is a supervised machine learning technique where the goal is to classify instances into one of three or more classes. (Classifying instances into one of two classes is called Binary Classification). Multiclass classification should not be confused with multi-label classification, where multiple labels are to be predicted for each instance.\n",
    "\n",
    "__[Learn More about Multiclass Classification](https://towardsdatascience.com/machine-learning-multiclass-classification-with-imbalanced-data-set-29f6a177c1a)__"
   ]
  },
  {
   "cell_type": "markdown",
   "metadata": {
    "colab_type": "text",
    "id": "FEybtNqwfuMY"
   },
   "source": [
    "# 3.0 Overview of the Classification Module in PyCaret\n",
    "PyCaret's classification module (`pycaret.classification`) is a supervised machine learning module which is used for classifying the elements into binary or multinomial groups based on various techniques and algorithms. \n",
    "\n",
    "The PyCaret classification module can be used for Binary or Multi-class classification problems. It has over 18 algorithms and 14 plots to analyze the performance of models. Be it hyper-parameter tuning, ensembling or advanced techniques like stacking, PyCaret's classification module has it all."
   ]
  },
  {
   "cell_type": "markdown",
   "metadata": {
    "colab_type": "text",
    "id": "x2KiOHinfuMa"
   },
   "source": [
    "# 4.0 Dataset for the Tutorial"
   ]
  },
  {
   "cell_type": "markdown",
   "metadata": {
    "colab_type": "text",
    "id": "B0re-c4CfuMe"
   },
   "source": [
    "For this tutorial we will use the **Iris Dataset** from UCI. This is perhaps the best known database to be found in the pattern recognition literature. The data set contains 3 classes of 50 instances each, where each class refers to a type of iris plant. Short descriptions of each column are as follows:\n",
    "\n",
    "- **sepal_length:** Length of Sepal\n",
    "- **sepal_width:** Width of Sepal\n",
    "- **petal_length:** Length of Petal\n",
    "- **petal_width:** Width of Petal\n",
    "- **species:** One of three class (Setosa, Versicolour, Virginica) `Target Column`\n",
    "\n",
    "# Dataset Acknowledgement:\n",
    "Creator: R.A. Fisher, Donor : Michael Marshall (MARSHALL%PLU '@' io.arc.nasa.gov)\n",
    "\n",
    "The original dataset and data dictionary can be __[found here.](https://archive.ics.uci.edu/ml/datasets/Iris)__ "
   ]
  },
  {
   "cell_type": "markdown",
   "metadata": {
    "colab_type": "text",
    "id": "e-NQVSpIfuMi"
   },
   "source": [
    "# 5.0 Getting the Data"
   ]
  },
  {
   "cell_type": "markdown",
   "metadata": {
    "colab_type": "text",
    "id": "LGV6PMCtfuMl"
   },
   "source": [
    "You can download the data from the original source __[found here](https://archive.ics.uci.edu/ml/datasets/Iris)__ and load it using pandas __[(Learn How)](https://pandas.pydata.org/pandas-docs/stable/reference/api/pandas.read_csv.html)__ or you can use PyCaret's data respository to load the data using the `get_data()` function (This will require an internet connection)."
   ]
  },
  {
   "cell_type": "code",
   "execution_count": 1,
   "metadata": {
    "colab": {
     "base_uri": "https://localhost:8080/",
     "height": 204
    },
    "colab_type": "code",
    "id": "wEki9ZbCfuMm",
    "outputId": "edcba15b-233e-476c-d119-f9a07863f0df"
   },
   "outputs": [
    {
     "data": {
      "text/html": [
       "<div>\n",
       "<style scoped>\n",
       "    .dataframe tbody tr th:only-of-type {\n",
       "        vertical-align: middle;\n",
       "    }\n",
       "\n",
       "    .dataframe tbody tr th {\n",
       "        vertical-align: top;\n",
       "    }\n",
       "\n",
       "    .dataframe thead th {\n",
       "        text-align: right;\n",
       "    }\n",
       "</style>\n",
       "<table border=\"1\" class=\"dataframe\">\n",
       "  <thead>\n",
       "    <tr style=\"text-align: right;\">\n",
       "      <th></th>\n",
       "      <th>sepal_length</th>\n",
       "      <th>sepal_width</th>\n",
       "      <th>petal_length</th>\n",
       "      <th>petal_width</th>\n",
       "      <th>species</th>\n",
       "    </tr>\n",
       "  </thead>\n",
       "  <tbody>\n",
       "    <tr>\n",
       "      <th>0</th>\n",
       "      <td>5.1</td>\n",
       "      <td>3.5</td>\n",
       "      <td>1.4</td>\n",
       "      <td>0.2</td>\n",
       "      <td>Iris-setosa</td>\n",
       "    </tr>\n",
       "    <tr>\n",
       "      <th>1</th>\n",
       "      <td>4.9</td>\n",
       "      <td>3.0</td>\n",
       "      <td>1.4</td>\n",
       "      <td>0.2</td>\n",
       "      <td>Iris-setosa</td>\n",
       "    </tr>\n",
       "    <tr>\n",
       "      <th>2</th>\n",
       "      <td>4.7</td>\n",
       "      <td>3.2</td>\n",
       "      <td>1.3</td>\n",
       "      <td>0.2</td>\n",
       "      <td>Iris-setosa</td>\n",
       "    </tr>\n",
       "    <tr>\n",
       "      <th>3</th>\n",
       "      <td>4.6</td>\n",
       "      <td>3.1</td>\n",
       "      <td>1.5</td>\n",
       "      <td>0.2</td>\n",
       "      <td>Iris-setosa</td>\n",
       "    </tr>\n",
       "    <tr>\n",
       "      <th>4</th>\n",
       "      <td>5.0</td>\n",
       "      <td>3.6</td>\n",
       "      <td>1.4</td>\n",
       "      <td>0.2</td>\n",
       "      <td>Iris-setosa</td>\n",
       "    </tr>\n",
       "  </tbody>\n",
       "</table>\n",
       "</div>"
      ],
      "text/plain": [
       "   sepal_length  sepal_width  petal_length  petal_width      species\n",
       "0           5.1          3.5           1.4          0.2  Iris-setosa\n",
       "1           4.9          3.0           1.4          0.2  Iris-setosa\n",
       "2           4.7          3.2           1.3          0.2  Iris-setosa\n",
       "3           4.6          3.1           1.5          0.2  Iris-setosa\n",
       "4           5.0          3.6           1.4          0.2  Iris-setosa"
      ]
     },
     "metadata": {},
     "output_type": "display_data"
    }
   ],
   "source": [
    "from pycaret.datasets import get_data\n",
    "dataset = get_data('iris')"
   ]
  },
  {
   "cell_type": "code",
   "execution_count": 2,
   "metadata": {
    "colab": {
     "base_uri": "https://localhost:8080/",
     "height": 34
    },
    "colab_type": "code",
    "id": "mNFEXhMsfuMs",
    "outputId": "f5705470-be5f-429d-faea-6caa1f23ee1e"
   },
   "outputs": [
    {
     "data": {
      "text/plain": [
       "(150, 5)"
      ]
     },
     "execution_count": 2,
     "metadata": {},
     "output_type": "execute_result"
    }
   ],
   "source": [
    "#check the shape of data\n",
    "dataset.shape"
   ]
  },
  {
   "cell_type": "markdown",
   "metadata": {
    "colab_type": "text",
    "id": "o4C_ep4RfuMx"
   },
   "source": [
    "In order to demonstrate the `predict_model()` function on unseen data, a sample of 15 records has been withheld from the original dataset to be used for predictions. This should not be confused with a train/test split as this particular split is performed to simulate a real life scenario. Another way to think about this is that these 15 records were not available at the time when the machine learning experiment was performed."
   ]
  },
  {
   "cell_type": "code",
   "execution_count": 3,
   "metadata": {
    "colab": {
     "base_uri": "https://localhost:8080/",
     "height": 51
    },
    "colab_type": "code",
    "id": "Ttyujuo7fuMy",
    "outputId": "61f75ccf-541b-4efa-d00a-e0a95bf4017e"
   },
   "outputs": [
    {
     "name": "stdout",
     "output_type": "stream",
     "text": [
      "Data for Modeling: (135, 5)\n",
      "Unseen Data For Predictions: (15, 5)\n"
     ]
    }
   ],
   "source": [
    "data = dataset.sample(frac=0.9, random_state=786)\n",
    "data_unseen = dataset.drop(data.index)\n",
    "\n",
    "data.reset_index(drop=True, inplace=True)\n",
    "data_unseen.reset_index(drop=True, inplace=True)\n",
    "\n",
    "print('Data for Modeling: ' + str(data.shape))\n",
    "print('Unseen Data For Predictions: ' + str(data_unseen.shape))"
   ]
  },
  {
   "cell_type": "markdown",
   "metadata": {
    "colab_type": "text",
    "id": "QXG8qOz5fuM3"
   },
   "source": [
    "# 6.0 Setting up the Environment in PyCaret"
   ]
  },
  {
   "cell_type": "markdown",
   "metadata": {
    "colab_type": "text",
    "id": "nhFahBmtfuM5"
   },
   "source": [
    "The `setup()` function initializes the environment in pycaret and creates the transformation pipeline to prepare the data for modeling and deployment. `setup()` must be called before executing any other function in pycaret. It takes two mandatory parameters: a pandas dataframe and the name of the target column. All other parameters are optional and are used to customize the pre-processing pipeline (we will see them in later tutorials).\n",
    "\n",
    "When `setup()` is executed, PyCaret's inference algorithm will automatically infer the data types for all features based on certain properties. The data type should be inferred correctly but this is not always the case. To account for this, PyCaret displays a table containing the features and their inferred data types after `setup()` is executed. If all of the data types are correctly identified `enter` can be pressed to continue or `quit` can be typed to end the expriment. Ensuring that the data types are correct is of fundamental importance in PyCaret as it automatically performs a few pre-processing tasks which are imperative to any machine learning experiment. These tasks are performed differently for each data type which means it is very important for them to be correctly configured.\n",
    "\n",
    "In later tutorials we will learn how to overwrite PyCaret's infered data type using the `numeric_features` and `categorical_features` parameters in `setup()`."
   ]
  },
  {
   "cell_type": "code",
   "execution_count": 4,
   "metadata": {
    "colab": {
     "base_uri": "https://localhost:8080/",
     "height": 956
    },
    "colab_type": "code",
    "id": "9PcuxLQSfuNC",
    "outputId": "68abc9ac-a0d2-4b33-f524-9cabd0256fcc",
    "scrolled": false
   },
   "outputs": [
    {
     "name": "stdout",
     "output_type": "stream",
     "text": [
      "Setup Succesfully Completed!\n"
     ]
    },
    {
     "data": {
      "text/html": [
       "<style  type=\"text/css\" >\n",
       "</style><table id=\"T_8505c218_e647_11ea_a3db_482ae32b83da\" ><thead>    <tr>        <th class=\"blank level0\" ></th>        <th class=\"col_heading level0 col0\" >Description</th>        <th class=\"col_heading level0 col1\" >Value</th>    </tr></thead><tbody>\n",
       "                <tr>\n",
       "                        <th id=\"T_8505c218_e647_11ea_a3db_482ae32b83dalevel0_row0\" class=\"row_heading level0 row0\" >0</th>\n",
       "                        <td id=\"T_8505c218_e647_11ea_a3db_482ae32b83darow0_col0\" class=\"data row0 col0\" >session_id</td>\n",
       "                        <td id=\"T_8505c218_e647_11ea_a3db_482ae32b83darow0_col1\" class=\"data row0 col1\" >123</td>\n",
       "            </tr>\n",
       "            <tr>\n",
       "                        <th id=\"T_8505c218_e647_11ea_a3db_482ae32b83dalevel0_row1\" class=\"row_heading level0 row1\" >1</th>\n",
       "                        <td id=\"T_8505c218_e647_11ea_a3db_482ae32b83darow1_col0\" class=\"data row1 col0\" >Target Type</td>\n",
       "                        <td id=\"T_8505c218_e647_11ea_a3db_482ae32b83darow1_col1\" class=\"data row1 col1\" >Multiclass</td>\n",
       "            </tr>\n",
       "            <tr>\n",
       "                        <th id=\"T_8505c218_e647_11ea_a3db_482ae32b83dalevel0_row2\" class=\"row_heading level0 row2\" >2</th>\n",
       "                        <td id=\"T_8505c218_e647_11ea_a3db_482ae32b83darow2_col0\" class=\"data row2 col0\" >Label Encoded</td>\n",
       "                        <td id=\"T_8505c218_e647_11ea_a3db_482ae32b83darow2_col1\" class=\"data row2 col1\" >Iris-setosa: 0, Iris-versicolor: 1, Iris-virginica: 2</td>\n",
       "            </tr>\n",
       "            <tr>\n",
       "                        <th id=\"T_8505c218_e647_11ea_a3db_482ae32b83dalevel0_row3\" class=\"row_heading level0 row3\" >3</th>\n",
       "                        <td id=\"T_8505c218_e647_11ea_a3db_482ae32b83darow3_col0\" class=\"data row3 col0\" >Original Data</td>\n",
       "                        <td id=\"T_8505c218_e647_11ea_a3db_482ae32b83darow3_col1\" class=\"data row3 col1\" >(135, 5)</td>\n",
       "            </tr>\n",
       "            <tr>\n",
       "                        <th id=\"T_8505c218_e647_11ea_a3db_482ae32b83dalevel0_row4\" class=\"row_heading level0 row4\" >4</th>\n",
       "                        <td id=\"T_8505c218_e647_11ea_a3db_482ae32b83darow4_col0\" class=\"data row4 col0\" >Missing Values </td>\n",
       "                        <td id=\"T_8505c218_e647_11ea_a3db_482ae32b83darow4_col1\" class=\"data row4 col1\" >False</td>\n",
       "            </tr>\n",
       "            <tr>\n",
       "                        <th id=\"T_8505c218_e647_11ea_a3db_482ae32b83dalevel0_row5\" class=\"row_heading level0 row5\" >5</th>\n",
       "                        <td id=\"T_8505c218_e647_11ea_a3db_482ae32b83darow5_col0\" class=\"data row5 col0\" >Numeric Features </td>\n",
       "                        <td id=\"T_8505c218_e647_11ea_a3db_482ae32b83darow5_col1\" class=\"data row5 col1\" >4</td>\n",
       "            </tr>\n",
       "            <tr>\n",
       "                        <th id=\"T_8505c218_e647_11ea_a3db_482ae32b83dalevel0_row6\" class=\"row_heading level0 row6\" >6</th>\n",
       "                        <td id=\"T_8505c218_e647_11ea_a3db_482ae32b83darow6_col0\" class=\"data row6 col0\" >Categorical Features </td>\n",
       "                        <td id=\"T_8505c218_e647_11ea_a3db_482ae32b83darow6_col1\" class=\"data row6 col1\" >0</td>\n",
       "            </tr>\n",
       "            <tr>\n",
       "                        <th id=\"T_8505c218_e647_11ea_a3db_482ae32b83dalevel0_row7\" class=\"row_heading level0 row7\" >7</th>\n",
       "                        <td id=\"T_8505c218_e647_11ea_a3db_482ae32b83darow7_col0\" class=\"data row7 col0\" >Ordinal Features </td>\n",
       "                        <td id=\"T_8505c218_e647_11ea_a3db_482ae32b83darow7_col1\" class=\"data row7 col1\" >False</td>\n",
       "            </tr>\n",
       "            <tr>\n",
       "                        <th id=\"T_8505c218_e647_11ea_a3db_482ae32b83dalevel0_row8\" class=\"row_heading level0 row8\" >8</th>\n",
       "                        <td id=\"T_8505c218_e647_11ea_a3db_482ae32b83darow8_col0\" class=\"data row8 col0\" >High Cardinality Features </td>\n",
       "                        <td id=\"T_8505c218_e647_11ea_a3db_482ae32b83darow8_col1\" class=\"data row8 col1\" >False</td>\n",
       "            </tr>\n",
       "            <tr>\n",
       "                        <th id=\"T_8505c218_e647_11ea_a3db_482ae32b83dalevel0_row9\" class=\"row_heading level0 row9\" >9</th>\n",
       "                        <td id=\"T_8505c218_e647_11ea_a3db_482ae32b83darow9_col0\" class=\"data row9 col0\" >High Cardinality Method </td>\n",
       "                        <td id=\"T_8505c218_e647_11ea_a3db_482ae32b83darow9_col1\" class=\"data row9 col1\" >None</td>\n",
       "            </tr>\n",
       "            <tr>\n",
       "                        <th id=\"T_8505c218_e647_11ea_a3db_482ae32b83dalevel0_row10\" class=\"row_heading level0 row10\" >10</th>\n",
       "                        <td id=\"T_8505c218_e647_11ea_a3db_482ae32b83darow10_col0\" class=\"data row10 col0\" >Sampled Data</td>\n",
       "                        <td id=\"T_8505c218_e647_11ea_a3db_482ae32b83darow10_col1\" class=\"data row10 col1\" >(135, 5)</td>\n",
       "            </tr>\n",
       "            <tr>\n",
       "                        <th id=\"T_8505c218_e647_11ea_a3db_482ae32b83dalevel0_row11\" class=\"row_heading level0 row11\" >11</th>\n",
       "                        <td id=\"T_8505c218_e647_11ea_a3db_482ae32b83darow11_col0\" class=\"data row11 col0\" >Transformed Train Set</td>\n",
       "                        <td id=\"T_8505c218_e647_11ea_a3db_482ae32b83darow11_col1\" class=\"data row11 col1\" >(94, 4)</td>\n",
       "            </tr>\n",
       "            <tr>\n",
       "                        <th id=\"T_8505c218_e647_11ea_a3db_482ae32b83dalevel0_row12\" class=\"row_heading level0 row12\" >12</th>\n",
       "                        <td id=\"T_8505c218_e647_11ea_a3db_482ae32b83darow12_col0\" class=\"data row12 col0\" >Transformed Test Set</td>\n",
       "                        <td id=\"T_8505c218_e647_11ea_a3db_482ae32b83darow12_col1\" class=\"data row12 col1\" >(41, 4)</td>\n",
       "            </tr>\n",
       "            <tr>\n",
       "                        <th id=\"T_8505c218_e647_11ea_a3db_482ae32b83dalevel0_row13\" class=\"row_heading level0 row13\" >13</th>\n",
       "                        <td id=\"T_8505c218_e647_11ea_a3db_482ae32b83darow13_col0\" class=\"data row13 col0\" >Numeric Imputer </td>\n",
       "                        <td id=\"T_8505c218_e647_11ea_a3db_482ae32b83darow13_col1\" class=\"data row13 col1\" >mean</td>\n",
       "            </tr>\n",
       "            <tr>\n",
       "                        <th id=\"T_8505c218_e647_11ea_a3db_482ae32b83dalevel0_row14\" class=\"row_heading level0 row14\" >14</th>\n",
       "                        <td id=\"T_8505c218_e647_11ea_a3db_482ae32b83darow14_col0\" class=\"data row14 col0\" >Categorical Imputer </td>\n",
       "                        <td id=\"T_8505c218_e647_11ea_a3db_482ae32b83darow14_col1\" class=\"data row14 col1\" >constant</td>\n",
       "            </tr>\n",
       "            <tr>\n",
       "                        <th id=\"T_8505c218_e647_11ea_a3db_482ae32b83dalevel0_row15\" class=\"row_heading level0 row15\" >15</th>\n",
       "                        <td id=\"T_8505c218_e647_11ea_a3db_482ae32b83darow15_col0\" class=\"data row15 col0\" >Normalize </td>\n",
       "                        <td id=\"T_8505c218_e647_11ea_a3db_482ae32b83darow15_col1\" class=\"data row15 col1\" >False</td>\n",
       "            </tr>\n",
       "            <tr>\n",
       "                        <th id=\"T_8505c218_e647_11ea_a3db_482ae32b83dalevel0_row16\" class=\"row_heading level0 row16\" >16</th>\n",
       "                        <td id=\"T_8505c218_e647_11ea_a3db_482ae32b83darow16_col0\" class=\"data row16 col0\" >Normalize Method </td>\n",
       "                        <td id=\"T_8505c218_e647_11ea_a3db_482ae32b83darow16_col1\" class=\"data row16 col1\" >None</td>\n",
       "            </tr>\n",
       "            <tr>\n",
       "                        <th id=\"T_8505c218_e647_11ea_a3db_482ae32b83dalevel0_row17\" class=\"row_heading level0 row17\" >17</th>\n",
       "                        <td id=\"T_8505c218_e647_11ea_a3db_482ae32b83darow17_col0\" class=\"data row17 col0\" >Transformation </td>\n",
       "                        <td id=\"T_8505c218_e647_11ea_a3db_482ae32b83darow17_col1\" class=\"data row17 col1\" >False</td>\n",
       "            </tr>\n",
       "            <tr>\n",
       "                        <th id=\"T_8505c218_e647_11ea_a3db_482ae32b83dalevel0_row18\" class=\"row_heading level0 row18\" >18</th>\n",
       "                        <td id=\"T_8505c218_e647_11ea_a3db_482ae32b83darow18_col0\" class=\"data row18 col0\" >Transformation Method </td>\n",
       "                        <td id=\"T_8505c218_e647_11ea_a3db_482ae32b83darow18_col1\" class=\"data row18 col1\" >None</td>\n",
       "            </tr>\n",
       "            <tr>\n",
       "                        <th id=\"T_8505c218_e647_11ea_a3db_482ae32b83dalevel0_row19\" class=\"row_heading level0 row19\" >19</th>\n",
       "                        <td id=\"T_8505c218_e647_11ea_a3db_482ae32b83darow19_col0\" class=\"data row19 col0\" >PCA </td>\n",
       "                        <td id=\"T_8505c218_e647_11ea_a3db_482ae32b83darow19_col1\" class=\"data row19 col1\" >False</td>\n",
       "            </tr>\n",
       "            <tr>\n",
       "                        <th id=\"T_8505c218_e647_11ea_a3db_482ae32b83dalevel0_row20\" class=\"row_heading level0 row20\" >20</th>\n",
       "                        <td id=\"T_8505c218_e647_11ea_a3db_482ae32b83darow20_col0\" class=\"data row20 col0\" >PCA Method </td>\n",
       "                        <td id=\"T_8505c218_e647_11ea_a3db_482ae32b83darow20_col1\" class=\"data row20 col1\" >None</td>\n",
       "            </tr>\n",
       "            <tr>\n",
       "                        <th id=\"T_8505c218_e647_11ea_a3db_482ae32b83dalevel0_row21\" class=\"row_heading level0 row21\" >21</th>\n",
       "                        <td id=\"T_8505c218_e647_11ea_a3db_482ae32b83darow21_col0\" class=\"data row21 col0\" >PCA Components </td>\n",
       "                        <td id=\"T_8505c218_e647_11ea_a3db_482ae32b83darow21_col1\" class=\"data row21 col1\" >None</td>\n",
       "            </tr>\n",
       "            <tr>\n",
       "                        <th id=\"T_8505c218_e647_11ea_a3db_482ae32b83dalevel0_row22\" class=\"row_heading level0 row22\" >22</th>\n",
       "                        <td id=\"T_8505c218_e647_11ea_a3db_482ae32b83darow22_col0\" class=\"data row22 col0\" >Ignore Low Variance </td>\n",
       "                        <td id=\"T_8505c218_e647_11ea_a3db_482ae32b83darow22_col1\" class=\"data row22 col1\" >False</td>\n",
       "            </tr>\n",
       "            <tr>\n",
       "                        <th id=\"T_8505c218_e647_11ea_a3db_482ae32b83dalevel0_row23\" class=\"row_heading level0 row23\" >23</th>\n",
       "                        <td id=\"T_8505c218_e647_11ea_a3db_482ae32b83darow23_col0\" class=\"data row23 col0\" >Combine Rare Levels </td>\n",
       "                        <td id=\"T_8505c218_e647_11ea_a3db_482ae32b83darow23_col1\" class=\"data row23 col1\" >False</td>\n",
       "            </tr>\n",
       "            <tr>\n",
       "                        <th id=\"T_8505c218_e647_11ea_a3db_482ae32b83dalevel0_row24\" class=\"row_heading level0 row24\" >24</th>\n",
       "                        <td id=\"T_8505c218_e647_11ea_a3db_482ae32b83darow24_col0\" class=\"data row24 col0\" >Rare Level Threshold </td>\n",
       "                        <td id=\"T_8505c218_e647_11ea_a3db_482ae32b83darow24_col1\" class=\"data row24 col1\" >None</td>\n",
       "            </tr>\n",
       "            <tr>\n",
       "                        <th id=\"T_8505c218_e647_11ea_a3db_482ae32b83dalevel0_row25\" class=\"row_heading level0 row25\" >25</th>\n",
       "                        <td id=\"T_8505c218_e647_11ea_a3db_482ae32b83darow25_col0\" class=\"data row25 col0\" >Numeric Binning </td>\n",
       "                        <td id=\"T_8505c218_e647_11ea_a3db_482ae32b83darow25_col1\" class=\"data row25 col1\" >False</td>\n",
       "            </tr>\n",
       "            <tr>\n",
       "                        <th id=\"T_8505c218_e647_11ea_a3db_482ae32b83dalevel0_row26\" class=\"row_heading level0 row26\" >26</th>\n",
       "                        <td id=\"T_8505c218_e647_11ea_a3db_482ae32b83darow26_col0\" class=\"data row26 col0\" >Remove Outliers </td>\n",
       "                        <td id=\"T_8505c218_e647_11ea_a3db_482ae32b83darow26_col1\" class=\"data row26 col1\" >False</td>\n",
       "            </tr>\n",
       "            <tr>\n",
       "                        <th id=\"T_8505c218_e647_11ea_a3db_482ae32b83dalevel0_row27\" class=\"row_heading level0 row27\" >27</th>\n",
       "                        <td id=\"T_8505c218_e647_11ea_a3db_482ae32b83darow27_col0\" class=\"data row27 col0\" >Outliers Threshold </td>\n",
       "                        <td id=\"T_8505c218_e647_11ea_a3db_482ae32b83darow27_col1\" class=\"data row27 col1\" >None</td>\n",
       "            </tr>\n",
       "            <tr>\n",
       "                        <th id=\"T_8505c218_e647_11ea_a3db_482ae32b83dalevel0_row28\" class=\"row_heading level0 row28\" >28</th>\n",
       "                        <td id=\"T_8505c218_e647_11ea_a3db_482ae32b83darow28_col0\" class=\"data row28 col0\" >Remove Multicollinearity </td>\n",
       "                        <td id=\"T_8505c218_e647_11ea_a3db_482ae32b83darow28_col1\" class=\"data row28 col1\" >False</td>\n",
       "            </tr>\n",
       "            <tr>\n",
       "                        <th id=\"T_8505c218_e647_11ea_a3db_482ae32b83dalevel0_row29\" class=\"row_heading level0 row29\" >29</th>\n",
       "                        <td id=\"T_8505c218_e647_11ea_a3db_482ae32b83darow29_col0\" class=\"data row29 col0\" >Multicollinearity Threshold </td>\n",
       "                        <td id=\"T_8505c218_e647_11ea_a3db_482ae32b83darow29_col1\" class=\"data row29 col1\" >None</td>\n",
       "            </tr>\n",
       "            <tr>\n",
       "                        <th id=\"T_8505c218_e647_11ea_a3db_482ae32b83dalevel0_row30\" class=\"row_heading level0 row30\" >30</th>\n",
       "                        <td id=\"T_8505c218_e647_11ea_a3db_482ae32b83darow30_col0\" class=\"data row30 col0\" >Clustering </td>\n",
       "                        <td id=\"T_8505c218_e647_11ea_a3db_482ae32b83darow30_col1\" class=\"data row30 col1\" >False</td>\n",
       "            </tr>\n",
       "            <tr>\n",
       "                        <th id=\"T_8505c218_e647_11ea_a3db_482ae32b83dalevel0_row31\" class=\"row_heading level0 row31\" >31</th>\n",
       "                        <td id=\"T_8505c218_e647_11ea_a3db_482ae32b83darow31_col0\" class=\"data row31 col0\" >Clustering Iteration </td>\n",
       "                        <td id=\"T_8505c218_e647_11ea_a3db_482ae32b83darow31_col1\" class=\"data row31 col1\" >None</td>\n",
       "            </tr>\n",
       "            <tr>\n",
       "                        <th id=\"T_8505c218_e647_11ea_a3db_482ae32b83dalevel0_row32\" class=\"row_heading level0 row32\" >32</th>\n",
       "                        <td id=\"T_8505c218_e647_11ea_a3db_482ae32b83darow32_col0\" class=\"data row32 col0\" >Polynomial Features </td>\n",
       "                        <td id=\"T_8505c218_e647_11ea_a3db_482ae32b83darow32_col1\" class=\"data row32 col1\" >False</td>\n",
       "            </tr>\n",
       "            <tr>\n",
       "                        <th id=\"T_8505c218_e647_11ea_a3db_482ae32b83dalevel0_row33\" class=\"row_heading level0 row33\" >33</th>\n",
       "                        <td id=\"T_8505c218_e647_11ea_a3db_482ae32b83darow33_col0\" class=\"data row33 col0\" >Polynomial Degree </td>\n",
       "                        <td id=\"T_8505c218_e647_11ea_a3db_482ae32b83darow33_col1\" class=\"data row33 col1\" >None</td>\n",
       "            </tr>\n",
       "            <tr>\n",
       "                        <th id=\"T_8505c218_e647_11ea_a3db_482ae32b83dalevel0_row34\" class=\"row_heading level0 row34\" >34</th>\n",
       "                        <td id=\"T_8505c218_e647_11ea_a3db_482ae32b83darow34_col0\" class=\"data row34 col0\" >Trignometry Features </td>\n",
       "                        <td id=\"T_8505c218_e647_11ea_a3db_482ae32b83darow34_col1\" class=\"data row34 col1\" >False</td>\n",
       "            </tr>\n",
       "            <tr>\n",
       "                        <th id=\"T_8505c218_e647_11ea_a3db_482ae32b83dalevel0_row35\" class=\"row_heading level0 row35\" >35</th>\n",
       "                        <td id=\"T_8505c218_e647_11ea_a3db_482ae32b83darow35_col0\" class=\"data row35 col0\" >Polynomial Threshold </td>\n",
       "                        <td id=\"T_8505c218_e647_11ea_a3db_482ae32b83darow35_col1\" class=\"data row35 col1\" >None</td>\n",
       "            </tr>\n",
       "            <tr>\n",
       "                        <th id=\"T_8505c218_e647_11ea_a3db_482ae32b83dalevel0_row36\" class=\"row_heading level0 row36\" >36</th>\n",
       "                        <td id=\"T_8505c218_e647_11ea_a3db_482ae32b83darow36_col0\" class=\"data row36 col0\" >Group Features </td>\n",
       "                        <td id=\"T_8505c218_e647_11ea_a3db_482ae32b83darow36_col1\" class=\"data row36 col1\" >False</td>\n",
       "            </tr>\n",
       "            <tr>\n",
       "                        <th id=\"T_8505c218_e647_11ea_a3db_482ae32b83dalevel0_row37\" class=\"row_heading level0 row37\" >37</th>\n",
       "                        <td id=\"T_8505c218_e647_11ea_a3db_482ae32b83darow37_col0\" class=\"data row37 col0\" >Feature Selection </td>\n",
       "                        <td id=\"T_8505c218_e647_11ea_a3db_482ae32b83darow37_col1\" class=\"data row37 col1\" >False</td>\n",
       "            </tr>\n",
       "            <tr>\n",
       "                        <th id=\"T_8505c218_e647_11ea_a3db_482ae32b83dalevel0_row38\" class=\"row_heading level0 row38\" >38</th>\n",
       "                        <td id=\"T_8505c218_e647_11ea_a3db_482ae32b83darow38_col0\" class=\"data row38 col0\" >Features Selection Threshold </td>\n",
       "                        <td id=\"T_8505c218_e647_11ea_a3db_482ae32b83darow38_col1\" class=\"data row38 col1\" >None</td>\n",
       "            </tr>\n",
       "            <tr>\n",
       "                        <th id=\"T_8505c218_e647_11ea_a3db_482ae32b83dalevel0_row39\" class=\"row_heading level0 row39\" >39</th>\n",
       "                        <td id=\"T_8505c218_e647_11ea_a3db_482ae32b83darow39_col0\" class=\"data row39 col0\" >Feature Interaction </td>\n",
       "                        <td id=\"T_8505c218_e647_11ea_a3db_482ae32b83darow39_col1\" class=\"data row39 col1\" >False</td>\n",
       "            </tr>\n",
       "            <tr>\n",
       "                        <th id=\"T_8505c218_e647_11ea_a3db_482ae32b83dalevel0_row40\" class=\"row_heading level0 row40\" >40</th>\n",
       "                        <td id=\"T_8505c218_e647_11ea_a3db_482ae32b83darow40_col0\" class=\"data row40 col0\" >Feature Ratio </td>\n",
       "                        <td id=\"T_8505c218_e647_11ea_a3db_482ae32b83darow40_col1\" class=\"data row40 col1\" >False</td>\n",
       "            </tr>\n",
       "            <tr>\n",
       "                        <th id=\"T_8505c218_e647_11ea_a3db_482ae32b83dalevel0_row41\" class=\"row_heading level0 row41\" >41</th>\n",
       "                        <td id=\"T_8505c218_e647_11ea_a3db_482ae32b83darow41_col0\" class=\"data row41 col0\" >Interaction Threshold </td>\n",
       "                        <td id=\"T_8505c218_e647_11ea_a3db_482ae32b83darow41_col1\" class=\"data row41 col1\" >None</td>\n",
       "            </tr>\n",
       "            <tr>\n",
       "                        <th id=\"T_8505c218_e647_11ea_a3db_482ae32b83dalevel0_row42\" class=\"row_heading level0 row42\" >42</th>\n",
       "                        <td id=\"T_8505c218_e647_11ea_a3db_482ae32b83darow42_col0\" class=\"data row42 col0\" >Fix Imbalance</td>\n",
       "                        <td id=\"T_8505c218_e647_11ea_a3db_482ae32b83darow42_col1\" class=\"data row42 col1\" >False</td>\n",
       "            </tr>\n",
       "            <tr>\n",
       "                        <th id=\"T_8505c218_e647_11ea_a3db_482ae32b83dalevel0_row43\" class=\"row_heading level0 row43\" >43</th>\n",
       "                        <td id=\"T_8505c218_e647_11ea_a3db_482ae32b83darow43_col0\" class=\"data row43 col0\" >Fix Imbalance Method</td>\n",
       "                        <td id=\"T_8505c218_e647_11ea_a3db_482ae32b83darow43_col1\" class=\"data row43 col1\" >SMOTE</td>\n",
       "            </tr>\n",
       "    </tbody></table>"
      ],
      "text/plain": [
       "<pandas.io.formats.style.Styler at 0x1faeec00a88>"
      ]
     },
     "metadata": {},
     "output_type": "display_data"
    }
   ],
   "source": [
    "from pycaret.classification import *\n",
    "exp_mclf101 = setup(data = data, target = 'species', session_id=123) "
   ]
  },
  {
   "cell_type": "markdown",
   "metadata": {
    "colab_type": "text",
    "id": "8Mz7JeKqfuNJ"
   },
   "source": [
    "Once the setup has been successfully executed it prints the information grid which contains several important pieces of information. Most of the information is related to the pre-processing pipeline which is constructed when `setup()` is executed. The majority of these features are out of scope for the purposes of this tutorial however a few important things to note at this stage include:\n",
    "\n",
    "- **session_id :**  A pseduo-random number distributed as a seed in all functions for later reproducibility. If no `session_id` is passed, a random number is automatically generated that is distributed to all functions. In this experiment, the `session_id` is set as `123` for later reproducibility.<br/>\n",
    "<br/>\n",
    "- **Target Type :**  Binary or Multiclass. The Target type is automatically detected and shown. There is no difference in how the experiment is performed for Binary or Multiclass problems. All functionalities are identical.<br/>\n",
    "<br/>\n",
    "- **Label Encoded :**  When the Target variable is of type string (i.e. 'Yes' or 'No') instead of 1 or 0, it automatically encodes the label into 1 and 0 and displays the mapping (0 : No, 1 : Yes) for reference. In this experiment label encoding is applied as follows: Iris-setosa: 0, Iris-versicolor: 1, Iris-virginica: 2. <br/>\n",
    "<br/>\n",
    "- **Original Data :**  Displays the original shape of the dataset. In this experiment (135, 5) means 135 samples and 5 features including the target column. <br/>\n",
    "<br/>\n",
    "- **Missing Values :**  When there are missing values in the original data this will show as True. For this experiment there are no missing values in the dataset.<br/>\n",
    "<br/>\n",
    "- **Numeric Features :**  The number of features inferred as numeric. In this dataset, 4 out of 5 features are inferred as numeric. <br/>\n",
    "<br/>\n",
    "- **Categorical Features :**  The number of features inferred as categorical. In this dataset, there are no categorical features. <br/>\n",
    "<br/>\n",
    "- **Transformed Train Set :**  Displays the shape of the transformed training set. Notice that the original shape of (135, 5) is transformed into (94, 4) for the transformed train set. <br/>\n",
    "<br/>\n",
    "- **Transformed Test Set :**  Displays the shape of the transformed test/hold-out set. There are 41 samples in test/hold-out set. This split is based on the default value of 70/30 that can be changed using the `train_size` parameter in setup. <br/>\n",
    "\n",
    "Notice how a few tasks that are imperative to perform modeling are automatically handled such as missing value imputation, categorical encoding etc. Most of the parameters in `setup()` are optional and used for customizing the pre-processing pipeline. These parameters are out of scope for this tutorial but as you progress to the intermediate and expert levels, we will cover them in much greater detail."
   ]
  },
  {
   "cell_type": "markdown",
   "metadata": {
    "colab_type": "text",
    "id": "i9ZvVSDYfuNL"
   },
   "source": [
    "# 7.0 Comparing All Models"
   ]
  },
  {
   "cell_type": "markdown",
   "metadata": {
    "colab_type": "text",
    "id": "Kr65WJW2fuNM"
   },
   "source": [
    "Comparing all models to evaluate performance is the recommended starting point for modeling once the setup is completed (unless you exactly know what kind of model you need, which is often not the case). This function trains all models in the model library and scores them using stratified cross validation for metric evaluation. The output prints a score grid that shows average Accuracy, Recall, Precision, F1, Kappa, and MCC accross the folds (10 by default) along with training times."
   ]
  },
  {
   "cell_type": "code",
   "execution_count": 5,
   "metadata": {
    "colab": {
     "base_uri": "https://localhost:8080/",
     "height": 355
    },
    "colab_type": "code",
    "id": "1wcMisYyfuNN",
    "outputId": "d3e16fbb-c33b-4bda-df3f-de2507f821c8",
    "scrolled": false
   },
   "outputs": [
    {
     "data": {
      "text/html": [
       "<style  type=\"text/css\" >\n",
       "    #T_ac00bcc0_e647_11ea_bf36_482ae32b83da th {\n",
       "          text-align: left;\n",
       "    }    #T_ac00bcc0_e647_11ea_bf36_482ae32b83darow0_col0 {\n",
       "            text-align:  left;\n",
       "        }    #T_ac00bcc0_e647_11ea_bf36_482ae32b83darow0_col1 {\n",
       "            background-color:  yellow;\n",
       "            text-align:  left;\n",
       "        }    #T_ac00bcc0_e647_11ea_bf36_482ae32b83darow0_col2 {\n",
       "            text-align:  left;\n",
       "        }    #T_ac00bcc0_e647_11ea_bf36_482ae32b83darow0_col3 {\n",
       "            background-color:  yellow;\n",
       "            text-align:  left;\n",
       "        }    #T_ac00bcc0_e647_11ea_bf36_482ae32b83darow0_col4 {\n",
       "            : ;\n",
       "            text-align:  left;\n",
       "        }    #T_ac00bcc0_e647_11ea_bf36_482ae32b83darow0_col5 {\n",
       "            background-color:  yellow;\n",
       "            text-align:  left;\n",
       "        }    #T_ac00bcc0_e647_11ea_bf36_482ae32b83darow0_col6 {\n",
       "            background-color:  yellow;\n",
       "            text-align:  left;\n",
       "        }    #T_ac00bcc0_e647_11ea_bf36_482ae32b83darow0_col7 {\n",
       "            background-color:  yellow;\n",
       "            text-align:  left;\n",
       "        }    #T_ac00bcc0_e647_11ea_bf36_482ae32b83darow0_col8 {\n",
       "            background-color:  lightgrey;\n",
       "            text-align:  left;\n",
       "        }    #T_ac00bcc0_e647_11ea_bf36_482ae32b83darow1_col0 {\n",
       "            text-align:  left;\n",
       "        }    #T_ac00bcc0_e647_11ea_bf36_482ae32b83darow1_col1 {\n",
       "            : ;\n",
       "            text-align:  left;\n",
       "        }    #T_ac00bcc0_e647_11ea_bf36_482ae32b83darow1_col2 {\n",
       "            text-align:  left;\n",
       "        }    #T_ac00bcc0_e647_11ea_bf36_482ae32b83darow1_col3 {\n",
       "            : ;\n",
       "            text-align:  left;\n",
       "        }    #T_ac00bcc0_e647_11ea_bf36_482ae32b83darow1_col4 {\n",
       "            background-color:  yellow;\n",
       "            text-align:  left;\n",
       "        }    #T_ac00bcc0_e647_11ea_bf36_482ae32b83darow1_col5 {\n",
       "            : ;\n",
       "            text-align:  left;\n",
       "        }    #T_ac00bcc0_e647_11ea_bf36_482ae32b83darow1_col6 {\n",
       "            : ;\n",
       "            text-align:  left;\n",
       "        }    #T_ac00bcc0_e647_11ea_bf36_482ae32b83darow1_col7 {\n",
       "            : ;\n",
       "            text-align:  left;\n",
       "        }    #T_ac00bcc0_e647_11ea_bf36_482ae32b83darow1_col8 {\n",
       "            background-color:  lightgrey;\n",
       "            text-align:  left;\n",
       "        }    #T_ac00bcc0_e647_11ea_bf36_482ae32b83darow2_col0 {\n",
       "            text-align:  left;\n",
       "        }    #T_ac00bcc0_e647_11ea_bf36_482ae32b83darow2_col1 {\n",
       "            : ;\n",
       "            text-align:  left;\n",
       "        }    #T_ac00bcc0_e647_11ea_bf36_482ae32b83darow2_col2 {\n",
       "            text-align:  left;\n",
       "        }    #T_ac00bcc0_e647_11ea_bf36_482ae32b83darow2_col3 {\n",
       "            : ;\n",
       "            text-align:  left;\n",
       "        }    #T_ac00bcc0_e647_11ea_bf36_482ae32b83darow2_col4 {\n",
       "            background-color:  yellow;\n",
       "            text-align:  left;\n",
       "        }    #T_ac00bcc0_e647_11ea_bf36_482ae32b83darow2_col5 {\n",
       "            : ;\n",
       "            text-align:  left;\n",
       "        }    #T_ac00bcc0_e647_11ea_bf36_482ae32b83darow2_col6 {\n",
       "            : ;\n",
       "            text-align:  left;\n",
       "        }    #T_ac00bcc0_e647_11ea_bf36_482ae32b83darow2_col7 {\n",
       "            : ;\n",
       "            text-align:  left;\n",
       "        }    #T_ac00bcc0_e647_11ea_bf36_482ae32b83darow2_col8 {\n",
       "            background-color:  lightgrey;\n",
       "            text-align:  left;\n",
       "        }    #T_ac00bcc0_e647_11ea_bf36_482ae32b83darow3_col0 {\n",
       "            text-align:  left;\n",
       "        }    #T_ac00bcc0_e647_11ea_bf36_482ae32b83darow3_col1 {\n",
       "            : ;\n",
       "            text-align:  left;\n",
       "        }    #T_ac00bcc0_e647_11ea_bf36_482ae32b83darow3_col2 {\n",
       "            text-align:  left;\n",
       "        }    #T_ac00bcc0_e647_11ea_bf36_482ae32b83darow3_col3 {\n",
       "            : ;\n",
       "            text-align:  left;\n",
       "        }    #T_ac00bcc0_e647_11ea_bf36_482ae32b83darow3_col4 {\n",
       "            : ;\n",
       "            text-align:  left;\n",
       "        }    #T_ac00bcc0_e647_11ea_bf36_482ae32b83darow3_col5 {\n",
       "            : ;\n",
       "            text-align:  left;\n",
       "        }    #T_ac00bcc0_e647_11ea_bf36_482ae32b83darow3_col6 {\n",
       "            : ;\n",
       "            text-align:  left;\n",
       "        }    #T_ac00bcc0_e647_11ea_bf36_482ae32b83darow3_col7 {\n",
       "            : ;\n",
       "            text-align:  left;\n",
       "        }    #T_ac00bcc0_e647_11ea_bf36_482ae32b83darow3_col8 {\n",
       "            background-color:  lightgrey;\n",
       "            text-align:  left;\n",
       "        }    #T_ac00bcc0_e647_11ea_bf36_482ae32b83darow4_col0 {\n",
       "            text-align:  left;\n",
       "        }    #T_ac00bcc0_e647_11ea_bf36_482ae32b83darow4_col1 {\n",
       "            : ;\n",
       "            text-align:  left;\n",
       "        }    #T_ac00bcc0_e647_11ea_bf36_482ae32b83darow4_col2 {\n",
       "            text-align:  left;\n",
       "        }    #T_ac00bcc0_e647_11ea_bf36_482ae32b83darow4_col3 {\n",
       "            : ;\n",
       "            text-align:  left;\n",
       "        }    #T_ac00bcc0_e647_11ea_bf36_482ae32b83darow4_col4 {\n",
       "            : ;\n",
       "            text-align:  left;\n",
       "        }    #T_ac00bcc0_e647_11ea_bf36_482ae32b83darow4_col5 {\n",
       "            : ;\n",
       "            text-align:  left;\n",
       "        }    #T_ac00bcc0_e647_11ea_bf36_482ae32b83darow4_col6 {\n",
       "            : ;\n",
       "            text-align:  left;\n",
       "        }    #T_ac00bcc0_e647_11ea_bf36_482ae32b83darow4_col7 {\n",
       "            : ;\n",
       "            text-align:  left;\n",
       "        }    #T_ac00bcc0_e647_11ea_bf36_482ae32b83darow4_col8 {\n",
       "            background-color:  lightgrey;\n",
       "            text-align:  left;\n",
       "        }    #T_ac00bcc0_e647_11ea_bf36_482ae32b83darow5_col0 {\n",
       "            text-align:  left;\n",
       "        }    #T_ac00bcc0_e647_11ea_bf36_482ae32b83darow5_col1 {\n",
       "            : ;\n",
       "            text-align:  left;\n",
       "        }    #T_ac00bcc0_e647_11ea_bf36_482ae32b83darow5_col2 {\n",
       "            text-align:  left;\n",
       "        }    #T_ac00bcc0_e647_11ea_bf36_482ae32b83darow5_col3 {\n",
       "            : ;\n",
       "            text-align:  left;\n",
       "        }    #T_ac00bcc0_e647_11ea_bf36_482ae32b83darow5_col4 {\n",
       "            : ;\n",
       "            text-align:  left;\n",
       "        }    #T_ac00bcc0_e647_11ea_bf36_482ae32b83darow5_col5 {\n",
       "            : ;\n",
       "            text-align:  left;\n",
       "        }    #T_ac00bcc0_e647_11ea_bf36_482ae32b83darow5_col6 {\n",
       "            : ;\n",
       "            text-align:  left;\n",
       "        }    #T_ac00bcc0_e647_11ea_bf36_482ae32b83darow5_col7 {\n",
       "            : ;\n",
       "            text-align:  left;\n",
       "        }    #T_ac00bcc0_e647_11ea_bf36_482ae32b83darow5_col8 {\n",
       "            background-color:  lightgrey;\n",
       "            text-align:  left;\n",
       "        }    #T_ac00bcc0_e647_11ea_bf36_482ae32b83darow6_col0 {\n",
       "            text-align:  left;\n",
       "        }    #T_ac00bcc0_e647_11ea_bf36_482ae32b83darow6_col1 {\n",
       "            : ;\n",
       "            text-align:  left;\n",
       "        }    #T_ac00bcc0_e647_11ea_bf36_482ae32b83darow6_col2 {\n",
       "            text-align:  left;\n",
       "        }    #T_ac00bcc0_e647_11ea_bf36_482ae32b83darow6_col3 {\n",
       "            : ;\n",
       "            text-align:  left;\n",
       "        }    #T_ac00bcc0_e647_11ea_bf36_482ae32b83darow6_col4 {\n",
       "            : ;\n",
       "            text-align:  left;\n",
       "        }    #T_ac00bcc0_e647_11ea_bf36_482ae32b83darow6_col5 {\n",
       "            : ;\n",
       "            text-align:  left;\n",
       "        }    #T_ac00bcc0_e647_11ea_bf36_482ae32b83darow6_col6 {\n",
       "            : ;\n",
       "            text-align:  left;\n",
       "        }    #T_ac00bcc0_e647_11ea_bf36_482ae32b83darow6_col7 {\n",
       "            : ;\n",
       "            text-align:  left;\n",
       "        }    #T_ac00bcc0_e647_11ea_bf36_482ae32b83darow6_col8 {\n",
       "            background-color:  lightgrey;\n",
       "            text-align:  left;\n",
       "        }    #T_ac00bcc0_e647_11ea_bf36_482ae32b83darow7_col0 {\n",
       "            text-align:  left;\n",
       "        }    #T_ac00bcc0_e647_11ea_bf36_482ae32b83darow7_col1 {\n",
       "            : ;\n",
       "            text-align:  left;\n",
       "        }    #T_ac00bcc0_e647_11ea_bf36_482ae32b83darow7_col2 {\n",
       "            text-align:  left;\n",
       "        }    #T_ac00bcc0_e647_11ea_bf36_482ae32b83darow7_col3 {\n",
       "            : ;\n",
       "            text-align:  left;\n",
       "        }    #T_ac00bcc0_e647_11ea_bf36_482ae32b83darow7_col4 {\n",
       "            : ;\n",
       "            text-align:  left;\n",
       "        }    #T_ac00bcc0_e647_11ea_bf36_482ae32b83darow7_col5 {\n",
       "            : ;\n",
       "            text-align:  left;\n",
       "        }    #T_ac00bcc0_e647_11ea_bf36_482ae32b83darow7_col6 {\n",
       "            : ;\n",
       "            text-align:  left;\n",
       "        }    #T_ac00bcc0_e647_11ea_bf36_482ae32b83darow7_col7 {\n",
       "            : ;\n",
       "            text-align:  left;\n",
       "        }    #T_ac00bcc0_e647_11ea_bf36_482ae32b83darow7_col8 {\n",
       "            background-color:  lightgrey;\n",
       "            text-align:  left;\n",
       "        }    #T_ac00bcc0_e647_11ea_bf36_482ae32b83darow8_col0 {\n",
       "            text-align:  left;\n",
       "        }    #T_ac00bcc0_e647_11ea_bf36_482ae32b83darow8_col1 {\n",
       "            : ;\n",
       "            text-align:  left;\n",
       "        }    #T_ac00bcc0_e647_11ea_bf36_482ae32b83darow8_col2 {\n",
       "            text-align:  left;\n",
       "        }    #T_ac00bcc0_e647_11ea_bf36_482ae32b83darow8_col3 {\n",
       "            : ;\n",
       "            text-align:  left;\n",
       "        }    #T_ac00bcc0_e647_11ea_bf36_482ae32b83darow8_col4 {\n",
       "            : ;\n",
       "            text-align:  left;\n",
       "        }    #T_ac00bcc0_e647_11ea_bf36_482ae32b83darow8_col5 {\n",
       "            : ;\n",
       "            text-align:  left;\n",
       "        }    #T_ac00bcc0_e647_11ea_bf36_482ae32b83darow8_col6 {\n",
       "            : ;\n",
       "            text-align:  left;\n",
       "        }    #T_ac00bcc0_e647_11ea_bf36_482ae32b83darow8_col7 {\n",
       "            : ;\n",
       "            text-align:  left;\n",
       "        }    #T_ac00bcc0_e647_11ea_bf36_482ae32b83darow8_col8 {\n",
       "            background-color:  lightgrey;\n",
       "            text-align:  left;\n",
       "        }    #T_ac00bcc0_e647_11ea_bf36_482ae32b83darow9_col0 {\n",
       "            text-align:  left;\n",
       "        }    #T_ac00bcc0_e647_11ea_bf36_482ae32b83darow9_col1 {\n",
       "            : ;\n",
       "            text-align:  left;\n",
       "        }    #T_ac00bcc0_e647_11ea_bf36_482ae32b83darow9_col2 {\n",
       "            text-align:  left;\n",
       "        }    #T_ac00bcc0_e647_11ea_bf36_482ae32b83darow9_col3 {\n",
       "            : ;\n",
       "            text-align:  left;\n",
       "        }    #T_ac00bcc0_e647_11ea_bf36_482ae32b83darow9_col4 {\n",
       "            : ;\n",
       "            text-align:  left;\n",
       "        }    #T_ac00bcc0_e647_11ea_bf36_482ae32b83darow9_col5 {\n",
       "            : ;\n",
       "            text-align:  left;\n",
       "        }    #T_ac00bcc0_e647_11ea_bf36_482ae32b83darow9_col6 {\n",
       "            : ;\n",
       "            text-align:  left;\n",
       "        }    #T_ac00bcc0_e647_11ea_bf36_482ae32b83darow9_col7 {\n",
       "            : ;\n",
       "            text-align:  left;\n",
       "        }    #T_ac00bcc0_e647_11ea_bf36_482ae32b83darow9_col8 {\n",
       "            background-color:  lightgrey;\n",
       "            text-align:  left;\n",
       "        }    #T_ac00bcc0_e647_11ea_bf36_482ae32b83darow10_col0 {\n",
       "            text-align:  left;\n",
       "        }    #T_ac00bcc0_e647_11ea_bf36_482ae32b83darow10_col1 {\n",
       "            : ;\n",
       "            text-align:  left;\n",
       "        }    #T_ac00bcc0_e647_11ea_bf36_482ae32b83darow10_col2 {\n",
       "            text-align:  left;\n",
       "        }    #T_ac00bcc0_e647_11ea_bf36_482ae32b83darow10_col3 {\n",
       "            : ;\n",
       "            text-align:  left;\n",
       "        }    #T_ac00bcc0_e647_11ea_bf36_482ae32b83darow10_col4 {\n",
       "            : ;\n",
       "            text-align:  left;\n",
       "        }    #T_ac00bcc0_e647_11ea_bf36_482ae32b83darow10_col5 {\n",
       "            : ;\n",
       "            text-align:  left;\n",
       "        }    #T_ac00bcc0_e647_11ea_bf36_482ae32b83darow10_col6 {\n",
       "            : ;\n",
       "            text-align:  left;\n",
       "        }    #T_ac00bcc0_e647_11ea_bf36_482ae32b83darow10_col7 {\n",
       "            : ;\n",
       "            text-align:  left;\n",
       "        }    #T_ac00bcc0_e647_11ea_bf36_482ae32b83darow10_col8 {\n",
       "            background-color:  lightgrey;\n",
       "            text-align:  left;\n",
       "        }    #T_ac00bcc0_e647_11ea_bf36_482ae32b83darow11_col0 {\n",
       "            text-align:  left;\n",
       "        }    #T_ac00bcc0_e647_11ea_bf36_482ae32b83darow11_col1 {\n",
       "            : ;\n",
       "            text-align:  left;\n",
       "        }    #T_ac00bcc0_e647_11ea_bf36_482ae32b83darow11_col2 {\n",
       "            text-align:  left;\n",
       "        }    #T_ac00bcc0_e647_11ea_bf36_482ae32b83darow11_col3 {\n",
       "            : ;\n",
       "            text-align:  left;\n",
       "        }    #T_ac00bcc0_e647_11ea_bf36_482ae32b83darow11_col4 {\n",
       "            : ;\n",
       "            text-align:  left;\n",
       "        }    #T_ac00bcc0_e647_11ea_bf36_482ae32b83darow11_col5 {\n",
       "            : ;\n",
       "            text-align:  left;\n",
       "        }    #T_ac00bcc0_e647_11ea_bf36_482ae32b83darow11_col6 {\n",
       "            : ;\n",
       "            text-align:  left;\n",
       "        }    #T_ac00bcc0_e647_11ea_bf36_482ae32b83darow11_col7 {\n",
       "            : ;\n",
       "            text-align:  left;\n",
       "        }    #T_ac00bcc0_e647_11ea_bf36_482ae32b83darow11_col8 {\n",
       "            background-color:  lightgrey;\n",
       "            text-align:  left;\n",
       "        }    #T_ac00bcc0_e647_11ea_bf36_482ae32b83darow12_col0 {\n",
       "            text-align:  left;\n",
       "        }    #T_ac00bcc0_e647_11ea_bf36_482ae32b83darow12_col1 {\n",
       "            : ;\n",
       "            text-align:  left;\n",
       "        }    #T_ac00bcc0_e647_11ea_bf36_482ae32b83darow12_col2 {\n",
       "            text-align:  left;\n",
       "        }    #T_ac00bcc0_e647_11ea_bf36_482ae32b83darow12_col3 {\n",
       "            : ;\n",
       "            text-align:  left;\n",
       "        }    #T_ac00bcc0_e647_11ea_bf36_482ae32b83darow12_col4 {\n",
       "            : ;\n",
       "            text-align:  left;\n",
       "        }    #T_ac00bcc0_e647_11ea_bf36_482ae32b83darow12_col5 {\n",
       "            : ;\n",
       "            text-align:  left;\n",
       "        }    #T_ac00bcc0_e647_11ea_bf36_482ae32b83darow12_col6 {\n",
       "            : ;\n",
       "            text-align:  left;\n",
       "        }    #T_ac00bcc0_e647_11ea_bf36_482ae32b83darow12_col7 {\n",
       "            : ;\n",
       "            text-align:  left;\n",
       "        }    #T_ac00bcc0_e647_11ea_bf36_482ae32b83darow12_col8 {\n",
       "            background-color:  lightgrey;\n",
       "            text-align:  left;\n",
       "        }    #T_ac00bcc0_e647_11ea_bf36_482ae32b83darow13_col0 {\n",
       "            text-align:  left;\n",
       "        }    #T_ac00bcc0_e647_11ea_bf36_482ae32b83darow13_col1 {\n",
       "            : ;\n",
       "            text-align:  left;\n",
       "        }    #T_ac00bcc0_e647_11ea_bf36_482ae32b83darow13_col2 {\n",
       "            text-align:  left;\n",
       "        }    #T_ac00bcc0_e647_11ea_bf36_482ae32b83darow13_col3 {\n",
       "            : ;\n",
       "            text-align:  left;\n",
       "        }    #T_ac00bcc0_e647_11ea_bf36_482ae32b83darow13_col4 {\n",
       "            : ;\n",
       "            text-align:  left;\n",
       "        }    #T_ac00bcc0_e647_11ea_bf36_482ae32b83darow13_col5 {\n",
       "            : ;\n",
       "            text-align:  left;\n",
       "        }    #T_ac00bcc0_e647_11ea_bf36_482ae32b83darow13_col6 {\n",
       "            : ;\n",
       "            text-align:  left;\n",
       "        }    #T_ac00bcc0_e647_11ea_bf36_482ae32b83darow13_col7 {\n",
       "            : ;\n",
       "            text-align:  left;\n",
       "        }    #T_ac00bcc0_e647_11ea_bf36_482ae32b83darow13_col8 {\n",
       "            background-color:  lightgrey;\n",
       "            text-align:  left;\n",
       "        }    #T_ac00bcc0_e647_11ea_bf36_482ae32b83darow14_col0 {\n",
       "            text-align:  left;\n",
       "        }    #T_ac00bcc0_e647_11ea_bf36_482ae32b83darow14_col1 {\n",
       "            : ;\n",
       "            text-align:  left;\n",
       "        }    #T_ac00bcc0_e647_11ea_bf36_482ae32b83darow14_col2 {\n",
       "            text-align:  left;\n",
       "        }    #T_ac00bcc0_e647_11ea_bf36_482ae32b83darow14_col3 {\n",
       "            : ;\n",
       "            text-align:  left;\n",
       "        }    #T_ac00bcc0_e647_11ea_bf36_482ae32b83darow14_col4 {\n",
       "            : ;\n",
       "            text-align:  left;\n",
       "        }    #T_ac00bcc0_e647_11ea_bf36_482ae32b83darow14_col5 {\n",
       "            : ;\n",
       "            text-align:  left;\n",
       "        }    #T_ac00bcc0_e647_11ea_bf36_482ae32b83darow14_col6 {\n",
       "            : ;\n",
       "            text-align:  left;\n",
       "        }    #T_ac00bcc0_e647_11ea_bf36_482ae32b83darow14_col7 {\n",
       "            : ;\n",
       "            text-align:  left;\n",
       "        }    #T_ac00bcc0_e647_11ea_bf36_482ae32b83darow14_col8 {\n",
       "            background-color:  lightgrey;\n",
       "            text-align:  left;\n",
       "        }</style><table id=\"T_ac00bcc0_e647_11ea_bf36_482ae32b83da\" ><thead>    <tr>        <th class=\"blank level0\" ></th>        <th class=\"col_heading level0 col0\" >Model</th>        <th class=\"col_heading level0 col1\" >Accuracy</th>        <th class=\"col_heading level0 col2\" >AUC</th>        <th class=\"col_heading level0 col3\" >Recall</th>        <th class=\"col_heading level0 col4\" >Prec.</th>        <th class=\"col_heading level0 col5\" >F1</th>        <th class=\"col_heading level0 col6\" >Kappa</th>        <th class=\"col_heading level0 col7\" >MCC</th>        <th class=\"col_heading level0 col8\" >TT (Sec)</th>    </tr></thead><tbody>\n",
       "                <tr>\n",
       "                        <th id=\"T_ac00bcc0_e647_11ea_bf36_482ae32b83dalevel0_row0\" class=\"row_heading level0 row0\" >0</th>\n",
       "                        <td id=\"T_ac00bcc0_e647_11ea_bf36_482ae32b83darow0_col0\" class=\"data row0 col0\" >Naive Bayes</td>\n",
       "                        <td id=\"T_ac00bcc0_e647_11ea_bf36_482ae32b83darow0_col1\" class=\"data row0 col1\" >0.9567</td>\n",
       "                        <td id=\"T_ac00bcc0_e647_11ea_bf36_482ae32b83darow0_col2\" class=\"data row0 col2\" >0.0000</td>\n",
       "                        <td id=\"T_ac00bcc0_e647_11ea_bf36_482ae32b83darow0_col3\" class=\"data row0 col3\" >0.9556</td>\n",
       "                        <td id=\"T_ac00bcc0_e647_11ea_bf36_482ae32b83darow0_col4\" class=\"data row0 col4\" >0.9619</td>\n",
       "                        <td id=\"T_ac00bcc0_e647_11ea_bf36_482ae32b83darow0_col5\" class=\"data row0 col5\" >0.9561</td>\n",
       "                        <td id=\"T_ac00bcc0_e647_11ea_bf36_482ae32b83darow0_col6\" class=\"data row0 col6\" >0.9348</td>\n",
       "                        <td id=\"T_ac00bcc0_e647_11ea_bf36_482ae32b83darow0_col7\" class=\"data row0 col7\" >0.9378</td>\n",
       "                        <td id=\"T_ac00bcc0_e647_11ea_bf36_482ae32b83darow0_col8\" class=\"data row0 col8\" >0.0076</td>\n",
       "            </tr>\n",
       "            <tr>\n",
       "                        <th id=\"T_ac00bcc0_e647_11ea_bf36_482ae32b83dalevel0_row1\" class=\"row_heading level0 row1\" >1</th>\n",
       "                        <td id=\"T_ac00bcc0_e647_11ea_bf36_482ae32b83darow1_col0\" class=\"data row1 col0\" >K Neighbors Classifier</td>\n",
       "                        <td id=\"T_ac00bcc0_e647_11ea_bf36_482ae32b83darow1_col1\" class=\"data row1 col1\" >0.9467</td>\n",
       "                        <td id=\"T_ac00bcc0_e647_11ea_bf36_482ae32b83darow1_col2\" class=\"data row1 col2\" >0.0000</td>\n",
       "                        <td id=\"T_ac00bcc0_e647_11ea_bf36_482ae32b83darow1_col3\" class=\"data row1 col3\" >0.9444</td>\n",
       "                        <td id=\"T_ac00bcc0_e647_11ea_bf36_482ae32b83darow1_col4\" class=\"data row1 col4\" >0.9633</td>\n",
       "                        <td id=\"T_ac00bcc0_e647_11ea_bf36_482ae32b83darow1_col5\" class=\"data row1 col5\" >0.9430</td>\n",
       "                        <td id=\"T_ac00bcc0_e647_11ea_bf36_482ae32b83darow1_col6\" class=\"data row1 col6\" >0.9197</td>\n",
       "                        <td id=\"T_ac00bcc0_e647_11ea_bf36_482ae32b83darow1_col7\" class=\"data row1 col7\" >0.9295</td>\n",
       "                        <td id=\"T_ac00bcc0_e647_11ea_bf36_482ae32b83darow1_col8\" class=\"data row1 col8\" >0.0077</td>\n",
       "            </tr>\n",
       "            <tr>\n",
       "                        <th id=\"T_ac00bcc0_e647_11ea_bf36_482ae32b83dalevel0_row2\" class=\"row_heading level0 row2\" >2</th>\n",
       "                        <td id=\"T_ac00bcc0_e647_11ea_bf36_482ae32b83darow2_col0\" class=\"data row2 col0\" >Extreme Gradient Boosting</td>\n",
       "                        <td id=\"T_ac00bcc0_e647_11ea_bf36_482ae32b83darow2_col1\" class=\"data row2 col1\" >0.9467</td>\n",
       "                        <td id=\"T_ac00bcc0_e647_11ea_bf36_482ae32b83darow2_col2\" class=\"data row2 col2\" >0.0000</td>\n",
       "                        <td id=\"T_ac00bcc0_e647_11ea_bf36_482ae32b83darow2_col3\" class=\"data row2 col3\" >0.9444</td>\n",
       "                        <td id=\"T_ac00bcc0_e647_11ea_bf36_482ae32b83darow2_col4\" class=\"data row2 col4\" >0.9633</td>\n",
       "                        <td id=\"T_ac00bcc0_e647_11ea_bf36_482ae32b83darow2_col5\" class=\"data row2 col5\" >0.9430</td>\n",
       "                        <td id=\"T_ac00bcc0_e647_11ea_bf36_482ae32b83darow2_col6\" class=\"data row2 col6\" >0.9197</td>\n",
       "                        <td id=\"T_ac00bcc0_e647_11ea_bf36_482ae32b83darow2_col7\" class=\"data row2 col7\" >0.9295</td>\n",
       "                        <td id=\"T_ac00bcc0_e647_11ea_bf36_482ae32b83darow2_col8\" class=\"data row2 col8\" >0.0521</td>\n",
       "            </tr>\n",
       "            <tr>\n",
       "                        <th id=\"T_ac00bcc0_e647_11ea_bf36_482ae32b83dalevel0_row3\" class=\"row_heading level0 row3\" >3</th>\n",
       "                        <td id=\"T_ac00bcc0_e647_11ea_bf36_482ae32b83darow3_col0\" class=\"data row3 col0\" >Light Gradient Boosting Machine</td>\n",
       "                        <td id=\"T_ac00bcc0_e647_11ea_bf36_482ae32b83darow3_col1\" class=\"data row3 col1\" >0.9467</td>\n",
       "                        <td id=\"T_ac00bcc0_e647_11ea_bf36_482ae32b83darow3_col2\" class=\"data row3 col2\" >0.0000</td>\n",
       "                        <td id=\"T_ac00bcc0_e647_11ea_bf36_482ae32b83darow3_col3\" class=\"data row3 col3\" >0.9444</td>\n",
       "                        <td id=\"T_ac00bcc0_e647_11ea_bf36_482ae32b83darow3_col4\" class=\"data row3 col4\" >0.9600</td>\n",
       "                        <td id=\"T_ac00bcc0_e647_11ea_bf36_482ae32b83darow3_col5\" class=\"data row3 col5\" >0.9451</td>\n",
       "                        <td id=\"T_ac00bcc0_e647_11ea_bf36_482ae32b83darow3_col6\" class=\"data row3 col6\" >0.9197</td>\n",
       "                        <td id=\"T_ac00bcc0_e647_11ea_bf36_482ae32b83darow3_col7\" class=\"data row3 col7\" >0.9271</td>\n",
       "                        <td id=\"T_ac00bcc0_e647_11ea_bf36_482ae32b83darow3_col8\" class=\"data row3 col8\" >0.0606</td>\n",
       "            </tr>\n",
       "            <tr>\n",
       "                        <th id=\"T_ac00bcc0_e647_11ea_bf36_482ae32b83dalevel0_row4\" class=\"row_heading level0 row4\" >4</th>\n",
       "                        <td id=\"T_ac00bcc0_e647_11ea_bf36_482ae32b83darow4_col0\" class=\"data row4 col0\" >Random Forest Classifier</td>\n",
       "                        <td id=\"T_ac00bcc0_e647_11ea_bf36_482ae32b83darow4_col1\" class=\"data row4 col1\" >0.9456</td>\n",
       "                        <td id=\"T_ac00bcc0_e647_11ea_bf36_482ae32b83darow4_col2\" class=\"data row4 col2\" >0.0000</td>\n",
       "                        <td id=\"T_ac00bcc0_e647_11ea_bf36_482ae32b83darow4_col3\" class=\"data row4 col3\" >0.9444</td>\n",
       "                        <td id=\"T_ac00bcc0_e647_11ea_bf36_482ae32b83darow4_col4\" class=\"data row4 col4\" >0.9536</td>\n",
       "                        <td id=\"T_ac00bcc0_e647_11ea_bf36_482ae32b83darow4_col5\" class=\"data row4 col5\" >0.9446</td>\n",
       "                        <td id=\"T_ac00bcc0_e647_11ea_bf36_482ae32b83darow4_col6\" class=\"data row4 col6\" >0.9182</td>\n",
       "                        <td id=\"T_ac00bcc0_e647_11ea_bf36_482ae32b83darow4_col7\" class=\"data row4 col7\" >0.9227</td>\n",
       "                        <td id=\"T_ac00bcc0_e647_11ea_bf36_482ae32b83darow4_col8\" class=\"data row4 col8\" >0.2123</td>\n",
       "            </tr>\n",
       "            <tr>\n",
       "                        <th id=\"T_ac00bcc0_e647_11ea_bf36_482ae32b83dalevel0_row5\" class=\"row_heading level0 row5\" >5</th>\n",
       "                        <td id=\"T_ac00bcc0_e647_11ea_bf36_482ae32b83darow5_col0\" class=\"data row5 col0\" >Quadratic Discriminant Analysis</td>\n",
       "                        <td id=\"T_ac00bcc0_e647_11ea_bf36_482ae32b83darow5_col1\" class=\"data row5 col1\" >0.9456</td>\n",
       "                        <td id=\"T_ac00bcc0_e647_11ea_bf36_482ae32b83darow5_col2\" class=\"data row5 col2\" >0.0000</td>\n",
       "                        <td id=\"T_ac00bcc0_e647_11ea_bf36_482ae32b83darow5_col3\" class=\"data row5 col3\" >0.9444</td>\n",
       "                        <td id=\"T_ac00bcc0_e647_11ea_bf36_482ae32b83darow5_col4\" class=\"data row5 col4\" >0.9536</td>\n",
       "                        <td id=\"T_ac00bcc0_e647_11ea_bf36_482ae32b83darow5_col5\" class=\"data row5 col5\" >0.9446</td>\n",
       "                        <td id=\"T_ac00bcc0_e647_11ea_bf36_482ae32b83darow5_col6\" class=\"data row5 col6\" >0.9182</td>\n",
       "                        <td id=\"T_ac00bcc0_e647_11ea_bf36_482ae32b83darow5_col7\" class=\"data row5 col7\" >0.9227</td>\n",
       "                        <td id=\"T_ac00bcc0_e647_11ea_bf36_482ae32b83darow5_col8\" class=\"data row5 col8\" >0.0071</td>\n",
       "            </tr>\n",
       "            <tr>\n",
       "                        <th id=\"T_ac00bcc0_e647_11ea_bf36_482ae32b83dalevel0_row6\" class=\"row_heading level0 row6\" >6</th>\n",
       "                        <td id=\"T_ac00bcc0_e647_11ea_bf36_482ae32b83darow6_col0\" class=\"data row6 col0\" >Extra Trees Classifier</td>\n",
       "                        <td id=\"T_ac00bcc0_e647_11ea_bf36_482ae32b83darow6_col1\" class=\"data row6 col1\" >0.9356</td>\n",
       "                        <td id=\"T_ac00bcc0_e647_11ea_bf36_482ae32b83darow6_col2\" class=\"data row6 col2\" >0.0000</td>\n",
       "                        <td id=\"T_ac00bcc0_e647_11ea_bf36_482ae32b83darow6_col3\" class=\"data row6 col3\" >0.9333</td>\n",
       "                        <td id=\"T_ac00bcc0_e647_11ea_bf36_482ae32b83darow6_col4\" class=\"data row6 col4\" >0.9433</td>\n",
       "                        <td id=\"T_ac00bcc0_e647_11ea_bf36_482ae32b83darow6_col5\" class=\"data row6 col5\" >0.9337</td>\n",
       "                        <td id=\"T_ac00bcc0_e647_11ea_bf36_482ae32b83darow6_col6\" class=\"data row6 col6\" >0.9030</td>\n",
       "                        <td id=\"T_ac00bcc0_e647_11ea_bf36_482ae32b83darow6_col7\" class=\"data row6 col7\" >0.9082</td>\n",
       "                        <td id=\"T_ac00bcc0_e647_11ea_bf36_482ae32b83darow6_col8\" class=\"data row6 col8\" >0.3872</td>\n",
       "            </tr>\n",
       "            <tr>\n",
       "                        <th id=\"T_ac00bcc0_e647_11ea_bf36_482ae32b83dalevel0_row7\" class=\"row_heading level0 row7\" >7</th>\n",
       "                        <td id=\"T_ac00bcc0_e647_11ea_bf36_482ae32b83darow7_col0\" class=\"data row7 col0\" >CatBoost Classifier</td>\n",
       "                        <td id=\"T_ac00bcc0_e647_11ea_bf36_482ae32b83darow7_col1\" class=\"data row7 col1\" >0.9356</td>\n",
       "                        <td id=\"T_ac00bcc0_e647_11ea_bf36_482ae32b83darow7_col2\" class=\"data row7 col2\" >0.0000</td>\n",
       "                        <td id=\"T_ac00bcc0_e647_11ea_bf36_482ae32b83darow7_col3\" class=\"data row7 col3\" >0.9333</td>\n",
       "                        <td id=\"T_ac00bcc0_e647_11ea_bf36_482ae32b83darow7_col4\" class=\"data row7 col4\" >0.9433</td>\n",
       "                        <td id=\"T_ac00bcc0_e647_11ea_bf36_482ae32b83darow7_col5\" class=\"data row7 col5\" >0.9337</td>\n",
       "                        <td id=\"T_ac00bcc0_e647_11ea_bf36_482ae32b83darow7_col6\" class=\"data row7 col6\" >0.9030</td>\n",
       "                        <td id=\"T_ac00bcc0_e647_11ea_bf36_482ae32b83darow7_col7\" class=\"data row7 col7\" >0.9082</td>\n",
       "                        <td id=\"T_ac00bcc0_e647_11ea_bf36_482ae32b83darow7_col8\" class=\"data row7 col8\" >2.1596</td>\n",
       "            </tr>\n",
       "            <tr>\n",
       "                        <th id=\"T_ac00bcc0_e647_11ea_bf36_482ae32b83dalevel0_row8\" class=\"row_heading level0 row8\" >8</th>\n",
       "                        <td id=\"T_ac00bcc0_e647_11ea_bf36_482ae32b83darow8_col0\" class=\"data row8 col0\" >Gradient Boosting Classifier</td>\n",
       "                        <td id=\"T_ac00bcc0_e647_11ea_bf36_482ae32b83darow8_col1\" class=\"data row8 col1\" >0.9344</td>\n",
       "                        <td id=\"T_ac00bcc0_e647_11ea_bf36_482ae32b83darow8_col2\" class=\"data row8 col2\" >0.0000</td>\n",
       "                        <td id=\"T_ac00bcc0_e647_11ea_bf36_482ae32b83darow8_col3\" class=\"data row8 col3\" >0.9333</td>\n",
       "                        <td id=\"T_ac00bcc0_e647_11ea_bf36_482ae32b83darow8_col4\" class=\"data row8 col4\" >0.9453</td>\n",
       "                        <td id=\"T_ac00bcc0_e647_11ea_bf36_482ae32b83darow8_col5\" class=\"data row8 col5\" >0.9332</td>\n",
       "                        <td id=\"T_ac00bcc0_e647_11ea_bf36_482ae32b83darow8_col6\" class=\"data row8 col6\" >0.9015</td>\n",
       "                        <td id=\"T_ac00bcc0_e647_11ea_bf36_482ae32b83darow8_col7\" class=\"data row8 col7\" >0.9076</td>\n",
       "                        <td id=\"T_ac00bcc0_e647_11ea_bf36_482ae32b83darow8_col8\" class=\"data row8 col8\" >0.1215</td>\n",
       "            </tr>\n",
       "            <tr>\n",
       "                        <th id=\"T_ac00bcc0_e647_11ea_bf36_482ae32b83dalevel0_row9\" class=\"row_heading level0 row9\" >9</th>\n",
       "                        <td id=\"T_ac00bcc0_e647_11ea_bf36_482ae32b83darow9_col0\" class=\"data row9 col0\" >Logistic Regression</td>\n",
       "                        <td id=\"T_ac00bcc0_e647_11ea_bf36_482ae32b83darow9_col1\" class=\"data row9 col1\" >0.9244</td>\n",
       "                        <td id=\"T_ac00bcc0_e647_11ea_bf36_482ae32b83darow9_col2\" class=\"data row9 col2\" >0.0000</td>\n",
       "                        <td id=\"T_ac00bcc0_e647_11ea_bf36_482ae32b83darow9_col3\" class=\"data row9 col3\" >0.9222</td>\n",
       "                        <td id=\"T_ac00bcc0_e647_11ea_bf36_482ae32b83darow9_col4\" class=\"data row9 col4\" >0.9345</td>\n",
       "                        <td id=\"T_ac00bcc0_e647_11ea_bf36_482ae32b83darow9_col5\" class=\"data row9 col5\" >0.9221</td>\n",
       "                        <td id=\"T_ac00bcc0_e647_11ea_bf36_482ae32b83darow9_col6\" class=\"data row9 col6\" >0.8861</td>\n",
       "                        <td id=\"T_ac00bcc0_e647_11ea_bf36_482ae32b83darow9_col7\" class=\"data row9 col7\" >0.8929</td>\n",
       "                        <td id=\"T_ac00bcc0_e647_11ea_bf36_482ae32b83darow9_col8\" class=\"data row9 col8\" >0.0213</td>\n",
       "            </tr>\n",
       "            <tr>\n",
       "                        <th id=\"T_ac00bcc0_e647_11ea_bf36_482ae32b83dalevel0_row10\" class=\"row_heading level0 row10\" >10</th>\n",
       "                        <td id=\"T_ac00bcc0_e647_11ea_bf36_482ae32b83darow10_col0\" class=\"data row10 col0\" >Ada Boost Classifier</td>\n",
       "                        <td id=\"T_ac00bcc0_e647_11ea_bf36_482ae32b83darow10_col1\" class=\"data row10 col1\" >0.9244</td>\n",
       "                        <td id=\"T_ac00bcc0_e647_11ea_bf36_482ae32b83darow10_col2\" class=\"data row10 col2\" >0.0000</td>\n",
       "                        <td id=\"T_ac00bcc0_e647_11ea_bf36_482ae32b83darow10_col3\" class=\"data row10 col3\" >0.9222</td>\n",
       "                        <td id=\"T_ac00bcc0_e647_11ea_bf36_482ae32b83darow10_col4\" class=\"data row10 col4\" >0.9350</td>\n",
       "                        <td id=\"T_ac00bcc0_e647_11ea_bf36_482ae32b83darow10_col5\" class=\"data row10 col5\" >0.9223</td>\n",
       "                        <td id=\"T_ac00bcc0_e647_11ea_bf36_482ae32b83darow10_col6\" class=\"data row10 col6\" >0.8864</td>\n",
       "                        <td id=\"T_ac00bcc0_e647_11ea_bf36_482ae32b83darow10_col7\" class=\"data row10 col7\" >0.8931</td>\n",
       "                        <td id=\"T_ac00bcc0_e647_11ea_bf36_482ae32b83darow10_col8\" class=\"data row10 col8\" >0.1121</td>\n",
       "            </tr>\n",
       "            <tr>\n",
       "                        <th id=\"T_ac00bcc0_e647_11ea_bf36_482ae32b83dalevel0_row11\" class=\"row_heading level0 row11\" >11</th>\n",
       "                        <td id=\"T_ac00bcc0_e647_11ea_bf36_482ae32b83darow11_col0\" class=\"data row11 col0\" >Decision Tree Classifier</td>\n",
       "                        <td id=\"T_ac00bcc0_e647_11ea_bf36_482ae32b83darow11_col1\" class=\"data row11 col1\" >0.9233</td>\n",
       "                        <td id=\"T_ac00bcc0_e647_11ea_bf36_482ae32b83darow11_col2\" class=\"data row11 col2\" >0.0000</td>\n",
       "                        <td id=\"T_ac00bcc0_e647_11ea_bf36_482ae32b83darow11_col3\" class=\"data row11 col3\" >0.9222</td>\n",
       "                        <td id=\"T_ac00bcc0_e647_11ea_bf36_482ae32b83darow11_col4\" class=\"data row11 col4\" >0.9342</td>\n",
       "                        <td id=\"T_ac00bcc0_e647_11ea_bf36_482ae32b83darow11_col5\" class=\"data row11 col5\" >0.9211</td>\n",
       "                        <td id=\"T_ac00bcc0_e647_11ea_bf36_482ae32b83darow11_col6\" class=\"data row11 col6\" >0.8848</td>\n",
       "                        <td id=\"T_ac00bcc0_e647_11ea_bf36_482ae32b83darow11_col7\" class=\"data row11 col7\" >0.8919</td>\n",
       "                        <td id=\"T_ac00bcc0_e647_11ea_bf36_482ae32b83darow11_col8\" class=\"data row11 col8\" >0.0082</td>\n",
       "            </tr>\n",
       "            <tr>\n",
       "                        <th id=\"T_ac00bcc0_e647_11ea_bf36_482ae32b83dalevel0_row12\" class=\"row_heading level0 row12\" >12</th>\n",
       "                        <td id=\"T_ac00bcc0_e647_11ea_bf36_482ae32b83darow12_col0\" class=\"data row12 col0\" >Linear Discriminant Analysis</td>\n",
       "                        <td id=\"T_ac00bcc0_e647_11ea_bf36_482ae32b83darow12_col1\" class=\"data row12 col1\" >0.8611</td>\n",
       "                        <td id=\"T_ac00bcc0_e647_11ea_bf36_482ae32b83darow12_col2\" class=\"data row12 col2\" >0.0000</td>\n",
       "                        <td id=\"T_ac00bcc0_e647_11ea_bf36_482ae32b83darow12_col3\" class=\"data row12 col3\" >0.8667</td>\n",
       "                        <td id=\"T_ac00bcc0_e647_11ea_bf36_482ae32b83darow12_col4\" class=\"data row12 col4\" >0.8520</td>\n",
       "                        <td id=\"T_ac00bcc0_e647_11ea_bf36_482ae32b83darow12_col5\" class=\"data row12 col5\" >0.8482</td>\n",
       "                        <td id=\"T_ac00bcc0_e647_11ea_bf36_482ae32b83darow12_col6\" class=\"data row12 col6\" >0.7944</td>\n",
       "                        <td id=\"T_ac00bcc0_e647_11ea_bf36_482ae32b83darow12_col7\" class=\"data row12 col7\" >0.8130</td>\n",
       "                        <td id=\"T_ac00bcc0_e647_11ea_bf36_482ae32b83darow12_col8\" class=\"data row12 col8\" >0.0081</td>\n",
       "            </tr>\n",
       "            <tr>\n",
       "                        <th id=\"T_ac00bcc0_e647_11ea_bf36_482ae32b83dalevel0_row13\" class=\"row_heading level0 row13\" >13</th>\n",
       "                        <td id=\"T_ac00bcc0_e647_11ea_bf36_482ae32b83darow13_col0\" class=\"data row13 col0\" >Ridge Classifier</td>\n",
       "                        <td id=\"T_ac00bcc0_e647_11ea_bf36_482ae32b83darow13_col1\" class=\"data row13 col1\" >0.8289</td>\n",
       "                        <td id=\"T_ac00bcc0_e647_11ea_bf36_482ae32b83darow13_col2\" class=\"data row13 col2\" >0.0000</td>\n",
       "                        <td id=\"T_ac00bcc0_e647_11ea_bf36_482ae32b83darow13_col3\" class=\"data row13 col3\" >0.8361</td>\n",
       "                        <td id=\"T_ac00bcc0_e647_11ea_bf36_482ae32b83darow13_col4\" class=\"data row13 col4\" >0.8251</td>\n",
       "                        <td id=\"T_ac00bcc0_e647_11ea_bf36_482ae32b83darow13_col5\" class=\"data row13 col5\" >0.8147</td>\n",
       "                        <td id=\"T_ac00bcc0_e647_11ea_bf36_482ae32b83darow13_col6\" class=\"data row13 col6\" >0.7461</td>\n",
       "                        <td id=\"T_ac00bcc0_e647_11ea_bf36_482ae32b83darow13_col7\" class=\"data row13 col7\" >0.7686</td>\n",
       "                        <td id=\"T_ac00bcc0_e647_11ea_bf36_482ae32b83darow13_col8\" class=\"data row13 col8\" >0.0098</td>\n",
       "            </tr>\n",
       "            <tr>\n",
       "                        <th id=\"T_ac00bcc0_e647_11ea_bf36_482ae32b83dalevel0_row14\" class=\"row_heading level0 row14\" >14</th>\n",
       "                        <td id=\"T_ac00bcc0_e647_11ea_bf36_482ae32b83darow14_col0\" class=\"data row14 col0\" >SVM - Linear Kernel</td>\n",
       "                        <td id=\"T_ac00bcc0_e647_11ea_bf36_482ae32b83darow14_col1\" class=\"data row14 col1\" >0.7233</td>\n",
       "                        <td id=\"T_ac00bcc0_e647_11ea_bf36_482ae32b83darow14_col2\" class=\"data row14 col2\" >0.0000</td>\n",
       "                        <td id=\"T_ac00bcc0_e647_11ea_bf36_482ae32b83darow14_col3\" class=\"data row14 col3\" >0.7222</td>\n",
       "                        <td id=\"T_ac00bcc0_e647_11ea_bf36_482ae32b83darow14_col4\" class=\"data row14 col4\" >0.6520</td>\n",
       "                        <td id=\"T_ac00bcc0_e647_11ea_bf36_482ae32b83darow14_col5\" class=\"data row14 col5\" >0.6502</td>\n",
       "                        <td id=\"T_ac00bcc0_e647_11ea_bf36_482ae32b83darow14_col6\" class=\"data row14 col6\" >0.5884</td>\n",
       "                        <td id=\"T_ac00bcc0_e647_11ea_bf36_482ae32b83darow14_col7\" class=\"data row14 col7\" >0.6439</td>\n",
       "                        <td id=\"T_ac00bcc0_e647_11ea_bf36_482ae32b83darow14_col8\" class=\"data row14 col8\" >0.0093</td>\n",
       "            </tr>\n",
       "    </tbody></table>"
      ],
      "text/plain": [
       "<pandas.io.formats.style.Styler at 0x1faef519548>"
      ]
     },
     "metadata": {},
     "output_type": "display_data"
    }
   ],
   "source": [
    "best = compare_models()"
   ]
  },
  {
   "cell_type": "markdown",
   "metadata": {
    "colab_type": "text",
    "id": "JxcCbKtffuNV"
   },
   "source": [
    "Two simple words of code ***(not even a line)*** have trained and evaluated over 15 models using cross validation. The score grid printed above highlights the highest performing metric for comparison purposes only. The grid by default is sorted using 'Accuracy' (highest to lowest) which can be changed by passing the `sort` parameter. For example `compare_models(sort = 'Recall')` will sort the grid by Recall instead of `Accuracy`. If you want to change the fold parameter from the default value of `10` to a different value then you can use the `fold` parameter. For example `compare_models(fold = 5)` will compare all models on 5 fold cross validation. Reducing the number of folds will improve the training time. By default, `compare_models` return the best performing model based on default sort order but can be used to return a list of top N models by using `n_select` parameter.\n",
    "\n",
    "**Note:** The `AUC` metric is not available for Multiclass classification however the column will still be shown with `zero` values to maintain consistency between the Binary Classification and Multiclass Classification display grids. "
   ]
  },
  {
   "cell_type": "markdown",
   "metadata": {
    "colab_type": "text",
    "id": "qH7AeJqjfuNX"
   },
   "source": [
    "# 8.0 Create a Model"
   ]
  },
  {
   "cell_type": "markdown",
   "metadata": {
    "colab_type": "text",
    "id": "UM0qn2f_fuNY"
   },
   "source": [
    "`create_model` is the most granular function in PyCaret and is often the foundation behind most of the PyCaret functionalities. As the name suggests this function trains and evaluates a model using cross validation that can be set with `fold` parameter. The output prints a score grid that shows Accuracy, Recall, Precision, F1, Kappa and MCC by fold. \n",
    "\n",
    "For the remaining part of this tutorial, we will work with the below models as our candidate models. The selections are for illustration purposes only and do not necessarily mean they are the top performing or ideal for this type of data.\n",
    "\n",
    "- Decision Tree Classifier ('dt')\n",
    "- K Neighbors Classifier ('knn')\n",
    "- Logistic Regression ('lr')\n",
    "\n",
    "There are 18 classifiers available in the model library of PyCaret. Please view the `create_model()` docstring for the list of all available models."
   ]
  },
  {
   "cell_type": "markdown",
   "metadata": {
    "colab_type": "text",
    "id": "yyApyoXbfuNZ"
   },
   "source": [
    "# 8.1 Decision Tree Classifier"
   ]
  },
  {
   "cell_type": "code",
   "execution_count": 6,
   "metadata": {
    "colab": {
     "base_uri": "https://localhost:8080/",
     "height": 421
    },
    "colab_type": "code",
    "id": "U6v4R3MJfuNb",
    "outputId": "da32db85-d927-48b1-b6d8-1744331ec306"
   },
   "outputs": [
    {
     "data": {
      "text/html": [
       "<style  type=\"text/css\" >\n",
       "    #T_ac4a649c_e647_11ea_b797_482ae32b83darow10_col0 {\n",
       "            background:  yellow;\n",
       "        }    #T_ac4a649c_e647_11ea_b797_482ae32b83darow10_col1 {\n",
       "            background:  yellow;\n",
       "        }    #T_ac4a649c_e647_11ea_b797_482ae32b83darow10_col2 {\n",
       "            background:  yellow;\n",
       "        }    #T_ac4a649c_e647_11ea_b797_482ae32b83darow10_col3 {\n",
       "            background:  yellow;\n",
       "        }    #T_ac4a649c_e647_11ea_b797_482ae32b83darow10_col4 {\n",
       "            background:  yellow;\n",
       "        }    #T_ac4a649c_e647_11ea_b797_482ae32b83darow10_col5 {\n",
       "            background:  yellow;\n",
       "        }    #T_ac4a649c_e647_11ea_b797_482ae32b83darow10_col6 {\n",
       "            background:  yellow;\n",
       "        }</style><table id=\"T_ac4a649c_e647_11ea_b797_482ae32b83da\" ><thead>    <tr>        <th class=\"blank level0\" ></th>        <th class=\"col_heading level0 col0\" >Accuracy</th>        <th class=\"col_heading level0 col1\" >AUC</th>        <th class=\"col_heading level0 col2\" >Recall</th>        <th class=\"col_heading level0 col3\" >Prec.</th>        <th class=\"col_heading level0 col4\" >F1</th>        <th class=\"col_heading level0 col5\" >Kappa</th>        <th class=\"col_heading level0 col6\" >MCC</th>    </tr></thead><tbody>\n",
       "                <tr>\n",
       "                        <th id=\"T_ac4a649c_e647_11ea_b797_482ae32b83dalevel0_row0\" class=\"row_heading level0 row0\" >0</th>\n",
       "                        <td id=\"T_ac4a649c_e647_11ea_b797_482ae32b83darow0_col0\" class=\"data row0 col0\" >1.0000</td>\n",
       "                        <td id=\"T_ac4a649c_e647_11ea_b797_482ae32b83darow0_col1\" class=\"data row0 col1\" >0.0000</td>\n",
       "                        <td id=\"T_ac4a649c_e647_11ea_b797_482ae32b83darow0_col2\" class=\"data row0 col2\" >1.0000</td>\n",
       "                        <td id=\"T_ac4a649c_e647_11ea_b797_482ae32b83darow0_col3\" class=\"data row0 col3\" >1.0000</td>\n",
       "                        <td id=\"T_ac4a649c_e647_11ea_b797_482ae32b83darow0_col4\" class=\"data row0 col4\" >1.0000</td>\n",
       "                        <td id=\"T_ac4a649c_e647_11ea_b797_482ae32b83darow0_col5\" class=\"data row0 col5\" >1.0000</td>\n",
       "                        <td id=\"T_ac4a649c_e647_11ea_b797_482ae32b83darow0_col6\" class=\"data row0 col6\" >1.0000</td>\n",
       "            </tr>\n",
       "            <tr>\n",
       "                        <th id=\"T_ac4a649c_e647_11ea_b797_482ae32b83dalevel0_row1\" class=\"row_heading level0 row1\" >1</th>\n",
       "                        <td id=\"T_ac4a649c_e647_11ea_b797_482ae32b83darow1_col0\" class=\"data row1 col0\" >1.0000</td>\n",
       "                        <td id=\"T_ac4a649c_e647_11ea_b797_482ae32b83darow1_col1\" class=\"data row1 col1\" >0.0000</td>\n",
       "                        <td id=\"T_ac4a649c_e647_11ea_b797_482ae32b83darow1_col2\" class=\"data row1 col2\" >1.0000</td>\n",
       "                        <td id=\"T_ac4a649c_e647_11ea_b797_482ae32b83darow1_col3\" class=\"data row1 col3\" >1.0000</td>\n",
       "                        <td id=\"T_ac4a649c_e647_11ea_b797_482ae32b83darow1_col4\" class=\"data row1 col4\" >1.0000</td>\n",
       "                        <td id=\"T_ac4a649c_e647_11ea_b797_482ae32b83darow1_col5\" class=\"data row1 col5\" >1.0000</td>\n",
       "                        <td id=\"T_ac4a649c_e647_11ea_b797_482ae32b83darow1_col6\" class=\"data row1 col6\" >1.0000</td>\n",
       "            </tr>\n",
       "            <tr>\n",
       "                        <th id=\"T_ac4a649c_e647_11ea_b797_482ae32b83dalevel0_row2\" class=\"row_heading level0 row2\" >2</th>\n",
       "                        <td id=\"T_ac4a649c_e647_11ea_b797_482ae32b83darow2_col0\" class=\"data row2 col0\" >1.0000</td>\n",
       "                        <td id=\"T_ac4a649c_e647_11ea_b797_482ae32b83darow2_col1\" class=\"data row2 col1\" >0.0000</td>\n",
       "                        <td id=\"T_ac4a649c_e647_11ea_b797_482ae32b83darow2_col2\" class=\"data row2 col2\" >1.0000</td>\n",
       "                        <td id=\"T_ac4a649c_e647_11ea_b797_482ae32b83darow2_col3\" class=\"data row2 col3\" >1.0000</td>\n",
       "                        <td id=\"T_ac4a649c_e647_11ea_b797_482ae32b83darow2_col4\" class=\"data row2 col4\" >1.0000</td>\n",
       "                        <td id=\"T_ac4a649c_e647_11ea_b797_482ae32b83darow2_col5\" class=\"data row2 col5\" >1.0000</td>\n",
       "                        <td id=\"T_ac4a649c_e647_11ea_b797_482ae32b83darow2_col6\" class=\"data row2 col6\" >1.0000</td>\n",
       "            </tr>\n",
       "            <tr>\n",
       "                        <th id=\"T_ac4a649c_e647_11ea_b797_482ae32b83dalevel0_row3\" class=\"row_heading level0 row3\" >3</th>\n",
       "                        <td id=\"T_ac4a649c_e647_11ea_b797_482ae32b83darow3_col0\" class=\"data row3 col0\" >0.9000</td>\n",
       "                        <td id=\"T_ac4a649c_e647_11ea_b797_482ae32b83darow3_col1\" class=\"data row3 col1\" >0.0000</td>\n",
       "                        <td id=\"T_ac4a649c_e647_11ea_b797_482ae32b83darow3_col2\" class=\"data row3 col2\" >0.8889</td>\n",
       "                        <td id=\"T_ac4a649c_e647_11ea_b797_482ae32b83darow3_col3\" class=\"data row3 col3\" >0.9250</td>\n",
       "                        <td id=\"T_ac4a649c_e647_11ea_b797_482ae32b83darow3_col4\" class=\"data row3 col4\" >0.8971</td>\n",
       "                        <td id=\"T_ac4a649c_e647_11ea_b797_482ae32b83darow3_col5\" class=\"data row3 col5\" >0.8485</td>\n",
       "                        <td id=\"T_ac4a649c_e647_11ea_b797_482ae32b83darow3_col6\" class=\"data row3 col6\" >0.8616</td>\n",
       "            </tr>\n",
       "            <tr>\n",
       "                        <th id=\"T_ac4a649c_e647_11ea_b797_482ae32b83dalevel0_row4\" class=\"row_heading level0 row4\" >4</th>\n",
       "                        <td id=\"T_ac4a649c_e647_11ea_b797_482ae32b83darow4_col0\" class=\"data row4 col0\" >0.8889</td>\n",
       "                        <td id=\"T_ac4a649c_e647_11ea_b797_482ae32b83darow4_col1\" class=\"data row4 col1\" >0.0000</td>\n",
       "                        <td id=\"T_ac4a649c_e647_11ea_b797_482ae32b83darow4_col2\" class=\"data row4 col2\" >0.8889</td>\n",
       "                        <td id=\"T_ac4a649c_e647_11ea_b797_482ae32b83darow4_col3\" class=\"data row4 col3\" >0.9167</td>\n",
       "                        <td id=\"T_ac4a649c_e647_11ea_b797_482ae32b83darow4_col4\" class=\"data row4 col4\" >0.8857</td>\n",
       "                        <td id=\"T_ac4a649c_e647_11ea_b797_482ae32b83darow4_col5\" class=\"data row4 col5\" >0.8333</td>\n",
       "                        <td id=\"T_ac4a649c_e647_11ea_b797_482ae32b83darow4_col6\" class=\"data row4 col6\" >0.8492</td>\n",
       "            </tr>\n",
       "            <tr>\n",
       "                        <th id=\"T_ac4a649c_e647_11ea_b797_482ae32b83dalevel0_row5\" class=\"row_heading level0 row5\" >5</th>\n",
       "                        <td id=\"T_ac4a649c_e647_11ea_b797_482ae32b83darow5_col0\" class=\"data row5 col0\" >1.0000</td>\n",
       "                        <td id=\"T_ac4a649c_e647_11ea_b797_482ae32b83darow5_col1\" class=\"data row5 col1\" >0.0000</td>\n",
       "                        <td id=\"T_ac4a649c_e647_11ea_b797_482ae32b83darow5_col2\" class=\"data row5 col2\" >1.0000</td>\n",
       "                        <td id=\"T_ac4a649c_e647_11ea_b797_482ae32b83darow5_col3\" class=\"data row5 col3\" >1.0000</td>\n",
       "                        <td id=\"T_ac4a649c_e647_11ea_b797_482ae32b83darow5_col4\" class=\"data row5 col4\" >1.0000</td>\n",
       "                        <td id=\"T_ac4a649c_e647_11ea_b797_482ae32b83darow5_col5\" class=\"data row5 col5\" >1.0000</td>\n",
       "                        <td id=\"T_ac4a649c_e647_11ea_b797_482ae32b83darow5_col6\" class=\"data row5 col6\" >1.0000</td>\n",
       "            </tr>\n",
       "            <tr>\n",
       "                        <th id=\"T_ac4a649c_e647_11ea_b797_482ae32b83dalevel0_row6\" class=\"row_heading level0 row6\" >6</th>\n",
       "                        <td id=\"T_ac4a649c_e647_11ea_b797_482ae32b83darow6_col0\" class=\"data row6 col0\" >0.8889</td>\n",
       "                        <td id=\"T_ac4a649c_e647_11ea_b797_482ae32b83darow6_col1\" class=\"data row6 col1\" >0.0000</td>\n",
       "                        <td id=\"T_ac4a649c_e647_11ea_b797_482ae32b83darow6_col2\" class=\"data row6 col2\" >0.8889</td>\n",
       "                        <td id=\"T_ac4a649c_e647_11ea_b797_482ae32b83darow6_col3\" class=\"data row6 col3\" >0.9167</td>\n",
       "                        <td id=\"T_ac4a649c_e647_11ea_b797_482ae32b83darow6_col4\" class=\"data row6 col4\" >0.8857</td>\n",
       "                        <td id=\"T_ac4a649c_e647_11ea_b797_482ae32b83darow6_col5\" class=\"data row6 col5\" >0.8333</td>\n",
       "                        <td id=\"T_ac4a649c_e647_11ea_b797_482ae32b83darow6_col6\" class=\"data row6 col6\" >0.8492</td>\n",
       "            </tr>\n",
       "            <tr>\n",
       "                        <th id=\"T_ac4a649c_e647_11ea_b797_482ae32b83dalevel0_row7\" class=\"row_heading level0 row7\" >7</th>\n",
       "                        <td id=\"T_ac4a649c_e647_11ea_b797_482ae32b83darow7_col0\" class=\"data row7 col0\" >0.8889</td>\n",
       "                        <td id=\"T_ac4a649c_e647_11ea_b797_482ae32b83darow7_col1\" class=\"data row7 col1\" >0.0000</td>\n",
       "                        <td id=\"T_ac4a649c_e647_11ea_b797_482ae32b83darow7_col2\" class=\"data row7 col2\" >0.8889</td>\n",
       "                        <td id=\"T_ac4a649c_e647_11ea_b797_482ae32b83darow7_col3\" class=\"data row7 col3\" >0.9167</td>\n",
       "                        <td id=\"T_ac4a649c_e647_11ea_b797_482ae32b83darow7_col4\" class=\"data row7 col4\" >0.8857</td>\n",
       "                        <td id=\"T_ac4a649c_e647_11ea_b797_482ae32b83darow7_col5\" class=\"data row7 col5\" >0.8333</td>\n",
       "                        <td id=\"T_ac4a649c_e647_11ea_b797_482ae32b83darow7_col6\" class=\"data row7 col6\" >0.8492</td>\n",
       "            </tr>\n",
       "            <tr>\n",
       "                        <th id=\"T_ac4a649c_e647_11ea_b797_482ae32b83dalevel0_row8\" class=\"row_heading level0 row8\" >8</th>\n",
       "                        <td id=\"T_ac4a649c_e647_11ea_b797_482ae32b83darow8_col0\" class=\"data row8 col0\" >1.0000</td>\n",
       "                        <td id=\"T_ac4a649c_e647_11ea_b797_482ae32b83darow8_col1\" class=\"data row8 col1\" >0.0000</td>\n",
       "                        <td id=\"T_ac4a649c_e647_11ea_b797_482ae32b83darow8_col2\" class=\"data row8 col2\" >1.0000</td>\n",
       "                        <td id=\"T_ac4a649c_e647_11ea_b797_482ae32b83darow8_col3\" class=\"data row8 col3\" >1.0000</td>\n",
       "                        <td id=\"T_ac4a649c_e647_11ea_b797_482ae32b83darow8_col4\" class=\"data row8 col4\" >1.0000</td>\n",
       "                        <td id=\"T_ac4a649c_e647_11ea_b797_482ae32b83darow8_col5\" class=\"data row8 col5\" >1.0000</td>\n",
       "                        <td id=\"T_ac4a649c_e647_11ea_b797_482ae32b83darow8_col6\" class=\"data row8 col6\" >1.0000</td>\n",
       "            </tr>\n",
       "            <tr>\n",
       "                        <th id=\"T_ac4a649c_e647_11ea_b797_482ae32b83dalevel0_row9\" class=\"row_heading level0 row9\" >9</th>\n",
       "                        <td id=\"T_ac4a649c_e647_11ea_b797_482ae32b83darow9_col0\" class=\"data row9 col0\" >0.6667</td>\n",
       "                        <td id=\"T_ac4a649c_e647_11ea_b797_482ae32b83darow9_col1\" class=\"data row9 col1\" >0.0000</td>\n",
       "                        <td id=\"T_ac4a649c_e647_11ea_b797_482ae32b83darow9_col2\" class=\"data row9 col2\" >0.6667</td>\n",
       "                        <td id=\"T_ac4a649c_e647_11ea_b797_482ae32b83darow9_col3\" class=\"data row9 col3\" >0.6667</td>\n",
       "                        <td id=\"T_ac4a649c_e647_11ea_b797_482ae32b83darow9_col4\" class=\"data row9 col4\" >0.6571</td>\n",
       "                        <td id=\"T_ac4a649c_e647_11ea_b797_482ae32b83darow9_col5\" class=\"data row9 col5\" >0.5000</td>\n",
       "                        <td id=\"T_ac4a649c_e647_11ea_b797_482ae32b83darow9_col6\" class=\"data row9 col6\" >0.5095</td>\n",
       "            </tr>\n",
       "            <tr>\n",
       "                        <th id=\"T_ac4a649c_e647_11ea_b797_482ae32b83dalevel0_row10\" class=\"row_heading level0 row10\" >Mean</th>\n",
       "                        <td id=\"T_ac4a649c_e647_11ea_b797_482ae32b83darow10_col0\" class=\"data row10 col0\" >0.9233</td>\n",
       "                        <td id=\"T_ac4a649c_e647_11ea_b797_482ae32b83darow10_col1\" class=\"data row10 col1\" >0.0000</td>\n",
       "                        <td id=\"T_ac4a649c_e647_11ea_b797_482ae32b83darow10_col2\" class=\"data row10 col2\" >0.9222</td>\n",
       "                        <td id=\"T_ac4a649c_e647_11ea_b797_482ae32b83darow10_col3\" class=\"data row10 col3\" >0.9342</td>\n",
       "                        <td id=\"T_ac4a649c_e647_11ea_b797_482ae32b83darow10_col4\" class=\"data row10 col4\" >0.9211</td>\n",
       "                        <td id=\"T_ac4a649c_e647_11ea_b797_482ae32b83darow10_col5\" class=\"data row10 col5\" >0.8848</td>\n",
       "                        <td id=\"T_ac4a649c_e647_11ea_b797_482ae32b83darow10_col6\" class=\"data row10 col6\" >0.8919</td>\n",
       "            </tr>\n",
       "            <tr>\n",
       "                        <th id=\"T_ac4a649c_e647_11ea_b797_482ae32b83dalevel0_row11\" class=\"row_heading level0 row11\" >SD</th>\n",
       "                        <td id=\"T_ac4a649c_e647_11ea_b797_482ae32b83darow11_col0\" class=\"data row11 col0\" >0.0997</td>\n",
       "                        <td id=\"T_ac4a649c_e647_11ea_b797_482ae32b83darow11_col1\" class=\"data row11 col1\" >0.0000</td>\n",
       "                        <td id=\"T_ac4a649c_e647_11ea_b797_482ae32b83darow11_col2\" class=\"data row11 col2\" >0.1000</td>\n",
       "                        <td id=\"T_ac4a649c_e647_11ea_b797_482ae32b83darow11_col3\" class=\"data row11 col3\" >0.0971</td>\n",
       "                        <td id=\"T_ac4a649c_e647_11ea_b797_482ae32b83darow11_col4\" class=\"data row11 col4\" >0.1025</td>\n",
       "                        <td id=\"T_ac4a649c_e647_11ea_b797_482ae32b83darow11_col5\" class=\"data row11 col5\" >0.1496</td>\n",
       "                        <td id=\"T_ac4a649c_e647_11ea_b797_482ae32b83darow11_col6\" class=\"data row11 col6\" >0.1453</td>\n",
       "            </tr>\n",
       "    </tbody></table>"
      ],
      "text/plain": [
       "<pandas.io.formats.style.Styler at 0x1faef58bd48>"
      ]
     },
     "metadata": {},
     "output_type": "display_data"
    }
   ],
   "source": [
    "dt = create_model('dt')"
   ]
  },
  {
   "cell_type": "code",
   "execution_count": 7,
   "metadata": {
    "colab": {
     "base_uri": "https://localhost:8080/",
     "height": 272
    },
    "colab_type": "code",
    "id": "7jwPc7ZBfuNg",
    "outputId": "89c7ee4c-55ed-4764-fd03-0974c22f6b1f"
   },
   "outputs": [
    {
     "name": "stdout",
     "output_type": "stream",
     "text": [
      "OneVsRestClassifier(estimator=DecisionTreeClassifier(ccp_alpha=0.0,\n",
      "                                                     class_weight=None,\n",
      "                                                     criterion='gini',\n",
      "                                                     max_depth=None,\n",
      "                                                     max_features=None,\n",
      "                                                     max_leaf_nodes=None,\n",
      "                                                     min_impurity_decrease=0.0,\n",
      "                                                     min_impurity_split=None,\n",
      "                                                     min_samples_leaf=1,\n",
      "                                                     min_samples_split=2,\n",
      "                                                     min_weight_fraction_leaf=0.0,\n",
      "                                                     presort='deprecated',\n",
      "                                                     random_state=123,\n",
      "                                                     splitter='best'),\n",
      "                    n_jobs=-1)\n"
     ]
    }
   ],
   "source": [
    "#trained model object is stored in the variable 'dt'. \n",
    "print(dt)"
   ]
  },
  {
   "cell_type": "markdown",
   "metadata": {
    "colab_type": "text",
    "id": "PhHDTJYwfuNl"
   },
   "source": [
    "# 8.2 K Neighbors Classifier"
   ]
  },
  {
   "cell_type": "code",
   "execution_count": 8,
   "metadata": {
    "colab": {
     "base_uri": "https://localhost:8080/",
     "height": 421
    },
    "colab_type": "code",
    "id": "WYHQ1DxkfuNm",
    "outputId": "26077e3b-a77b-4682-a518-a125e1f6c85a"
   },
   "outputs": [
    {
     "data": {
      "text/html": [
       "<style  type=\"text/css\" >\n",
       "    #T_b07aa7c6_e647_11ea_8098_482ae32b83darow10_col0 {\n",
       "            background:  yellow;\n",
       "        }    #T_b07aa7c6_e647_11ea_8098_482ae32b83darow10_col1 {\n",
       "            background:  yellow;\n",
       "        }    #T_b07aa7c6_e647_11ea_8098_482ae32b83darow10_col2 {\n",
       "            background:  yellow;\n",
       "        }    #T_b07aa7c6_e647_11ea_8098_482ae32b83darow10_col3 {\n",
       "            background:  yellow;\n",
       "        }    #T_b07aa7c6_e647_11ea_8098_482ae32b83darow10_col4 {\n",
       "            background:  yellow;\n",
       "        }    #T_b07aa7c6_e647_11ea_8098_482ae32b83darow10_col5 {\n",
       "            background:  yellow;\n",
       "        }    #T_b07aa7c6_e647_11ea_8098_482ae32b83darow10_col6 {\n",
       "            background:  yellow;\n",
       "        }</style><table id=\"T_b07aa7c6_e647_11ea_8098_482ae32b83da\" ><thead>    <tr>        <th class=\"blank level0\" ></th>        <th class=\"col_heading level0 col0\" >Accuracy</th>        <th class=\"col_heading level0 col1\" >AUC</th>        <th class=\"col_heading level0 col2\" >Recall</th>        <th class=\"col_heading level0 col3\" >Prec.</th>        <th class=\"col_heading level0 col4\" >F1</th>        <th class=\"col_heading level0 col5\" >Kappa</th>        <th class=\"col_heading level0 col6\" >MCC</th>    </tr></thead><tbody>\n",
       "                <tr>\n",
       "                        <th id=\"T_b07aa7c6_e647_11ea_8098_482ae32b83dalevel0_row0\" class=\"row_heading level0 row0\" >0</th>\n",
       "                        <td id=\"T_b07aa7c6_e647_11ea_8098_482ae32b83darow0_col0\" class=\"data row0 col0\" >1.0000</td>\n",
       "                        <td id=\"T_b07aa7c6_e647_11ea_8098_482ae32b83darow0_col1\" class=\"data row0 col1\" >0.0000</td>\n",
       "                        <td id=\"T_b07aa7c6_e647_11ea_8098_482ae32b83darow0_col2\" class=\"data row0 col2\" >1.0000</td>\n",
       "                        <td id=\"T_b07aa7c6_e647_11ea_8098_482ae32b83darow0_col3\" class=\"data row0 col3\" >1.0000</td>\n",
       "                        <td id=\"T_b07aa7c6_e647_11ea_8098_482ae32b83darow0_col4\" class=\"data row0 col4\" >1.0000</td>\n",
       "                        <td id=\"T_b07aa7c6_e647_11ea_8098_482ae32b83darow0_col5\" class=\"data row0 col5\" >1.0000</td>\n",
       "                        <td id=\"T_b07aa7c6_e647_11ea_8098_482ae32b83darow0_col6\" class=\"data row0 col6\" >1.0000</td>\n",
       "            </tr>\n",
       "            <tr>\n",
       "                        <th id=\"T_b07aa7c6_e647_11ea_8098_482ae32b83dalevel0_row1\" class=\"row_heading level0 row1\" >1</th>\n",
       "                        <td id=\"T_b07aa7c6_e647_11ea_8098_482ae32b83darow1_col0\" class=\"data row1 col0\" >1.0000</td>\n",
       "                        <td id=\"T_b07aa7c6_e647_11ea_8098_482ae32b83darow1_col1\" class=\"data row1 col1\" >0.0000</td>\n",
       "                        <td id=\"T_b07aa7c6_e647_11ea_8098_482ae32b83darow1_col2\" class=\"data row1 col2\" >1.0000</td>\n",
       "                        <td id=\"T_b07aa7c6_e647_11ea_8098_482ae32b83darow1_col3\" class=\"data row1 col3\" >1.0000</td>\n",
       "                        <td id=\"T_b07aa7c6_e647_11ea_8098_482ae32b83darow1_col4\" class=\"data row1 col4\" >1.0000</td>\n",
       "                        <td id=\"T_b07aa7c6_e647_11ea_8098_482ae32b83darow1_col5\" class=\"data row1 col5\" >1.0000</td>\n",
       "                        <td id=\"T_b07aa7c6_e647_11ea_8098_482ae32b83darow1_col6\" class=\"data row1 col6\" >1.0000</td>\n",
       "            </tr>\n",
       "            <tr>\n",
       "                        <th id=\"T_b07aa7c6_e647_11ea_8098_482ae32b83dalevel0_row2\" class=\"row_heading level0 row2\" >2</th>\n",
       "                        <td id=\"T_b07aa7c6_e647_11ea_8098_482ae32b83darow2_col0\" class=\"data row2 col0\" >0.9000</td>\n",
       "                        <td id=\"T_b07aa7c6_e647_11ea_8098_482ae32b83darow2_col1\" class=\"data row2 col1\" >0.0000</td>\n",
       "                        <td id=\"T_b07aa7c6_e647_11ea_8098_482ae32b83darow2_col2\" class=\"data row2 col2\" >0.8889</td>\n",
       "                        <td id=\"T_b07aa7c6_e647_11ea_8098_482ae32b83darow2_col3\" class=\"data row2 col3\" >0.9250</td>\n",
       "                        <td id=\"T_b07aa7c6_e647_11ea_8098_482ae32b83darow2_col4\" class=\"data row2 col4\" >0.8971</td>\n",
       "                        <td id=\"T_b07aa7c6_e647_11ea_8098_482ae32b83darow2_col5\" class=\"data row2 col5\" >0.8485</td>\n",
       "                        <td id=\"T_b07aa7c6_e647_11ea_8098_482ae32b83darow2_col6\" class=\"data row2 col6\" >0.8616</td>\n",
       "            </tr>\n",
       "            <tr>\n",
       "                        <th id=\"T_b07aa7c6_e647_11ea_8098_482ae32b83dalevel0_row3\" class=\"row_heading level0 row3\" >3</th>\n",
       "                        <td id=\"T_b07aa7c6_e647_11ea_8098_482ae32b83darow3_col0\" class=\"data row3 col0\" >0.9000</td>\n",
       "                        <td id=\"T_b07aa7c6_e647_11ea_8098_482ae32b83darow3_col1\" class=\"data row3 col1\" >0.0000</td>\n",
       "                        <td id=\"T_b07aa7c6_e647_11ea_8098_482ae32b83darow3_col2\" class=\"data row3 col2\" >0.8889</td>\n",
       "                        <td id=\"T_b07aa7c6_e647_11ea_8098_482ae32b83darow3_col3\" class=\"data row3 col3\" >0.9250</td>\n",
       "                        <td id=\"T_b07aa7c6_e647_11ea_8098_482ae32b83darow3_col4\" class=\"data row3 col4\" >0.8971</td>\n",
       "                        <td id=\"T_b07aa7c6_e647_11ea_8098_482ae32b83darow3_col5\" class=\"data row3 col5\" >0.8485</td>\n",
       "                        <td id=\"T_b07aa7c6_e647_11ea_8098_482ae32b83darow3_col6\" class=\"data row3 col6\" >0.8616</td>\n",
       "            </tr>\n",
       "            <tr>\n",
       "                        <th id=\"T_b07aa7c6_e647_11ea_8098_482ae32b83dalevel0_row4\" class=\"row_heading level0 row4\" >4</th>\n",
       "                        <td id=\"T_b07aa7c6_e647_11ea_8098_482ae32b83darow4_col0\" class=\"data row4 col0\" >1.0000</td>\n",
       "                        <td id=\"T_b07aa7c6_e647_11ea_8098_482ae32b83darow4_col1\" class=\"data row4 col1\" >0.0000</td>\n",
       "                        <td id=\"T_b07aa7c6_e647_11ea_8098_482ae32b83darow4_col2\" class=\"data row4 col2\" >1.0000</td>\n",
       "                        <td id=\"T_b07aa7c6_e647_11ea_8098_482ae32b83darow4_col3\" class=\"data row4 col3\" >1.0000</td>\n",
       "                        <td id=\"T_b07aa7c6_e647_11ea_8098_482ae32b83darow4_col4\" class=\"data row4 col4\" >1.0000</td>\n",
       "                        <td id=\"T_b07aa7c6_e647_11ea_8098_482ae32b83darow4_col5\" class=\"data row4 col5\" >1.0000</td>\n",
       "                        <td id=\"T_b07aa7c6_e647_11ea_8098_482ae32b83darow4_col6\" class=\"data row4 col6\" >1.0000</td>\n",
       "            </tr>\n",
       "            <tr>\n",
       "                        <th id=\"T_b07aa7c6_e647_11ea_8098_482ae32b83dalevel0_row5\" class=\"row_heading level0 row5\" >5</th>\n",
       "                        <td id=\"T_b07aa7c6_e647_11ea_8098_482ae32b83darow5_col0\" class=\"data row5 col0\" >1.0000</td>\n",
       "                        <td id=\"T_b07aa7c6_e647_11ea_8098_482ae32b83darow5_col1\" class=\"data row5 col1\" >0.0000</td>\n",
       "                        <td id=\"T_b07aa7c6_e647_11ea_8098_482ae32b83darow5_col2\" class=\"data row5 col2\" >1.0000</td>\n",
       "                        <td id=\"T_b07aa7c6_e647_11ea_8098_482ae32b83darow5_col3\" class=\"data row5 col3\" >1.0000</td>\n",
       "                        <td id=\"T_b07aa7c6_e647_11ea_8098_482ae32b83darow5_col4\" class=\"data row5 col4\" >1.0000</td>\n",
       "                        <td id=\"T_b07aa7c6_e647_11ea_8098_482ae32b83darow5_col5\" class=\"data row5 col5\" >1.0000</td>\n",
       "                        <td id=\"T_b07aa7c6_e647_11ea_8098_482ae32b83darow5_col6\" class=\"data row5 col6\" >1.0000</td>\n",
       "            </tr>\n",
       "            <tr>\n",
       "                        <th id=\"T_b07aa7c6_e647_11ea_8098_482ae32b83dalevel0_row6\" class=\"row_heading level0 row6\" >6</th>\n",
       "                        <td id=\"T_b07aa7c6_e647_11ea_8098_482ae32b83darow6_col0\" class=\"data row6 col0\" >0.8889</td>\n",
       "                        <td id=\"T_b07aa7c6_e647_11ea_8098_482ae32b83darow6_col1\" class=\"data row6 col1\" >0.0000</td>\n",
       "                        <td id=\"T_b07aa7c6_e647_11ea_8098_482ae32b83darow6_col2\" class=\"data row6 col2\" >0.8889</td>\n",
       "                        <td id=\"T_b07aa7c6_e647_11ea_8098_482ae32b83darow6_col3\" class=\"data row6 col3\" >0.9167</td>\n",
       "                        <td id=\"T_b07aa7c6_e647_11ea_8098_482ae32b83darow6_col4\" class=\"data row6 col4\" >0.8857</td>\n",
       "                        <td id=\"T_b07aa7c6_e647_11ea_8098_482ae32b83darow6_col5\" class=\"data row6 col5\" >0.8333</td>\n",
       "                        <td id=\"T_b07aa7c6_e647_11ea_8098_482ae32b83darow6_col6\" class=\"data row6 col6\" >0.8492</td>\n",
       "            </tr>\n",
       "            <tr>\n",
       "                        <th id=\"T_b07aa7c6_e647_11ea_8098_482ae32b83dalevel0_row7\" class=\"row_heading level0 row7\" >7</th>\n",
       "                        <td id=\"T_b07aa7c6_e647_11ea_8098_482ae32b83darow7_col0\" class=\"data row7 col0\" >1.0000</td>\n",
       "                        <td id=\"T_b07aa7c6_e647_11ea_8098_482ae32b83darow7_col1\" class=\"data row7 col1\" >0.0000</td>\n",
       "                        <td id=\"T_b07aa7c6_e647_11ea_8098_482ae32b83darow7_col2\" class=\"data row7 col2\" >1.0000</td>\n",
       "                        <td id=\"T_b07aa7c6_e647_11ea_8098_482ae32b83darow7_col3\" class=\"data row7 col3\" >1.0000</td>\n",
       "                        <td id=\"T_b07aa7c6_e647_11ea_8098_482ae32b83darow7_col4\" class=\"data row7 col4\" >1.0000</td>\n",
       "                        <td id=\"T_b07aa7c6_e647_11ea_8098_482ae32b83darow7_col5\" class=\"data row7 col5\" >1.0000</td>\n",
       "                        <td id=\"T_b07aa7c6_e647_11ea_8098_482ae32b83darow7_col6\" class=\"data row7 col6\" >1.0000</td>\n",
       "            </tr>\n",
       "            <tr>\n",
       "                        <th id=\"T_b07aa7c6_e647_11ea_8098_482ae32b83dalevel0_row8\" class=\"row_heading level0 row8\" >8</th>\n",
       "                        <td id=\"T_b07aa7c6_e647_11ea_8098_482ae32b83darow8_col0\" class=\"data row8 col0\" >1.0000</td>\n",
       "                        <td id=\"T_b07aa7c6_e647_11ea_8098_482ae32b83darow8_col1\" class=\"data row8 col1\" >0.0000</td>\n",
       "                        <td id=\"T_b07aa7c6_e647_11ea_8098_482ae32b83darow8_col2\" class=\"data row8 col2\" >1.0000</td>\n",
       "                        <td id=\"T_b07aa7c6_e647_11ea_8098_482ae32b83darow8_col3\" class=\"data row8 col3\" >1.0000</td>\n",
       "                        <td id=\"T_b07aa7c6_e647_11ea_8098_482ae32b83darow8_col4\" class=\"data row8 col4\" >1.0000</td>\n",
       "                        <td id=\"T_b07aa7c6_e647_11ea_8098_482ae32b83darow8_col5\" class=\"data row8 col5\" >1.0000</td>\n",
       "                        <td id=\"T_b07aa7c6_e647_11ea_8098_482ae32b83darow8_col6\" class=\"data row8 col6\" >1.0000</td>\n",
       "            </tr>\n",
       "            <tr>\n",
       "                        <th id=\"T_b07aa7c6_e647_11ea_8098_482ae32b83dalevel0_row9\" class=\"row_heading level0 row9\" >9</th>\n",
       "                        <td id=\"T_b07aa7c6_e647_11ea_8098_482ae32b83darow9_col0\" class=\"data row9 col0\" >0.7778</td>\n",
       "                        <td id=\"T_b07aa7c6_e647_11ea_8098_482ae32b83darow9_col1\" class=\"data row9 col1\" >0.0000</td>\n",
       "                        <td id=\"T_b07aa7c6_e647_11ea_8098_482ae32b83darow9_col2\" class=\"data row9 col2\" >0.7778</td>\n",
       "                        <td id=\"T_b07aa7c6_e647_11ea_8098_482ae32b83darow9_col3\" class=\"data row9 col3\" >0.8667</td>\n",
       "                        <td id=\"T_b07aa7c6_e647_11ea_8098_482ae32b83darow9_col4\" class=\"data row9 col4\" >0.7500</td>\n",
       "                        <td id=\"T_b07aa7c6_e647_11ea_8098_482ae32b83darow9_col5\" class=\"data row9 col5\" >0.6667</td>\n",
       "                        <td id=\"T_b07aa7c6_e647_11ea_8098_482ae32b83darow9_col6\" class=\"data row9 col6\" >0.7223</td>\n",
       "            </tr>\n",
       "            <tr>\n",
       "                        <th id=\"T_b07aa7c6_e647_11ea_8098_482ae32b83dalevel0_row10\" class=\"row_heading level0 row10\" >Mean</th>\n",
       "                        <td id=\"T_b07aa7c6_e647_11ea_8098_482ae32b83darow10_col0\" class=\"data row10 col0\" >0.9467</td>\n",
       "                        <td id=\"T_b07aa7c6_e647_11ea_8098_482ae32b83darow10_col1\" class=\"data row10 col1\" >0.0000</td>\n",
       "                        <td id=\"T_b07aa7c6_e647_11ea_8098_482ae32b83darow10_col2\" class=\"data row10 col2\" >0.9444</td>\n",
       "                        <td id=\"T_b07aa7c6_e647_11ea_8098_482ae32b83darow10_col3\" class=\"data row10 col3\" >0.9633</td>\n",
       "                        <td id=\"T_b07aa7c6_e647_11ea_8098_482ae32b83darow10_col4\" class=\"data row10 col4\" >0.9430</td>\n",
       "                        <td id=\"T_b07aa7c6_e647_11ea_8098_482ae32b83darow10_col5\" class=\"data row10 col5\" >0.9197</td>\n",
       "                        <td id=\"T_b07aa7c6_e647_11ea_8098_482ae32b83darow10_col6\" class=\"data row10 col6\" >0.9295</td>\n",
       "            </tr>\n",
       "            <tr>\n",
       "                        <th id=\"T_b07aa7c6_e647_11ea_8098_482ae32b83dalevel0_row11\" class=\"row_heading level0 row11\" >SD</th>\n",
       "                        <td id=\"T_b07aa7c6_e647_11ea_8098_482ae32b83darow11_col0\" class=\"data row11 col0\" >0.0730</td>\n",
       "                        <td id=\"T_b07aa7c6_e647_11ea_8098_482ae32b83darow11_col1\" class=\"data row11 col1\" >0.0000</td>\n",
       "                        <td id=\"T_b07aa7c6_e647_11ea_8098_482ae32b83darow11_col2\" class=\"data row11 col2\" >0.0745</td>\n",
       "                        <td id=\"T_b07aa7c6_e647_11ea_8098_482ae32b83darow11_col3\" class=\"data row11 col3\" >0.0475</td>\n",
       "                        <td id=\"T_b07aa7c6_e647_11ea_8098_482ae32b83darow11_col4\" class=\"data row11 col4\" >0.0801</td>\n",
       "                        <td id=\"T_b07aa7c6_e647_11ea_8098_482ae32b83darow11_col5\" class=\"data row11 col5\" >0.1097</td>\n",
       "                        <td id=\"T_b07aa7c6_e647_11ea_8098_482ae32b83darow11_col6\" class=\"data row11 col6\" >0.0940</td>\n",
       "            </tr>\n",
       "    </tbody></table>"
      ],
      "text/plain": [
       "<pandas.io.formats.style.Styler at 0x1fae30ed188>"
      ]
     },
     "metadata": {},
     "output_type": "display_data"
    }
   ],
   "source": [
    "knn = create_model('knn')"
   ]
  },
  {
   "cell_type": "markdown",
   "metadata": {
    "colab_type": "text",
    "id": "8IA_BtchfuNt"
   },
   "source": [
    "# 8.3 Logistic Regression"
   ]
  },
  {
   "cell_type": "code",
   "execution_count": 9,
   "metadata": {
    "colab": {
     "base_uri": "https://localhost:8080/",
     "height": 421
    },
    "colab_type": "code",
    "id": "u3nAFk1MfuNv",
    "outputId": "a863ebc8-ead4-4edc-ce9d-d91653f4fbd6"
   },
   "outputs": [
    {
     "data": {
      "text/html": [
       "<style  type=\"text/css\" >\n",
       "    #T_b0da139e_e647_11ea_b1b0_482ae32b83darow10_col0 {\n",
       "            background:  yellow;\n",
       "        }    #T_b0da139e_e647_11ea_b1b0_482ae32b83darow10_col1 {\n",
       "            background:  yellow;\n",
       "        }    #T_b0da139e_e647_11ea_b1b0_482ae32b83darow10_col2 {\n",
       "            background:  yellow;\n",
       "        }    #T_b0da139e_e647_11ea_b1b0_482ae32b83darow10_col3 {\n",
       "            background:  yellow;\n",
       "        }    #T_b0da139e_e647_11ea_b1b0_482ae32b83darow10_col4 {\n",
       "            background:  yellow;\n",
       "        }    #T_b0da139e_e647_11ea_b1b0_482ae32b83darow10_col5 {\n",
       "            background:  yellow;\n",
       "        }    #T_b0da139e_e647_11ea_b1b0_482ae32b83darow10_col6 {\n",
       "            background:  yellow;\n",
       "        }</style><table id=\"T_b0da139e_e647_11ea_b1b0_482ae32b83da\" ><thead>    <tr>        <th class=\"blank level0\" ></th>        <th class=\"col_heading level0 col0\" >Accuracy</th>        <th class=\"col_heading level0 col1\" >AUC</th>        <th class=\"col_heading level0 col2\" >Recall</th>        <th class=\"col_heading level0 col3\" >Prec.</th>        <th class=\"col_heading level0 col4\" >F1</th>        <th class=\"col_heading level0 col5\" >Kappa</th>        <th class=\"col_heading level0 col6\" >MCC</th>    </tr></thead><tbody>\n",
       "                <tr>\n",
       "                        <th id=\"T_b0da139e_e647_11ea_b1b0_482ae32b83dalevel0_row0\" class=\"row_heading level0 row0\" >0</th>\n",
       "                        <td id=\"T_b0da139e_e647_11ea_b1b0_482ae32b83darow0_col0\" class=\"data row0 col0\" >0.9000</td>\n",
       "                        <td id=\"T_b0da139e_e647_11ea_b1b0_482ae32b83darow0_col1\" class=\"data row0 col1\" >0.0000</td>\n",
       "                        <td id=\"T_b0da139e_e647_11ea_b1b0_482ae32b83darow0_col2\" class=\"data row0 col2\" >0.8889</td>\n",
       "                        <td id=\"T_b0da139e_e647_11ea_b1b0_482ae32b83darow0_col3\" class=\"data row0 col3\" >0.9200</td>\n",
       "                        <td id=\"T_b0da139e_e647_11ea_b1b0_482ae32b83darow0_col4\" class=\"data row0 col4\" >0.8956</td>\n",
       "                        <td id=\"T_b0da139e_e647_11ea_b1b0_482ae32b83darow0_col5\" class=\"data row0 col5\" >0.8462</td>\n",
       "                        <td id=\"T_b0da139e_e647_11ea_b1b0_482ae32b83darow0_col6\" class=\"data row0 col6\" >0.8598</td>\n",
       "            </tr>\n",
       "            <tr>\n",
       "                        <th id=\"T_b0da139e_e647_11ea_b1b0_482ae32b83dalevel0_row1\" class=\"row_heading level0 row1\" >1</th>\n",
       "                        <td id=\"T_b0da139e_e647_11ea_b1b0_482ae32b83darow1_col0\" class=\"data row1 col0\" >1.0000</td>\n",
       "                        <td id=\"T_b0da139e_e647_11ea_b1b0_482ae32b83darow1_col1\" class=\"data row1 col1\" >0.0000</td>\n",
       "                        <td id=\"T_b0da139e_e647_11ea_b1b0_482ae32b83darow1_col2\" class=\"data row1 col2\" >1.0000</td>\n",
       "                        <td id=\"T_b0da139e_e647_11ea_b1b0_482ae32b83darow1_col3\" class=\"data row1 col3\" >1.0000</td>\n",
       "                        <td id=\"T_b0da139e_e647_11ea_b1b0_482ae32b83darow1_col4\" class=\"data row1 col4\" >1.0000</td>\n",
       "                        <td id=\"T_b0da139e_e647_11ea_b1b0_482ae32b83darow1_col5\" class=\"data row1 col5\" >1.0000</td>\n",
       "                        <td id=\"T_b0da139e_e647_11ea_b1b0_482ae32b83darow1_col6\" class=\"data row1 col6\" >1.0000</td>\n",
       "            </tr>\n",
       "            <tr>\n",
       "                        <th id=\"T_b0da139e_e647_11ea_b1b0_482ae32b83dalevel0_row2\" class=\"row_heading level0 row2\" >2</th>\n",
       "                        <td id=\"T_b0da139e_e647_11ea_b1b0_482ae32b83darow2_col0\" class=\"data row2 col0\" >1.0000</td>\n",
       "                        <td id=\"T_b0da139e_e647_11ea_b1b0_482ae32b83darow2_col1\" class=\"data row2 col1\" >0.0000</td>\n",
       "                        <td id=\"T_b0da139e_e647_11ea_b1b0_482ae32b83darow2_col2\" class=\"data row2 col2\" >1.0000</td>\n",
       "                        <td id=\"T_b0da139e_e647_11ea_b1b0_482ae32b83darow2_col3\" class=\"data row2 col3\" >1.0000</td>\n",
       "                        <td id=\"T_b0da139e_e647_11ea_b1b0_482ae32b83darow2_col4\" class=\"data row2 col4\" >1.0000</td>\n",
       "                        <td id=\"T_b0da139e_e647_11ea_b1b0_482ae32b83darow2_col5\" class=\"data row2 col5\" >1.0000</td>\n",
       "                        <td id=\"T_b0da139e_e647_11ea_b1b0_482ae32b83darow2_col6\" class=\"data row2 col6\" >1.0000</td>\n",
       "            </tr>\n",
       "            <tr>\n",
       "                        <th id=\"T_b0da139e_e647_11ea_b1b0_482ae32b83dalevel0_row3\" class=\"row_heading level0 row3\" >3</th>\n",
       "                        <td id=\"T_b0da139e_e647_11ea_b1b0_482ae32b83darow3_col0\" class=\"data row3 col0\" >0.9000</td>\n",
       "                        <td id=\"T_b0da139e_e647_11ea_b1b0_482ae32b83darow3_col1\" class=\"data row3 col1\" >0.0000</td>\n",
       "                        <td id=\"T_b0da139e_e647_11ea_b1b0_482ae32b83darow3_col2\" class=\"data row3 col2\" >0.8889</td>\n",
       "                        <td id=\"T_b0da139e_e647_11ea_b1b0_482ae32b83darow3_col3\" class=\"data row3 col3\" >0.9250</td>\n",
       "                        <td id=\"T_b0da139e_e647_11ea_b1b0_482ae32b83darow3_col4\" class=\"data row3 col4\" >0.8971</td>\n",
       "                        <td id=\"T_b0da139e_e647_11ea_b1b0_482ae32b83darow3_col5\" class=\"data row3 col5\" >0.8485</td>\n",
       "                        <td id=\"T_b0da139e_e647_11ea_b1b0_482ae32b83darow3_col6\" class=\"data row3 col6\" >0.8616</td>\n",
       "            </tr>\n",
       "            <tr>\n",
       "                        <th id=\"T_b0da139e_e647_11ea_b1b0_482ae32b83dalevel0_row4\" class=\"row_heading level0 row4\" >4</th>\n",
       "                        <td id=\"T_b0da139e_e647_11ea_b1b0_482ae32b83darow4_col0\" class=\"data row4 col0\" >1.0000</td>\n",
       "                        <td id=\"T_b0da139e_e647_11ea_b1b0_482ae32b83darow4_col1\" class=\"data row4 col1\" >0.0000</td>\n",
       "                        <td id=\"T_b0da139e_e647_11ea_b1b0_482ae32b83darow4_col2\" class=\"data row4 col2\" >1.0000</td>\n",
       "                        <td id=\"T_b0da139e_e647_11ea_b1b0_482ae32b83darow4_col3\" class=\"data row4 col3\" >1.0000</td>\n",
       "                        <td id=\"T_b0da139e_e647_11ea_b1b0_482ae32b83darow4_col4\" class=\"data row4 col4\" >1.0000</td>\n",
       "                        <td id=\"T_b0da139e_e647_11ea_b1b0_482ae32b83darow4_col5\" class=\"data row4 col5\" >1.0000</td>\n",
       "                        <td id=\"T_b0da139e_e647_11ea_b1b0_482ae32b83darow4_col6\" class=\"data row4 col6\" >1.0000</td>\n",
       "            </tr>\n",
       "            <tr>\n",
       "                        <th id=\"T_b0da139e_e647_11ea_b1b0_482ae32b83dalevel0_row5\" class=\"row_heading level0 row5\" >5</th>\n",
       "                        <td id=\"T_b0da139e_e647_11ea_b1b0_482ae32b83darow5_col0\" class=\"data row5 col0\" >1.0000</td>\n",
       "                        <td id=\"T_b0da139e_e647_11ea_b1b0_482ae32b83darow5_col1\" class=\"data row5 col1\" >0.0000</td>\n",
       "                        <td id=\"T_b0da139e_e647_11ea_b1b0_482ae32b83darow5_col2\" class=\"data row5 col2\" >1.0000</td>\n",
       "                        <td id=\"T_b0da139e_e647_11ea_b1b0_482ae32b83darow5_col3\" class=\"data row5 col3\" >1.0000</td>\n",
       "                        <td id=\"T_b0da139e_e647_11ea_b1b0_482ae32b83darow5_col4\" class=\"data row5 col4\" >1.0000</td>\n",
       "                        <td id=\"T_b0da139e_e647_11ea_b1b0_482ae32b83darow5_col5\" class=\"data row5 col5\" >1.0000</td>\n",
       "                        <td id=\"T_b0da139e_e647_11ea_b1b0_482ae32b83darow5_col6\" class=\"data row5 col6\" >1.0000</td>\n",
       "            </tr>\n",
       "            <tr>\n",
       "                        <th id=\"T_b0da139e_e647_11ea_b1b0_482ae32b83dalevel0_row6\" class=\"row_heading level0 row6\" >6</th>\n",
       "                        <td id=\"T_b0da139e_e647_11ea_b1b0_482ae32b83darow6_col0\" class=\"data row6 col0\" >0.8889</td>\n",
       "                        <td id=\"T_b0da139e_e647_11ea_b1b0_482ae32b83darow6_col1\" class=\"data row6 col1\" >0.0000</td>\n",
       "                        <td id=\"T_b0da139e_e647_11ea_b1b0_482ae32b83darow6_col2\" class=\"data row6 col2\" >0.8889</td>\n",
       "                        <td id=\"T_b0da139e_e647_11ea_b1b0_482ae32b83darow6_col3\" class=\"data row6 col3\" >0.9167</td>\n",
       "                        <td id=\"T_b0da139e_e647_11ea_b1b0_482ae32b83darow6_col4\" class=\"data row6 col4\" >0.8857</td>\n",
       "                        <td id=\"T_b0da139e_e647_11ea_b1b0_482ae32b83darow6_col5\" class=\"data row6 col5\" >0.8333</td>\n",
       "                        <td id=\"T_b0da139e_e647_11ea_b1b0_482ae32b83darow6_col6\" class=\"data row6 col6\" >0.8492</td>\n",
       "            </tr>\n",
       "            <tr>\n",
       "                        <th id=\"T_b0da139e_e647_11ea_b1b0_482ae32b83dalevel0_row7\" class=\"row_heading level0 row7\" >7</th>\n",
       "                        <td id=\"T_b0da139e_e647_11ea_b1b0_482ae32b83darow7_col0\" class=\"data row7 col0\" >0.6667</td>\n",
       "                        <td id=\"T_b0da139e_e647_11ea_b1b0_482ae32b83darow7_col1\" class=\"data row7 col1\" >0.0000</td>\n",
       "                        <td id=\"T_b0da139e_e647_11ea_b1b0_482ae32b83darow7_col2\" class=\"data row7 col2\" >0.6667</td>\n",
       "                        <td id=\"T_b0da139e_e647_11ea_b1b0_482ae32b83darow7_col3\" class=\"data row7 col3\" >0.6667</td>\n",
       "                        <td id=\"T_b0da139e_e647_11ea_b1b0_482ae32b83darow7_col4\" class=\"data row7 col4\" >0.6571</td>\n",
       "                        <td id=\"T_b0da139e_e647_11ea_b1b0_482ae32b83darow7_col5\" class=\"data row7 col5\" >0.5000</td>\n",
       "                        <td id=\"T_b0da139e_e647_11ea_b1b0_482ae32b83darow7_col6\" class=\"data row7 col6\" >0.5095</td>\n",
       "            </tr>\n",
       "            <tr>\n",
       "                        <th id=\"T_b0da139e_e647_11ea_b1b0_482ae32b83dalevel0_row8\" class=\"row_heading level0 row8\" >8</th>\n",
       "                        <td id=\"T_b0da139e_e647_11ea_b1b0_482ae32b83darow8_col0\" class=\"data row8 col0\" >1.0000</td>\n",
       "                        <td id=\"T_b0da139e_e647_11ea_b1b0_482ae32b83darow8_col1\" class=\"data row8 col1\" >0.0000</td>\n",
       "                        <td id=\"T_b0da139e_e647_11ea_b1b0_482ae32b83darow8_col2\" class=\"data row8 col2\" >1.0000</td>\n",
       "                        <td id=\"T_b0da139e_e647_11ea_b1b0_482ae32b83darow8_col3\" class=\"data row8 col3\" >1.0000</td>\n",
       "                        <td id=\"T_b0da139e_e647_11ea_b1b0_482ae32b83darow8_col4\" class=\"data row8 col4\" >1.0000</td>\n",
       "                        <td id=\"T_b0da139e_e647_11ea_b1b0_482ae32b83darow8_col5\" class=\"data row8 col5\" >1.0000</td>\n",
       "                        <td id=\"T_b0da139e_e647_11ea_b1b0_482ae32b83darow8_col6\" class=\"data row8 col6\" >1.0000</td>\n",
       "            </tr>\n",
       "            <tr>\n",
       "                        <th id=\"T_b0da139e_e647_11ea_b1b0_482ae32b83dalevel0_row9\" class=\"row_heading level0 row9\" >9</th>\n",
       "                        <td id=\"T_b0da139e_e647_11ea_b1b0_482ae32b83darow9_col0\" class=\"data row9 col0\" >0.8889</td>\n",
       "                        <td id=\"T_b0da139e_e647_11ea_b1b0_482ae32b83darow9_col1\" class=\"data row9 col1\" >0.0000</td>\n",
       "                        <td id=\"T_b0da139e_e647_11ea_b1b0_482ae32b83darow9_col2\" class=\"data row9 col2\" >0.8889</td>\n",
       "                        <td id=\"T_b0da139e_e647_11ea_b1b0_482ae32b83darow9_col3\" class=\"data row9 col3\" >0.9167</td>\n",
       "                        <td id=\"T_b0da139e_e647_11ea_b1b0_482ae32b83darow9_col4\" class=\"data row9 col4\" >0.8857</td>\n",
       "                        <td id=\"T_b0da139e_e647_11ea_b1b0_482ae32b83darow9_col5\" class=\"data row9 col5\" >0.8333</td>\n",
       "                        <td id=\"T_b0da139e_e647_11ea_b1b0_482ae32b83darow9_col6\" class=\"data row9 col6\" >0.8492</td>\n",
       "            </tr>\n",
       "            <tr>\n",
       "                        <th id=\"T_b0da139e_e647_11ea_b1b0_482ae32b83dalevel0_row10\" class=\"row_heading level0 row10\" >Mean</th>\n",
       "                        <td id=\"T_b0da139e_e647_11ea_b1b0_482ae32b83darow10_col0\" class=\"data row10 col0\" >0.9244</td>\n",
       "                        <td id=\"T_b0da139e_e647_11ea_b1b0_482ae32b83darow10_col1\" class=\"data row10 col1\" >0.0000</td>\n",
       "                        <td id=\"T_b0da139e_e647_11ea_b1b0_482ae32b83darow10_col2\" class=\"data row10 col2\" >0.9222</td>\n",
       "                        <td id=\"T_b0da139e_e647_11ea_b1b0_482ae32b83darow10_col3\" class=\"data row10 col3\" >0.9345</td>\n",
       "                        <td id=\"T_b0da139e_e647_11ea_b1b0_482ae32b83darow10_col4\" class=\"data row10 col4\" >0.9221</td>\n",
       "                        <td id=\"T_b0da139e_e647_11ea_b1b0_482ae32b83darow10_col5\" class=\"data row10 col5\" >0.8861</td>\n",
       "                        <td id=\"T_b0da139e_e647_11ea_b1b0_482ae32b83darow10_col6\" class=\"data row10 col6\" >0.8929</td>\n",
       "            </tr>\n",
       "            <tr>\n",
       "                        <th id=\"T_b0da139e_e647_11ea_b1b0_482ae32b83dalevel0_row11\" class=\"row_heading level0 row11\" >SD</th>\n",
       "                        <td id=\"T_b0da139e_e647_11ea_b1b0_482ae32b83darow11_col0\" class=\"data row11 col0\" >0.0994</td>\n",
       "                        <td id=\"T_b0da139e_e647_11ea_b1b0_482ae32b83darow11_col1\" class=\"data row11 col1\" >0.0000</td>\n",
       "                        <td id=\"T_b0da139e_e647_11ea_b1b0_482ae32b83darow11_col2\" class=\"data row11 col2\" >0.1000</td>\n",
       "                        <td id=\"T_b0da139e_e647_11ea_b1b0_482ae32b83darow11_col3\" class=\"data row11 col3\" >0.0970</td>\n",
       "                        <td id=\"T_b0da139e_e647_11ea_b1b0_482ae32b83darow11_col4\" class=\"data row11 col4\" >0.1022</td>\n",
       "                        <td id=\"T_b0da139e_e647_11ea_b1b0_482ae32b83darow11_col5\" class=\"data row11 col5\" >0.1492</td>\n",
       "                        <td id=\"T_b0da139e_e647_11ea_b1b0_482ae32b83darow11_col6\" class=\"data row11 col6\" >0.1450</td>\n",
       "            </tr>\n",
       "    </tbody></table>"
      ],
      "text/plain": [
       "<pandas.io.formats.style.Styler at 0x1faef627948>"
      ]
     },
     "metadata": {},
     "output_type": "display_data"
    }
   ],
   "source": [
    "lr = create_model('lr')"
   ]
  },
  {
   "cell_type": "markdown",
   "metadata": {
    "colab_type": "text",
    "id": "HRtpGzhvfuN1"
   },
   "source": [
    "Notice that the Mean score of all models matches with the score printed in `compare_models()`. This is because the metrics printed in the `compare_models()` score grid are the average scores across all CV folds. Similar to `compare_models()`, if you want to change the fold parameter from the default value of 10 to a different value then you can use the `fold` parameter. For Example: `create_model('dt', fold = 5)` will create a Decision Tree Classifier using 5 fold stratified CV."
   ]
  },
  {
   "cell_type": "markdown",
   "metadata": {
    "colab_type": "text",
    "id": "jzY5pn-OfuN4"
   },
   "source": [
    "# 9.0 Tune a Model"
   ]
  },
  {
   "cell_type": "markdown",
   "metadata": {
    "colab_type": "text",
    "id": "FShSLa10fuN5"
   },
   "source": [
    "When a model is created using the `create_model()` function it uses the default hyperparameters to train the model. In order to tune hyperparameters, the `tune_model()` function is used. This function automatically tunes the hyperparameters of a model using `Random Grid Search` on a pre-defined search space. The output prints a score grid that shows Accuracy, AUC, Recall, Precision, F1, Kappa, and MCC by fold for the best model. To use the custom search grid, you can pass `custom_grid` parameter in the `tune_model` function (see 9.2 KNN tuning below). <br/>\n",
    "<br/>"
   ]
  },
  {
   "cell_type": "markdown",
   "metadata": {
    "colab_type": "text",
    "id": "WVgKXyjdfuN7"
   },
   "source": [
    "# 9.1 Decision Tree Classifier"
   ]
  },
  {
   "cell_type": "code",
   "execution_count": 10,
   "metadata": {
    "colab": {
     "base_uri": "https://localhost:8080/",
     "height": 421
    },
    "colab_type": "code",
    "id": "sQqeuiqLfuN9",
    "outputId": "2ae99738-689c-4506-da89-2a5710b2b40b"
   },
   "outputs": [
    {
     "data": {
      "text/html": [
       "<style  type=\"text/css\" >\n",
       "    #T_b135d68c_e647_11ea_9574_482ae32b83darow10_col0 {\n",
       "            background:  yellow;\n",
       "        }    #T_b135d68c_e647_11ea_9574_482ae32b83darow10_col1 {\n",
       "            background:  yellow;\n",
       "        }    #T_b135d68c_e647_11ea_9574_482ae32b83darow10_col2 {\n",
       "            background:  yellow;\n",
       "        }    #T_b135d68c_e647_11ea_9574_482ae32b83darow10_col3 {\n",
       "            background:  yellow;\n",
       "        }    #T_b135d68c_e647_11ea_9574_482ae32b83darow10_col4 {\n",
       "            background:  yellow;\n",
       "        }    #T_b135d68c_e647_11ea_9574_482ae32b83darow10_col5 {\n",
       "            background:  yellow;\n",
       "        }    #T_b135d68c_e647_11ea_9574_482ae32b83darow10_col6 {\n",
       "            background:  yellow;\n",
       "        }</style><table id=\"T_b135d68c_e647_11ea_9574_482ae32b83da\" ><thead>    <tr>        <th class=\"blank level0\" ></th>        <th class=\"col_heading level0 col0\" >Accuracy</th>        <th class=\"col_heading level0 col1\" >AUC</th>        <th class=\"col_heading level0 col2\" >Recall</th>        <th class=\"col_heading level0 col3\" >Prec.</th>        <th class=\"col_heading level0 col4\" >F1</th>        <th class=\"col_heading level0 col5\" >Kappa</th>        <th class=\"col_heading level0 col6\" >MCC</th>    </tr></thead><tbody>\n",
       "                <tr>\n",
       "                        <th id=\"T_b135d68c_e647_11ea_9574_482ae32b83dalevel0_row0\" class=\"row_heading level0 row0\" >0</th>\n",
       "                        <td id=\"T_b135d68c_e647_11ea_9574_482ae32b83darow0_col0\" class=\"data row0 col0\" >1.0000</td>\n",
       "                        <td id=\"T_b135d68c_e647_11ea_9574_482ae32b83darow0_col1\" class=\"data row0 col1\" >0.0000</td>\n",
       "                        <td id=\"T_b135d68c_e647_11ea_9574_482ae32b83darow0_col2\" class=\"data row0 col2\" >1.0000</td>\n",
       "                        <td id=\"T_b135d68c_e647_11ea_9574_482ae32b83darow0_col3\" class=\"data row0 col3\" >1.0000</td>\n",
       "                        <td id=\"T_b135d68c_e647_11ea_9574_482ae32b83darow0_col4\" class=\"data row0 col4\" >1.0000</td>\n",
       "                        <td id=\"T_b135d68c_e647_11ea_9574_482ae32b83darow0_col5\" class=\"data row0 col5\" >1.0000</td>\n",
       "                        <td id=\"T_b135d68c_e647_11ea_9574_482ae32b83darow0_col6\" class=\"data row0 col6\" >1.0000</td>\n",
       "            </tr>\n",
       "            <tr>\n",
       "                        <th id=\"T_b135d68c_e647_11ea_9574_482ae32b83dalevel0_row1\" class=\"row_heading level0 row1\" >1</th>\n",
       "                        <td id=\"T_b135d68c_e647_11ea_9574_482ae32b83darow1_col0\" class=\"data row1 col0\" >1.0000</td>\n",
       "                        <td id=\"T_b135d68c_e647_11ea_9574_482ae32b83darow1_col1\" class=\"data row1 col1\" >0.0000</td>\n",
       "                        <td id=\"T_b135d68c_e647_11ea_9574_482ae32b83darow1_col2\" class=\"data row1 col2\" >1.0000</td>\n",
       "                        <td id=\"T_b135d68c_e647_11ea_9574_482ae32b83darow1_col3\" class=\"data row1 col3\" >1.0000</td>\n",
       "                        <td id=\"T_b135d68c_e647_11ea_9574_482ae32b83darow1_col4\" class=\"data row1 col4\" >1.0000</td>\n",
       "                        <td id=\"T_b135d68c_e647_11ea_9574_482ae32b83darow1_col5\" class=\"data row1 col5\" >1.0000</td>\n",
       "                        <td id=\"T_b135d68c_e647_11ea_9574_482ae32b83darow1_col6\" class=\"data row1 col6\" >1.0000</td>\n",
       "            </tr>\n",
       "            <tr>\n",
       "                        <th id=\"T_b135d68c_e647_11ea_9574_482ae32b83dalevel0_row2\" class=\"row_heading level0 row2\" >2</th>\n",
       "                        <td id=\"T_b135d68c_e647_11ea_9574_482ae32b83darow2_col0\" class=\"data row2 col0\" >1.0000</td>\n",
       "                        <td id=\"T_b135d68c_e647_11ea_9574_482ae32b83darow2_col1\" class=\"data row2 col1\" >0.0000</td>\n",
       "                        <td id=\"T_b135d68c_e647_11ea_9574_482ae32b83darow2_col2\" class=\"data row2 col2\" >1.0000</td>\n",
       "                        <td id=\"T_b135d68c_e647_11ea_9574_482ae32b83darow2_col3\" class=\"data row2 col3\" >1.0000</td>\n",
       "                        <td id=\"T_b135d68c_e647_11ea_9574_482ae32b83darow2_col4\" class=\"data row2 col4\" >1.0000</td>\n",
       "                        <td id=\"T_b135d68c_e647_11ea_9574_482ae32b83darow2_col5\" class=\"data row2 col5\" >1.0000</td>\n",
       "                        <td id=\"T_b135d68c_e647_11ea_9574_482ae32b83darow2_col6\" class=\"data row2 col6\" >1.0000</td>\n",
       "            </tr>\n",
       "            <tr>\n",
       "                        <th id=\"T_b135d68c_e647_11ea_9574_482ae32b83dalevel0_row3\" class=\"row_heading level0 row3\" >3</th>\n",
       "                        <td id=\"T_b135d68c_e647_11ea_9574_482ae32b83darow3_col0\" class=\"data row3 col0\" >0.9000</td>\n",
       "                        <td id=\"T_b135d68c_e647_11ea_9574_482ae32b83darow3_col1\" class=\"data row3 col1\" >0.0000</td>\n",
       "                        <td id=\"T_b135d68c_e647_11ea_9574_482ae32b83darow3_col2\" class=\"data row3 col2\" >0.8889</td>\n",
       "                        <td id=\"T_b135d68c_e647_11ea_9574_482ae32b83darow3_col3\" class=\"data row3 col3\" >0.9250</td>\n",
       "                        <td id=\"T_b135d68c_e647_11ea_9574_482ae32b83darow3_col4\" class=\"data row3 col4\" >0.8971</td>\n",
       "                        <td id=\"T_b135d68c_e647_11ea_9574_482ae32b83darow3_col5\" class=\"data row3 col5\" >0.8485</td>\n",
       "                        <td id=\"T_b135d68c_e647_11ea_9574_482ae32b83darow3_col6\" class=\"data row3 col6\" >0.8616</td>\n",
       "            </tr>\n",
       "            <tr>\n",
       "                        <th id=\"T_b135d68c_e647_11ea_9574_482ae32b83dalevel0_row4\" class=\"row_heading level0 row4\" >4</th>\n",
       "                        <td id=\"T_b135d68c_e647_11ea_9574_482ae32b83darow4_col0\" class=\"data row4 col0\" >0.8889</td>\n",
       "                        <td id=\"T_b135d68c_e647_11ea_9574_482ae32b83darow4_col1\" class=\"data row4 col1\" >0.0000</td>\n",
       "                        <td id=\"T_b135d68c_e647_11ea_9574_482ae32b83darow4_col2\" class=\"data row4 col2\" >0.8889</td>\n",
       "                        <td id=\"T_b135d68c_e647_11ea_9574_482ae32b83darow4_col3\" class=\"data row4 col3\" >0.9167</td>\n",
       "                        <td id=\"T_b135d68c_e647_11ea_9574_482ae32b83darow4_col4\" class=\"data row4 col4\" >0.8857</td>\n",
       "                        <td id=\"T_b135d68c_e647_11ea_9574_482ae32b83darow4_col5\" class=\"data row4 col5\" >0.8333</td>\n",
       "                        <td id=\"T_b135d68c_e647_11ea_9574_482ae32b83darow4_col6\" class=\"data row4 col6\" >0.8492</td>\n",
       "            </tr>\n",
       "            <tr>\n",
       "                        <th id=\"T_b135d68c_e647_11ea_9574_482ae32b83dalevel0_row5\" class=\"row_heading level0 row5\" >5</th>\n",
       "                        <td id=\"T_b135d68c_e647_11ea_9574_482ae32b83darow5_col0\" class=\"data row5 col0\" >1.0000</td>\n",
       "                        <td id=\"T_b135d68c_e647_11ea_9574_482ae32b83darow5_col1\" class=\"data row5 col1\" >0.0000</td>\n",
       "                        <td id=\"T_b135d68c_e647_11ea_9574_482ae32b83darow5_col2\" class=\"data row5 col2\" >1.0000</td>\n",
       "                        <td id=\"T_b135d68c_e647_11ea_9574_482ae32b83darow5_col3\" class=\"data row5 col3\" >1.0000</td>\n",
       "                        <td id=\"T_b135d68c_e647_11ea_9574_482ae32b83darow5_col4\" class=\"data row5 col4\" >1.0000</td>\n",
       "                        <td id=\"T_b135d68c_e647_11ea_9574_482ae32b83darow5_col5\" class=\"data row5 col5\" >1.0000</td>\n",
       "                        <td id=\"T_b135d68c_e647_11ea_9574_482ae32b83darow5_col6\" class=\"data row5 col6\" >1.0000</td>\n",
       "            </tr>\n",
       "            <tr>\n",
       "                        <th id=\"T_b135d68c_e647_11ea_9574_482ae32b83dalevel0_row6\" class=\"row_heading level0 row6\" >6</th>\n",
       "                        <td id=\"T_b135d68c_e647_11ea_9574_482ae32b83darow6_col0\" class=\"data row6 col0\" >0.8889</td>\n",
       "                        <td id=\"T_b135d68c_e647_11ea_9574_482ae32b83darow6_col1\" class=\"data row6 col1\" >0.0000</td>\n",
       "                        <td id=\"T_b135d68c_e647_11ea_9574_482ae32b83darow6_col2\" class=\"data row6 col2\" >0.8889</td>\n",
       "                        <td id=\"T_b135d68c_e647_11ea_9574_482ae32b83darow6_col3\" class=\"data row6 col3\" >0.9167</td>\n",
       "                        <td id=\"T_b135d68c_e647_11ea_9574_482ae32b83darow6_col4\" class=\"data row6 col4\" >0.8857</td>\n",
       "                        <td id=\"T_b135d68c_e647_11ea_9574_482ae32b83darow6_col5\" class=\"data row6 col5\" >0.8333</td>\n",
       "                        <td id=\"T_b135d68c_e647_11ea_9574_482ae32b83darow6_col6\" class=\"data row6 col6\" >0.8492</td>\n",
       "            </tr>\n",
       "            <tr>\n",
       "                        <th id=\"T_b135d68c_e647_11ea_9574_482ae32b83dalevel0_row7\" class=\"row_heading level0 row7\" >7</th>\n",
       "                        <td id=\"T_b135d68c_e647_11ea_9574_482ae32b83darow7_col0\" class=\"data row7 col0\" >0.8889</td>\n",
       "                        <td id=\"T_b135d68c_e647_11ea_9574_482ae32b83darow7_col1\" class=\"data row7 col1\" >0.0000</td>\n",
       "                        <td id=\"T_b135d68c_e647_11ea_9574_482ae32b83darow7_col2\" class=\"data row7 col2\" >0.8889</td>\n",
       "                        <td id=\"T_b135d68c_e647_11ea_9574_482ae32b83darow7_col3\" class=\"data row7 col3\" >0.9167</td>\n",
       "                        <td id=\"T_b135d68c_e647_11ea_9574_482ae32b83darow7_col4\" class=\"data row7 col4\" >0.8857</td>\n",
       "                        <td id=\"T_b135d68c_e647_11ea_9574_482ae32b83darow7_col5\" class=\"data row7 col5\" >0.8333</td>\n",
       "                        <td id=\"T_b135d68c_e647_11ea_9574_482ae32b83darow7_col6\" class=\"data row7 col6\" >0.8492</td>\n",
       "            </tr>\n",
       "            <tr>\n",
       "                        <th id=\"T_b135d68c_e647_11ea_9574_482ae32b83dalevel0_row8\" class=\"row_heading level0 row8\" >8</th>\n",
       "                        <td id=\"T_b135d68c_e647_11ea_9574_482ae32b83darow8_col0\" class=\"data row8 col0\" >1.0000</td>\n",
       "                        <td id=\"T_b135d68c_e647_11ea_9574_482ae32b83darow8_col1\" class=\"data row8 col1\" >0.0000</td>\n",
       "                        <td id=\"T_b135d68c_e647_11ea_9574_482ae32b83darow8_col2\" class=\"data row8 col2\" >1.0000</td>\n",
       "                        <td id=\"T_b135d68c_e647_11ea_9574_482ae32b83darow8_col3\" class=\"data row8 col3\" >1.0000</td>\n",
       "                        <td id=\"T_b135d68c_e647_11ea_9574_482ae32b83darow8_col4\" class=\"data row8 col4\" >1.0000</td>\n",
       "                        <td id=\"T_b135d68c_e647_11ea_9574_482ae32b83darow8_col5\" class=\"data row8 col5\" >1.0000</td>\n",
       "                        <td id=\"T_b135d68c_e647_11ea_9574_482ae32b83darow8_col6\" class=\"data row8 col6\" >1.0000</td>\n",
       "            </tr>\n",
       "            <tr>\n",
       "                        <th id=\"T_b135d68c_e647_11ea_9574_482ae32b83dalevel0_row9\" class=\"row_heading level0 row9\" >9</th>\n",
       "                        <td id=\"T_b135d68c_e647_11ea_9574_482ae32b83darow9_col0\" class=\"data row9 col0\" >0.7778</td>\n",
       "                        <td id=\"T_b135d68c_e647_11ea_9574_482ae32b83darow9_col1\" class=\"data row9 col1\" >0.0000</td>\n",
       "                        <td id=\"T_b135d68c_e647_11ea_9574_482ae32b83darow9_col2\" class=\"data row9 col2\" >0.7778</td>\n",
       "                        <td id=\"T_b135d68c_e647_11ea_9574_482ae32b83darow9_col3\" class=\"data row9 col3\" >0.7778</td>\n",
       "                        <td id=\"T_b135d68c_e647_11ea_9574_482ae32b83darow9_col4\" class=\"data row9 col4\" >0.7778</td>\n",
       "                        <td id=\"T_b135d68c_e647_11ea_9574_482ae32b83darow9_col5\" class=\"data row9 col5\" >0.6667</td>\n",
       "                        <td id=\"T_b135d68c_e647_11ea_9574_482ae32b83darow9_col6\" class=\"data row9 col6\" >0.6667</td>\n",
       "            </tr>\n",
       "            <tr>\n",
       "                        <th id=\"T_b135d68c_e647_11ea_9574_482ae32b83dalevel0_row10\" class=\"row_heading level0 row10\" >Mean</th>\n",
       "                        <td id=\"T_b135d68c_e647_11ea_9574_482ae32b83darow10_col0\" class=\"data row10 col0\" >0.9344</td>\n",
       "                        <td id=\"T_b135d68c_e647_11ea_9574_482ae32b83darow10_col1\" class=\"data row10 col1\" >0.0000</td>\n",
       "                        <td id=\"T_b135d68c_e647_11ea_9574_482ae32b83darow10_col2\" class=\"data row10 col2\" >0.9333</td>\n",
       "                        <td id=\"T_b135d68c_e647_11ea_9574_482ae32b83darow10_col3\" class=\"data row10 col3\" >0.9453</td>\n",
       "                        <td id=\"T_b135d68c_e647_11ea_9574_482ae32b83darow10_col4\" class=\"data row10 col4\" >0.9332</td>\n",
       "                        <td id=\"T_b135d68c_e647_11ea_9574_482ae32b83darow10_col5\" class=\"data row10 col5\" >0.9015</td>\n",
       "                        <td id=\"T_b135d68c_e647_11ea_9574_482ae32b83darow10_col6\" class=\"data row10 col6\" >0.9076</td>\n",
       "            </tr>\n",
       "            <tr>\n",
       "                        <th id=\"T_b135d68c_e647_11ea_9574_482ae32b83dalevel0_row11\" class=\"row_heading level0 row11\" >SD</th>\n",
       "                        <td id=\"T_b135d68c_e647_11ea_9574_482ae32b83darow11_col0\" class=\"data row11 col0\" >0.0731</td>\n",
       "                        <td id=\"T_b135d68c_e647_11ea_9574_482ae32b83darow11_col1\" class=\"data row11 col1\" >0.0000</td>\n",
       "                        <td id=\"T_b135d68c_e647_11ea_9574_482ae32b83darow11_col2\" class=\"data row11 col2\" >0.0737</td>\n",
       "                        <td id=\"T_b135d68c_e647_11ea_9574_482ae32b83darow11_col3\" class=\"data row11 col3\" >0.0677</td>\n",
       "                        <td id=\"T_b135d68c_e647_11ea_9574_482ae32b83darow11_col4\" class=\"data row11 col4\" >0.0738</td>\n",
       "                        <td id=\"T_b135d68c_e647_11ea_9574_482ae32b83darow11_col5\" class=\"data row11 col5\" >0.1097</td>\n",
       "                        <td id=\"T_b135d68c_e647_11ea_9574_482ae32b83darow11_col6\" class=\"data row11 col6\" >0.1063</td>\n",
       "            </tr>\n",
       "    </tbody></table>"
      ],
      "text/plain": [
       "<pandas.io.formats.style.Styler at 0x1faef652508>"
      ]
     },
     "metadata": {},
     "output_type": "display_data"
    }
   ],
   "source": [
    "tuned_dt = tune_model(dt)"
   ]
  },
  {
   "cell_type": "code",
   "execution_count": 11,
   "metadata": {
    "colab": {
     "base_uri": "https://localhost:8080/",
     "height": 272
    },
    "colab_type": "code",
    "id": "Wgxxg07CfuOD",
    "outputId": "78e965df-7c6a-4548-b2ec-57a051df89bd"
   },
   "outputs": [
    {
     "name": "stdout",
     "output_type": "stream",
     "text": [
      "OneVsRestClassifier(estimator=DecisionTreeClassifier(ccp_alpha=0.0,\n",
      "                                                     class_weight=None,\n",
      "                                                     criterion='gini',\n",
      "                                                     max_depth=2,\n",
      "                                                     max_features=2,\n",
      "                                                     max_leaf_nodes=None,\n",
      "                                                     min_impurity_decrease=0.0,\n",
      "                                                     min_impurity_split=None,\n",
      "                                                     min_samples_leaf=3,\n",
      "                                                     min_samples_split=2,\n",
      "                                                     min_weight_fraction_leaf=0.0,\n",
      "                                                     presort='deprecated',\n",
      "                                                     random_state=123,\n",
      "                                                     splitter='best'),\n",
      "                    n_jobs=None)\n"
     ]
    }
   ],
   "source": [
    "#tuned model object is stored in the variable 'tuned_dt'. \n",
    "print(tuned_dt)"
   ]
  },
  {
   "cell_type": "markdown",
   "metadata": {
    "colab_type": "text",
    "id": "fe9QKCZ8fuOU"
   },
   "source": [
    "# 9.2 K Neighbors Classifier"
   ]
  },
  {
   "cell_type": "code",
   "execution_count": 13,
   "metadata": {},
   "outputs": [
    {
     "data": {
      "text/html": [
       "<style  type=\"text/css\" >\n",
       "    #T_0c1a5864_e648_11ea_b804_482ae32b83darow10_col0 {\n",
       "            background:  yellow;\n",
       "        }    #T_0c1a5864_e648_11ea_b804_482ae32b83darow10_col1 {\n",
       "            background:  yellow;\n",
       "        }    #T_0c1a5864_e648_11ea_b804_482ae32b83darow10_col2 {\n",
       "            background:  yellow;\n",
       "        }    #T_0c1a5864_e648_11ea_b804_482ae32b83darow10_col3 {\n",
       "            background:  yellow;\n",
       "        }    #T_0c1a5864_e648_11ea_b804_482ae32b83darow10_col4 {\n",
       "            background:  yellow;\n",
       "        }    #T_0c1a5864_e648_11ea_b804_482ae32b83darow10_col5 {\n",
       "            background:  yellow;\n",
       "        }    #T_0c1a5864_e648_11ea_b804_482ae32b83darow10_col6 {\n",
       "            background:  yellow;\n",
       "        }</style><table id=\"T_0c1a5864_e648_11ea_b804_482ae32b83da\" ><thead>    <tr>        <th class=\"blank level0\" ></th>        <th class=\"col_heading level0 col0\" >Accuracy</th>        <th class=\"col_heading level0 col1\" >AUC</th>        <th class=\"col_heading level0 col2\" >Recall</th>        <th class=\"col_heading level0 col3\" >Prec.</th>        <th class=\"col_heading level0 col4\" >F1</th>        <th class=\"col_heading level0 col5\" >Kappa</th>        <th class=\"col_heading level0 col6\" >MCC</th>    </tr></thead><tbody>\n",
       "                <tr>\n",
       "                        <th id=\"T_0c1a5864_e648_11ea_b804_482ae32b83dalevel0_row0\" class=\"row_heading level0 row0\" >0</th>\n",
       "                        <td id=\"T_0c1a5864_e648_11ea_b804_482ae32b83darow0_col0\" class=\"data row0 col0\" >1.0000</td>\n",
       "                        <td id=\"T_0c1a5864_e648_11ea_b804_482ae32b83darow0_col1\" class=\"data row0 col1\" >0.0000</td>\n",
       "                        <td id=\"T_0c1a5864_e648_11ea_b804_482ae32b83darow0_col2\" class=\"data row0 col2\" >1.0000</td>\n",
       "                        <td id=\"T_0c1a5864_e648_11ea_b804_482ae32b83darow0_col3\" class=\"data row0 col3\" >1.0000</td>\n",
       "                        <td id=\"T_0c1a5864_e648_11ea_b804_482ae32b83darow0_col4\" class=\"data row0 col4\" >1.0000</td>\n",
       "                        <td id=\"T_0c1a5864_e648_11ea_b804_482ae32b83darow0_col5\" class=\"data row0 col5\" >1.0000</td>\n",
       "                        <td id=\"T_0c1a5864_e648_11ea_b804_482ae32b83darow0_col6\" class=\"data row0 col6\" >1.0000</td>\n",
       "            </tr>\n",
       "            <tr>\n",
       "                        <th id=\"T_0c1a5864_e648_11ea_b804_482ae32b83dalevel0_row1\" class=\"row_heading level0 row1\" >1</th>\n",
       "                        <td id=\"T_0c1a5864_e648_11ea_b804_482ae32b83darow1_col0\" class=\"data row1 col0\" >1.0000</td>\n",
       "                        <td id=\"T_0c1a5864_e648_11ea_b804_482ae32b83darow1_col1\" class=\"data row1 col1\" >0.0000</td>\n",
       "                        <td id=\"T_0c1a5864_e648_11ea_b804_482ae32b83darow1_col2\" class=\"data row1 col2\" >1.0000</td>\n",
       "                        <td id=\"T_0c1a5864_e648_11ea_b804_482ae32b83darow1_col3\" class=\"data row1 col3\" >1.0000</td>\n",
       "                        <td id=\"T_0c1a5864_e648_11ea_b804_482ae32b83darow1_col4\" class=\"data row1 col4\" >1.0000</td>\n",
       "                        <td id=\"T_0c1a5864_e648_11ea_b804_482ae32b83darow1_col5\" class=\"data row1 col5\" >1.0000</td>\n",
       "                        <td id=\"T_0c1a5864_e648_11ea_b804_482ae32b83darow1_col6\" class=\"data row1 col6\" >1.0000</td>\n",
       "            </tr>\n",
       "            <tr>\n",
       "                        <th id=\"T_0c1a5864_e648_11ea_b804_482ae32b83dalevel0_row2\" class=\"row_heading level0 row2\" >2</th>\n",
       "                        <td id=\"T_0c1a5864_e648_11ea_b804_482ae32b83darow2_col0\" class=\"data row2 col0\" >0.9000</td>\n",
       "                        <td id=\"T_0c1a5864_e648_11ea_b804_482ae32b83darow2_col1\" class=\"data row2 col1\" >0.0000</td>\n",
       "                        <td id=\"T_0c1a5864_e648_11ea_b804_482ae32b83darow2_col2\" class=\"data row2 col2\" >0.8889</td>\n",
       "                        <td id=\"T_0c1a5864_e648_11ea_b804_482ae32b83darow2_col3\" class=\"data row2 col3\" >0.9250</td>\n",
       "                        <td id=\"T_0c1a5864_e648_11ea_b804_482ae32b83darow2_col4\" class=\"data row2 col4\" >0.8971</td>\n",
       "                        <td id=\"T_0c1a5864_e648_11ea_b804_482ae32b83darow2_col5\" class=\"data row2 col5\" >0.8485</td>\n",
       "                        <td id=\"T_0c1a5864_e648_11ea_b804_482ae32b83darow2_col6\" class=\"data row2 col6\" >0.8616</td>\n",
       "            </tr>\n",
       "            <tr>\n",
       "                        <th id=\"T_0c1a5864_e648_11ea_b804_482ae32b83dalevel0_row3\" class=\"row_heading level0 row3\" >3</th>\n",
       "                        <td id=\"T_0c1a5864_e648_11ea_b804_482ae32b83darow3_col0\" class=\"data row3 col0\" >0.9000</td>\n",
       "                        <td id=\"T_0c1a5864_e648_11ea_b804_482ae32b83darow3_col1\" class=\"data row3 col1\" >0.0000</td>\n",
       "                        <td id=\"T_0c1a5864_e648_11ea_b804_482ae32b83darow3_col2\" class=\"data row3 col2\" >0.8889</td>\n",
       "                        <td id=\"T_0c1a5864_e648_11ea_b804_482ae32b83darow3_col3\" class=\"data row3 col3\" >0.9250</td>\n",
       "                        <td id=\"T_0c1a5864_e648_11ea_b804_482ae32b83darow3_col4\" class=\"data row3 col4\" >0.8971</td>\n",
       "                        <td id=\"T_0c1a5864_e648_11ea_b804_482ae32b83darow3_col5\" class=\"data row3 col5\" >0.8485</td>\n",
       "                        <td id=\"T_0c1a5864_e648_11ea_b804_482ae32b83darow3_col6\" class=\"data row3 col6\" >0.8616</td>\n",
       "            </tr>\n",
       "            <tr>\n",
       "                        <th id=\"T_0c1a5864_e648_11ea_b804_482ae32b83dalevel0_row4\" class=\"row_heading level0 row4\" >4</th>\n",
       "                        <td id=\"T_0c1a5864_e648_11ea_b804_482ae32b83darow4_col0\" class=\"data row4 col0\" >0.8889</td>\n",
       "                        <td id=\"T_0c1a5864_e648_11ea_b804_482ae32b83darow4_col1\" class=\"data row4 col1\" >0.0000</td>\n",
       "                        <td id=\"T_0c1a5864_e648_11ea_b804_482ae32b83darow4_col2\" class=\"data row4 col2\" >0.8889</td>\n",
       "                        <td id=\"T_0c1a5864_e648_11ea_b804_482ae32b83darow4_col3\" class=\"data row4 col3\" >0.9167</td>\n",
       "                        <td id=\"T_0c1a5864_e648_11ea_b804_482ae32b83darow4_col4\" class=\"data row4 col4\" >0.8857</td>\n",
       "                        <td id=\"T_0c1a5864_e648_11ea_b804_482ae32b83darow4_col5\" class=\"data row4 col5\" >0.8333</td>\n",
       "                        <td id=\"T_0c1a5864_e648_11ea_b804_482ae32b83darow4_col6\" class=\"data row4 col6\" >0.8492</td>\n",
       "            </tr>\n",
       "            <tr>\n",
       "                        <th id=\"T_0c1a5864_e648_11ea_b804_482ae32b83dalevel0_row5\" class=\"row_heading level0 row5\" >5</th>\n",
       "                        <td id=\"T_0c1a5864_e648_11ea_b804_482ae32b83darow5_col0\" class=\"data row5 col0\" >1.0000</td>\n",
       "                        <td id=\"T_0c1a5864_e648_11ea_b804_482ae32b83darow5_col1\" class=\"data row5 col1\" >0.0000</td>\n",
       "                        <td id=\"T_0c1a5864_e648_11ea_b804_482ae32b83darow5_col2\" class=\"data row5 col2\" >1.0000</td>\n",
       "                        <td id=\"T_0c1a5864_e648_11ea_b804_482ae32b83darow5_col3\" class=\"data row5 col3\" >1.0000</td>\n",
       "                        <td id=\"T_0c1a5864_e648_11ea_b804_482ae32b83darow5_col4\" class=\"data row5 col4\" >1.0000</td>\n",
       "                        <td id=\"T_0c1a5864_e648_11ea_b804_482ae32b83darow5_col5\" class=\"data row5 col5\" >1.0000</td>\n",
       "                        <td id=\"T_0c1a5864_e648_11ea_b804_482ae32b83darow5_col6\" class=\"data row5 col6\" >1.0000</td>\n",
       "            </tr>\n",
       "            <tr>\n",
       "                        <th id=\"T_0c1a5864_e648_11ea_b804_482ae32b83dalevel0_row6\" class=\"row_heading level0 row6\" >6</th>\n",
       "                        <td id=\"T_0c1a5864_e648_11ea_b804_482ae32b83darow6_col0\" class=\"data row6 col0\" >1.0000</td>\n",
       "                        <td id=\"T_0c1a5864_e648_11ea_b804_482ae32b83darow6_col1\" class=\"data row6 col1\" >0.0000</td>\n",
       "                        <td id=\"T_0c1a5864_e648_11ea_b804_482ae32b83darow6_col2\" class=\"data row6 col2\" >1.0000</td>\n",
       "                        <td id=\"T_0c1a5864_e648_11ea_b804_482ae32b83darow6_col3\" class=\"data row6 col3\" >1.0000</td>\n",
       "                        <td id=\"T_0c1a5864_e648_11ea_b804_482ae32b83darow6_col4\" class=\"data row6 col4\" >1.0000</td>\n",
       "                        <td id=\"T_0c1a5864_e648_11ea_b804_482ae32b83darow6_col5\" class=\"data row6 col5\" >1.0000</td>\n",
       "                        <td id=\"T_0c1a5864_e648_11ea_b804_482ae32b83darow6_col6\" class=\"data row6 col6\" >1.0000</td>\n",
       "            </tr>\n",
       "            <tr>\n",
       "                        <th id=\"T_0c1a5864_e648_11ea_b804_482ae32b83dalevel0_row7\" class=\"row_heading level0 row7\" >7</th>\n",
       "                        <td id=\"T_0c1a5864_e648_11ea_b804_482ae32b83darow7_col0\" class=\"data row7 col0\" >0.8889</td>\n",
       "                        <td id=\"T_0c1a5864_e648_11ea_b804_482ae32b83darow7_col1\" class=\"data row7 col1\" >0.0000</td>\n",
       "                        <td id=\"T_0c1a5864_e648_11ea_b804_482ae32b83darow7_col2\" class=\"data row7 col2\" >0.8889</td>\n",
       "                        <td id=\"T_0c1a5864_e648_11ea_b804_482ae32b83darow7_col3\" class=\"data row7 col3\" >0.9167</td>\n",
       "                        <td id=\"T_0c1a5864_e648_11ea_b804_482ae32b83darow7_col4\" class=\"data row7 col4\" >0.8857</td>\n",
       "                        <td id=\"T_0c1a5864_e648_11ea_b804_482ae32b83darow7_col5\" class=\"data row7 col5\" >0.8333</td>\n",
       "                        <td id=\"T_0c1a5864_e648_11ea_b804_482ae32b83darow7_col6\" class=\"data row7 col6\" >0.8492</td>\n",
       "            </tr>\n",
       "            <tr>\n",
       "                        <th id=\"T_0c1a5864_e648_11ea_b804_482ae32b83dalevel0_row8\" class=\"row_heading level0 row8\" >8</th>\n",
       "                        <td id=\"T_0c1a5864_e648_11ea_b804_482ae32b83darow8_col0\" class=\"data row8 col0\" >1.0000</td>\n",
       "                        <td id=\"T_0c1a5864_e648_11ea_b804_482ae32b83darow8_col1\" class=\"data row8 col1\" >0.0000</td>\n",
       "                        <td id=\"T_0c1a5864_e648_11ea_b804_482ae32b83darow8_col2\" class=\"data row8 col2\" >1.0000</td>\n",
       "                        <td id=\"T_0c1a5864_e648_11ea_b804_482ae32b83darow8_col3\" class=\"data row8 col3\" >1.0000</td>\n",
       "                        <td id=\"T_0c1a5864_e648_11ea_b804_482ae32b83darow8_col4\" class=\"data row8 col4\" >1.0000</td>\n",
       "                        <td id=\"T_0c1a5864_e648_11ea_b804_482ae32b83darow8_col5\" class=\"data row8 col5\" >1.0000</td>\n",
       "                        <td id=\"T_0c1a5864_e648_11ea_b804_482ae32b83darow8_col6\" class=\"data row8 col6\" >1.0000</td>\n",
       "            </tr>\n",
       "            <tr>\n",
       "                        <th id=\"T_0c1a5864_e648_11ea_b804_482ae32b83dalevel0_row9\" class=\"row_heading level0 row9\" >9</th>\n",
       "                        <td id=\"T_0c1a5864_e648_11ea_b804_482ae32b83darow9_col0\" class=\"data row9 col0\" >0.7778</td>\n",
       "                        <td id=\"T_0c1a5864_e648_11ea_b804_482ae32b83darow9_col1\" class=\"data row9 col1\" >0.0000</td>\n",
       "                        <td id=\"T_0c1a5864_e648_11ea_b804_482ae32b83darow9_col2\" class=\"data row9 col2\" >0.7778</td>\n",
       "                        <td id=\"T_0c1a5864_e648_11ea_b804_482ae32b83darow9_col3\" class=\"data row9 col3\" >0.8667</td>\n",
       "                        <td id=\"T_0c1a5864_e648_11ea_b804_482ae32b83darow9_col4\" class=\"data row9 col4\" >0.7500</td>\n",
       "                        <td id=\"T_0c1a5864_e648_11ea_b804_482ae32b83darow9_col5\" class=\"data row9 col5\" >0.6667</td>\n",
       "                        <td id=\"T_0c1a5864_e648_11ea_b804_482ae32b83darow9_col6\" class=\"data row9 col6\" >0.7223</td>\n",
       "            </tr>\n",
       "            <tr>\n",
       "                        <th id=\"T_0c1a5864_e648_11ea_b804_482ae32b83dalevel0_row10\" class=\"row_heading level0 row10\" >Mean</th>\n",
       "                        <td id=\"T_0c1a5864_e648_11ea_b804_482ae32b83darow10_col0\" class=\"data row10 col0\" >0.9356</td>\n",
       "                        <td id=\"T_0c1a5864_e648_11ea_b804_482ae32b83darow10_col1\" class=\"data row10 col1\" >0.0000</td>\n",
       "                        <td id=\"T_0c1a5864_e648_11ea_b804_482ae32b83darow10_col2\" class=\"data row10 col2\" >0.9333</td>\n",
       "                        <td id=\"T_0c1a5864_e648_11ea_b804_482ae32b83darow10_col3\" class=\"data row10 col3\" >0.9550</td>\n",
       "                        <td id=\"T_0c1a5864_e648_11ea_b804_482ae32b83darow10_col4\" class=\"data row10 col4\" >0.9316</td>\n",
       "                        <td id=\"T_0c1a5864_e648_11ea_b804_482ae32b83darow10_col5\" class=\"data row10 col5\" >0.9030</td>\n",
       "                        <td id=\"T_0c1a5864_e648_11ea_b804_482ae32b83darow10_col6\" class=\"data row10 col6\" >0.9144</td>\n",
       "            </tr>\n",
       "            <tr>\n",
       "                        <th id=\"T_0c1a5864_e648_11ea_b804_482ae32b83dalevel0_row11\" class=\"row_heading level0 row11\" >SD</th>\n",
       "                        <td id=\"T_0c1a5864_e648_11ea_b804_482ae32b83darow11_col0\" class=\"data row11 col0\" >0.0725</td>\n",
       "                        <td id=\"T_0c1a5864_e648_11ea_b804_482ae32b83darow11_col1\" class=\"data row11 col1\" >0.0000</td>\n",
       "                        <td id=\"T_0c1a5864_e648_11ea_b804_482ae32b83darow11_col2\" class=\"data row11 col2\" >0.0737</td>\n",
       "                        <td id=\"T_0c1a5864_e648_11ea_b804_482ae32b83darow11_col3\" class=\"data row11 col3\" >0.0476</td>\n",
       "                        <td id=\"T_0c1a5864_e648_11ea_b804_482ae32b83darow11_col4\" class=\"data row11 col4\" >0.0793</td>\n",
       "                        <td id=\"T_0c1a5864_e648_11ea_b804_482ae32b83darow11_col5\" class=\"data row11 col5\" >0.1089</td>\n",
       "                        <td id=\"T_0c1a5864_e648_11ea_b804_482ae32b83darow11_col6\" class=\"data row11 col6\" >0.0936</td>\n",
       "            </tr>\n",
       "    </tbody></table>"
      ],
      "text/plain": [
       "<pandas.io.formats.style.Styler at 0x1faef576bc8>"
      ]
     },
     "metadata": {},
     "output_type": "display_data"
    }
   ],
   "source": [
    "import numpy as np\n",
    "tuned_knn = tune_model(knn, custom_grid = {'n_neighbors' : np.arange(0,50,1)})"
   ]
  },
  {
   "cell_type": "markdown",
   "metadata": {
    "colab_type": "text",
    "id": "oF2hDwoifuOd"
   },
   "source": [
    "# 9.3 Logistic Regression"
   ]
  },
  {
   "cell_type": "code",
   "execution_count": 14,
   "metadata": {
    "colab": {
     "base_uri": "https://localhost:8080/",
     "height": 421
    },
    "colab_type": "code",
    "id": "3wyDGn_NfuOf",
    "outputId": "de306431-f9f6-4a25-cefb-03201aa77b96"
   },
   "outputs": [
    {
     "data": {
      "text/html": [
       "<style  type=\"text/css\" >\n",
       "    #T_0cd96082_e648_11ea_a0a3_482ae32b83darow10_col0 {\n",
       "            background:  yellow;\n",
       "        }    #T_0cd96082_e648_11ea_a0a3_482ae32b83darow10_col1 {\n",
       "            background:  yellow;\n",
       "        }    #T_0cd96082_e648_11ea_a0a3_482ae32b83darow10_col2 {\n",
       "            background:  yellow;\n",
       "        }    #T_0cd96082_e648_11ea_a0a3_482ae32b83darow10_col3 {\n",
       "            background:  yellow;\n",
       "        }    #T_0cd96082_e648_11ea_a0a3_482ae32b83darow10_col4 {\n",
       "            background:  yellow;\n",
       "        }    #T_0cd96082_e648_11ea_a0a3_482ae32b83darow10_col5 {\n",
       "            background:  yellow;\n",
       "        }    #T_0cd96082_e648_11ea_a0a3_482ae32b83darow10_col6 {\n",
       "            background:  yellow;\n",
       "        }</style><table id=\"T_0cd96082_e648_11ea_a0a3_482ae32b83da\" ><thead>    <tr>        <th class=\"blank level0\" ></th>        <th class=\"col_heading level0 col0\" >Accuracy</th>        <th class=\"col_heading level0 col1\" >AUC</th>        <th class=\"col_heading level0 col2\" >Recall</th>        <th class=\"col_heading level0 col3\" >Prec.</th>        <th class=\"col_heading level0 col4\" >F1</th>        <th class=\"col_heading level0 col5\" >Kappa</th>        <th class=\"col_heading level0 col6\" >MCC</th>    </tr></thead><tbody>\n",
       "                <tr>\n",
       "                        <th id=\"T_0cd96082_e648_11ea_a0a3_482ae32b83dalevel0_row0\" class=\"row_heading level0 row0\" >0</th>\n",
       "                        <td id=\"T_0cd96082_e648_11ea_a0a3_482ae32b83darow0_col0\" class=\"data row0 col0\" >1.0000</td>\n",
       "                        <td id=\"T_0cd96082_e648_11ea_a0a3_482ae32b83darow0_col1\" class=\"data row0 col1\" >0.0000</td>\n",
       "                        <td id=\"T_0cd96082_e648_11ea_a0a3_482ae32b83darow0_col2\" class=\"data row0 col2\" >1.0000</td>\n",
       "                        <td id=\"T_0cd96082_e648_11ea_a0a3_482ae32b83darow0_col3\" class=\"data row0 col3\" >1.0000</td>\n",
       "                        <td id=\"T_0cd96082_e648_11ea_a0a3_482ae32b83darow0_col4\" class=\"data row0 col4\" >1.0000</td>\n",
       "                        <td id=\"T_0cd96082_e648_11ea_a0a3_482ae32b83darow0_col5\" class=\"data row0 col5\" >1.0000</td>\n",
       "                        <td id=\"T_0cd96082_e648_11ea_a0a3_482ae32b83darow0_col6\" class=\"data row0 col6\" >1.0000</td>\n",
       "            </tr>\n",
       "            <tr>\n",
       "                        <th id=\"T_0cd96082_e648_11ea_a0a3_482ae32b83dalevel0_row1\" class=\"row_heading level0 row1\" >1</th>\n",
       "                        <td id=\"T_0cd96082_e648_11ea_a0a3_482ae32b83darow1_col0\" class=\"data row1 col0\" >1.0000</td>\n",
       "                        <td id=\"T_0cd96082_e648_11ea_a0a3_482ae32b83darow1_col1\" class=\"data row1 col1\" >0.0000</td>\n",
       "                        <td id=\"T_0cd96082_e648_11ea_a0a3_482ae32b83darow1_col2\" class=\"data row1 col2\" >1.0000</td>\n",
       "                        <td id=\"T_0cd96082_e648_11ea_a0a3_482ae32b83darow1_col3\" class=\"data row1 col3\" >1.0000</td>\n",
       "                        <td id=\"T_0cd96082_e648_11ea_a0a3_482ae32b83darow1_col4\" class=\"data row1 col4\" >1.0000</td>\n",
       "                        <td id=\"T_0cd96082_e648_11ea_a0a3_482ae32b83darow1_col5\" class=\"data row1 col5\" >1.0000</td>\n",
       "                        <td id=\"T_0cd96082_e648_11ea_a0a3_482ae32b83darow1_col6\" class=\"data row1 col6\" >1.0000</td>\n",
       "            </tr>\n",
       "            <tr>\n",
       "                        <th id=\"T_0cd96082_e648_11ea_a0a3_482ae32b83dalevel0_row2\" class=\"row_heading level0 row2\" >2</th>\n",
       "                        <td id=\"T_0cd96082_e648_11ea_a0a3_482ae32b83darow2_col0\" class=\"data row2 col0\" >1.0000</td>\n",
       "                        <td id=\"T_0cd96082_e648_11ea_a0a3_482ae32b83darow2_col1\" class=\"data row2 col1\" >0.0000</td>\n",
       "                        <td id=\"T_0cd96082_e648_11ea_a0a3_482ae32b83darow2_col2\" class=\"data row2 col2\" >1.0000</td>\n",
       "                        <td id=\"T_0cd96082_e648_11ea_a0a3_482ae32b83darow2_col3\" class=\"data row2 col3\" >1.0000</td>\n",
       "                        <td id=\"T_0cd96082_e648_11ea_a0a3_482ae32b83darow2_col4\" class=\"data row2 col4\" >1.0000</td>\n",
       "                        <td id=\"T_0cd96082_e648_11ea_a0a3_482ae32b83darow2_col5\" class=\"data row2 col5\" >1.0000</td>\n",
       "                        <td id=\"T_0cd96082_e648_11ea_a0a3_482ae32b83darow2_col6\" class=\"data row2 col6\" >1.0000</td>\n",
       "            </tr>\n",
       "            <tr>\n",
       "                        <th id=\"T_0cd96082_e648_11ea_a0a3_482ae32b83dalevel0_row3\" class=\"row_heading level0 row3\" >3</th>\n",
       "                        <td id=\"T_0cd96082_e648_11ea_a0a3_482ae32b83darow3_col0\" class=\"data row3 col0\" >0.9000</td>\n",
       "                        <td id=\"T_0cd96082_e648_11ea_a0a3_482ae32b83darow3_col1\" class=\"data row3 col1\" >0.0000</td>\n",
       "                        <td id=\"T_0cd96082_e648_11ea_a0a3_482ae32b83darow3_col2\" class=\"data row3 col2\" >0.8889</td>\n",
       "                        <td id=\"T_0cd96082_e648_11ea_a0a3_482ae32b83darow3_col3\" class=\"data row3 col3\" >0.9250</td>\n",
       "                        <td id=\"T_0cd96082_e648_11ea_a0a3_482ae32b83darow3_col4\" class=\"data row3 col4\" >0.8971</td>\n",
       "                        <td id=\"T_0cd96082_e648_11ea_a0a3_482ae32b83darow3_col5\" class=\"data row3 col5\" >0.8485</td>\n",
       "                        <td id=\"T_0cd96082_e648_11ea_a0a3_482ae32b83darow3_col6\" class=\"data row3 col6\" >0.8616</td>\n",
       "            </tr>\n",
       "            <tr>\n",
       "                        <th id=\"T_0cd96082_e648_11ea_a0a3_482ae32b83dalevel0_row4\" class=\"row_heading level0 row4\" >4</th>\n",
       "                        <td id=\"T_0cd96082_e648_11ea_a0a3_482ae32b83darow4_col0\" class=\"data row4 col0\" >1.0000</td>\n",
       "                        <td id=\"T_0cd96082_e648_11ea_a0a3_482ae32b83darow4_col1\" class=\"data row4 col1\" >0.0000</td>\n",
       "                        <td id=\"T_0cd96082_e648_11ea_a0a3_482ae32b83darow4_col2\" class=\"data row4 col2\" >1.0000</td>\n",
       "                        <td id=\"T_0cd96082_e648_11ea_a0a3_482ae32b83darow4_col3\" class=\"data row4 col3\" >1.0000</td>\n",
       "                        <td id=\"T_0cd96082_e648_11ea_a0a3_482ae32b83darow4_col4\" class=\"data row4 col4\" >1.0000</td>\n",
       "                        <td id=\"T_0cd96082_e648_11ea_a0a3_482ae32b83darow4_col5\" class=\"data row4 col5\" >1.0000</td>\n",
       "                        <td id=\"T_0cd96082_e648_11ea_a0a3_482ae32b83darow4_col6\" class=\"data row4 col6\" >1.0000</td>\n",
       "            </tr>\n",
       "            <tr>\n",
       "                        <th id=\"T_0cd96082_e648_11ea_a0a3_482ae32b83dalevel0_row5\" class=\"row_heading level0 row5\" >5</th>\n",
       "                        <td id=\"T_0cd96082_e648_11ea_a0a3_482ae32b83darow5_col0\" class=\"data row5 col0\" >1.0000</td>\n",
       "                        <td id=\"T_0cd96082_e648_11ea_a0a3_482ae32b83darow5_col1\" class=\"data row5 col1\" >0.0000</td>\n",
       "                        <td id=\"T_0cd96082_e648_11ea_a0a3_482ae32b83darow5_col2\" class=\"data row5 col2\" >1.0000</td>\n",
       "                        <td id=\"T_0cd96082_e648_11ea_a0a3_482ae32b83darow5_col3\" class=\"data row5 col3\" >1.0000</td>\n",
       "                        <td id=\"T_0cd96082_e648_11ea_a0a3_482ae32b83darow5_col4\" class=\"data row5 col4\" >1.0000</td>\n",
       "                        <td id=\"T_0cd96082_e648_11ea_a0a3_482ae32b83darow5_col5\" class=\"data row5 col5\" >1.0000</td>\n",
       "                        <td id=\"T_0cd96082_e648_11ea_a0a3_482ae32b83darow5_col6\" class=\"data row5 col6\" >1.0000</td>\n",
       "            </tr>\n",
       "            <tr>\n",
       "                        <th id=\"T_0cd96082_e648_11ea_a0a3_482ae32b83dalevel0_row6\" class=\"row_heading level0 row6\" >6</th>\n",
       "                        <td id=\"T_0cd96082_e648_11ea_a0a3_482ae32b83darow6_col0\" class=\"data row6 col0\" >0.8889</td>\n",
       "                        <td id=\"T_0cd96082_e648_11ea_a0a3_482ae32b83darow6_col1\" class=\"data row6 col1\" >0.0000</td>\n",
       "                        <td id=\"T_0cd96082_e648_11ea_a0a3_482ae32b83darow6_col2\" class=\"data row6 col2\" >0.8889</td>\n",
       "                        <td id=\"T_0cd96082_e648_11ea_a0a3_482ae32b83darow6_col3\" class=\"data row6 col3\" >0.9167</td>\n",
       "                        <td id=\"T_0cd96082_e648_11ea_a0a3_482ae32b83darow6_col4\" class=\"data row6 col4\" >0.8857</td>\n",
       "                        <td id=\"T_0cd96082_e648_11ea_a0a3_482ae32b83darow6_col5\" class=\"data row6 col5\" >0.8333</td>\n",
       "                        <td id=\"T_0cd96082_e648_11ea_a0a3_482ae32b83darow6_col6\" class=\"data row6 col6\" >0.8492</td>\n",
       "            </tr>\n",
       "            <tr>\n",
       "                        <th id=\"T_0cd96082_e648_11ea_a0a3_482ae32b83dalevel0_row7\" class=\"row_heading level0 row7\" >7</th>\n",
       "                        <td id=\"T_0cd96082_e648_11ea_a0a3_482ae32b83darow7_col0\" class=\"data row7 col0\" >0.8889</td>\n",
       "                        <td id=\"T_0cd96082_e648_11ea_a0a3_482ae32b83darow7_col1\" class=\"data row7 col1\" >0.0000</td>\n",
       "                        <td id=\"T_0cd96082_e648_11ea_a0a3_482ae32b83darow7_col2\" class=\"data row7 col2\" >0.8889</td>\n",
       "                        <td id=\"T_0cd96082_e648_11ea_a0a3_482ae32b83darow7_col3\" class=\"data row7 col3\" >0.9167</td>\n",
       "                        <td id=\"T_0cd96082_e648_11ea_a0a3_482ae32b83darow7_col4\" class=\"data row7 col4\" >0.8857</td>\n",
       "                        <td id=\"T_0cd96082_e648_11ea_a0a3_482ae32b83darow7_col5\" class=\"data row7 col5\" >0.8333</td>\n",
       "                        <td id=\"T_0cd96082_e648_11ea_a0a3_482ae32b83darow7_col6\" class=\"data row7 col6\" >0.8492</td>\n",
       "            </tr>\n",
       "            <tr>\n",
       "                        <th id=\"T_0cd96082_e648_11ea_a0a3_482ae32b83dalevel0_row8\" class=\"row_heading level0 row8\" >8</th>\n",
       "                        <td id=\"T_0cd96082_e648_11ea_a0a3_482ae32b83darow8_col0\" class=\"data row8 col0\" >1.0000</td>\n",
       "                        <td id=\"T_0cd96082_e648_11ea_a0a3_482ae32b83darow8_col1\" class=\"data row8 col1\" >0.0000</td>\n",
       "                        <td id=\"T_0cd96082_e648_11ea_a0a3_482ae32b83darow8_col2\" class=\"data row8 col2\" >1.0000</td>\n",
       "                        <td id=\"T_0cd96082_e648_11ea_a0a3_482ae32b83darow8_col3\" class=\"data row8 col3\" >1.0000</td>\n",
       "                        <td id=\"T_0cd96082_e648_11ea_a0a3_482ae32b83darow8_col4\" class=\"data row8 col4\" >1.0000</td>\n",
       "                        <td id=\"T_0cd96082_e648_11ea_a0a3_482ae32b83darow8_col5\" class=\"data row8 col5\" >1.0000</td>\n",
       "                        <td id=\"T_0cd96082_e648_11ea_a0a3_482ae32b83darow8_col6\" class=\"data row8 col6\" >1.0000</td>\n",
       "            </tr>\n",
       "            <tr>\n",
       "                        <th id=\"T_0cd96082_e648_11ea_a0a3_482ae32b83dalevel0_row9\" class=\"row_heading level0 row9\" >9</th>\n",
       "                        <td id=\"T_0cd96082_e648_11ea_a0a3_482ae32b83darow9_col0\" class=\"data row9 col0\" >0.7778</td>\n",
       "                        <td id=\"T_0cd96082_e648_11ea_a0a3_482ae32b83darow9_col1\" class=\"data row9 col1\" >0.0000</td>\n",
       "                        <td id=\"T_0cd96082_e648_11ea_a0a3_482ae32b83darow9_col2\" class=\"data row9 col2\" >0.7778</td>\n",
       "                        <td id=\"T_0cd96082_e648_11ea_a0a3_482ae32b83darow9_col3\" class=\"data row9 col3\" >0.7778</td>\n",
       "                        <td id=\"T_0cd96082_e648_11ea_a0a3_482ae32b83darow9_col4\" class=\"data row9 col4\" >0.7778</td>\n",
       "                        <td id=\"T_0cd96082_e648_11ea_a0a3_482ae32b83darow9_col5\" class=\"data row9 col5\" >0.6667</td>\n",
       "                        <td id=\"T_0cd96082_e648_11ea_a0a3_482ae32b83darow9_col6\" class=\"data row9 col6\" >0.6667</td>\n",
       "            </tr>\n",
       "            <tr>\n",
       "                        <th id=\"T_0cd96082_e648_11ea_a0a3_482ae32b83dalevel0_row10\" class=\"row_heading level0 row10\" >Mean</th>\n",
       "                        <td id=\"T_0cd96082_e648_11ea_a0a3_482ae32b83darow10_col0\" class=\"data row10 col0\" >0.9456</td>\n",
       "                        <td id=\"T_0cd96082_e648_11ea_a0a3_482ae32b83darow10_col1\" class=\"data row10 col1\" >0.0000</td>\n",
       "                        <td id=\"T_0cd96082_e648_11ea_a0a3_482ae32b83darow10_col2\" class=\"data row10 col2\" >0.9444</td>\n",
       "                        <td id=\"T_0cd96082_e648_11ea_a0a3_482ae32b83darow10_col3\" class=\"data row10 col3\" >0.9536</td>\n",
       "                        <td id=\"T_0cd96082_e648_11ea_a0a3_482ae32b83darow10_col4\" class=\"data row10 col4\" >0.9446</td>\n",
       "                        <td id=\"T_0cd96082_e648_11ea_a0a3_482ae32b83darow10_col5\" class=\"data row10 col5\" >0.9182</td>\n",
       "                        <td id=\"T_0cd96082_e648_11ea_a0a3_482ae32b83darow10_col6\" class=\"data row10 col6\" >0.9227</td>\n",
       "            </tr>\n",
       "            <tr>\n",
       "                        <th id=\"T_0cd96082_e648_11ea_a0a3_482ae32b83dalevel0_row11\" class=\"row_heading level0 row11\" >SD</th>\n",
       "                        <td id=\"T_0cd96082_e648_11ea_a0a3_482ae32b83darow11_col0\" class=\"data row11 col0\" >0.0738</td>\n",
       "                        <td id=\"T_0cd96082_e648_11ea_a0a3_482ae32b83darow11_col1\" class=\"data row11 col1\" >0.0000</td>\n",
       "                        <td id=\"T_0cd96082_e648_11ea_a0a3_482ae32b83darow11_col2\" class=\"data row11 col2\" >0.0745</td>\n",
       "                        <td id=\"T_0cd96082_e648_11ea_a0a3_482ae32b83darow11_col3\" class=\"data row11 col3\" >0.0688</td>\n",
       "                        <td id=\"T_0cd96082_e648_11ea_a0a3_482ae32b83darow11_col4\" class=\"data row11 col4\" >0.0745</td>\n",
       "                        <td id=\"T_0cd96082_e648_11ea_a0a3_482ae32b83darow11_col5\" class=\"data row11 col5\" >0.1108</td>\n",
       "                        <td id=\"T_0cd96082_e648_11ea_a0a3_482ae32b83darow11_col6\" class=\"data row11 col6\" >0.1077</td>\n",
       "            </tr>\n",
       "    </tbody></table>"
      ],
      "text/plain": [
       "<pandas.io.formats.style.Styler at 0x1faef5eddc8>"
      ]
     },
     "metadata": {},
     "output_type": "display_data"
    }
   ],
   "source": [
    "tuned_lr = tune_model(lr)"
   ]
  },
  {
   "cell_type": "markdown",
   "metadata": {
    "colab_type": "text",
    "id": "BVdIeXY5fuOi"
   },
   "source": [
    "The `tune_model()` function is a random grid search of hyperparameters over a pre-defined search space. By default, it is set to optimize `Accuracy` but this can be changed using the `optimize` parameter. For example: `tune_model(dt, optimize = 'Recall')` will search for the hyperparameters of a Decision Tree Classifier that result in the highest `Recall`. For the purposes of this example, we have used the default metric `Accuracy` for the sake of simplicity only. The methodology behind selecting the right metric to evaluate a classifier is beyond the scope of this tutorial but if you would like to learn more about it, you can __[click here](https://medium.com/@MohammedS/performance-metrics-for-classification-problems-in-machine-learning-part-i-b085d432082b)__ to read an article on how to choose the right evaluation metric.\n",
    "\n",
    "Metrics alone are not the only criteria you should consider when finalizing the best model for production. Other factors to consider include training time, standard deviation of kfolds etc. As you progress through the tutorial series we will discuss those factors in detail at the intermediate and expert levels. For now, let's move forward considering the Tuned K Neighbors Classifier as our best model for the remainder of this tutorial."
   ]
  },
  {
   "cell_type": "markdown",
   "metadata": {
    "colab_type": "text",
    "id": "3zct2zSYfuOl"
   },
   "source": [
    "# 10.0 Plot a Model"
   ]
  },
  {
   "cell_type": "markdown",
   "metadata": {
    "colab_type": "text",
    "id": "a3_m4yEdfuOm"
   },
   "source": [
    "Before model finalization, the `plot_model()` function can be used to analyze the performance across different aspects such as AUC, confusion_matrix, decision boundary etc. This function takes a trained model object and returns a plot based on the test / hold-out set. \n",
    "\n",
    "There are 15 different plots available, please see the `plot_model()` docstring for the list of available plots."
   ]
  },
  {
   "cell_type": "markdown",
   "metadata": {
    "colab_type": "text",
    "id": "AegNi_BXfuOn"
   },
   "source": [
    "# 10.1 Confusion Matrix"
   ]
  },
  {
   "cell_type": "code",
   "execution_count": 15,
   "metadata": {
    "colab": {
     "base_uri": "https://localhost:8080/",
     "height": 374
    },
    "colab_type": "code",
    "id": "kI0tERkNfuOo",
    "outputId": "d13e1e50-aa8c-420e-ba85-3affca7b9500"
   },
   "outputs": [
    {
     "data": {
      "image/png": "[encoded data removed]",
      "text/plain": [
       "<Figure size 576x396 with 1 Axes>"
      ]
     },
     "metadata": {},
     "output_type": "display_data"
    }
   ],
   "source": [
    "plot_model(tuned_knn, plot = 'confusion_matrix')"
   ]
  },
  {
   "cell_type": "markdown",
   "metadata": {
    "colab_type": "text",
    "id": "WdQqEtO4fuOt"
   },
   "source": [
    "# 10.2 Classification Report"
   ]
  },
  {
   "cell_type": "code",
   "execution_count": 16,
   "metadata": {
    "colab": {
     "base_uri": "https://localhost:8080/",
     "height": 401
    },
    "colab_type": "code",
    "id": "wHKBMDaZfuOu",
    "outputId": "2a627204-ff7b-4a2b-f307-1d5707c159f5"
   },
   "outputs": [
    {
     "data": {
      "image/png": "[encoded data removed]",
      "text/plain": [
       "<Figure size 576x396 with 2 Axes>"
      ]
     },
     "metadata": {},
     "output_type": "display_data"
    }
   ],
   "source": [
    "plot_model(tuned_knn, plot = 'class_report')"
   ]
  },
  {
   "cell_type": "markdown",
   "metadata": {
    "colab_type": "text",
    "id": "iidIhDUufuOx"
   },
   "source": [
    "# 10.3 Decision Boundary Plot"
   ]
  },
  {
   "cell_type": "code",
   "execution_count": 17,
   "metadata": {
    "colab": {
     "base_uri": "https://localhost:8080/",
     "height": 361
    },
    "colab_type": "code",
    "id": "9_2R_acYfuOz",
    "outputId": "aedd0637-b29e-49e5-999a-a255be6bd313"
   },
   "outputs": [
    {
     "data": {
      "image/png": "[encoded data removed]",
      "text/plain": [
       "<Figure size 576x396 with 1 Axes>"
      ]
     },
     "metadata": {},
     "output_type": "display_data"
    }
   ],
   "source": [
    "plot_model(tuned_knn, plot='boundary')"
   ]
  },
  {
   "cell_type": "markdown",
   "metadata": {
    "colab_type": "text",
    "id": "JY8z7B8MfuO2"
   },
   "source": [
    "# 10.4 Prediction Error Plot"
   ]
  },
  {
   "cell_type": "code",
   "execution_count": 18,
   "metadata": {
    "colab": {
     "base_uri": "https://localhost:8080/",
     "height": 401
    },
    "colab_type": "code",
    "id": "AtSP2JAXfuO3",
    "outputId": "e3230ae1-7d7e-4270-9935-f2dd54295dd1"
   },
   "outputs": [
    {
     "data": {
      "image/png": "[encoded data removed]",
      "text/plain": [
       "<Figure size 576x396 with 1 Axes>"
      ]
     },
     "metadata": {},
     "output_type": "display_data"
    }
   ],
   "source": [
    "plot_model(tuned_knn, plot = 'error')"
   ]
  },
  {
   "cell_type": "markdown",
   "metadata": {
    "colab_type": "text",
    "id": "hxGSKMKZfuO7"
   },
   "source": [
    "*Another* way to analyze the performance of models is to use the `evaluate_model()` function which displays a user interface for all of the available plots for a given model. It internally uses the `plot_model()` function. "
   ]
  },
  {
   "cell_type": "code",
   "execution_count": 19,
   "metadata": {
    "colab": {
     "base_uri": "https://localhost:8080/",
     "height": 421,
     "referenced_widgets": [
      "9cc0efb4189e48c6beb4fe1c0c4a2fdc",
      "a63ed06ee88c4ca3883ac38e665bddf8",
      "b046e2e525ca425a80aac86d7b665854",
      "36a827017abf468d939c97492b5c73ab",
      "17f607299eaf4b05a1542960ba1f8953",
      "e4c7bdc3be744945b405b9905048f64f",
      "bdb566b147ef4202b351fd1014883ce6",
      "0a505068ebbf4d068aa7d75f702ac715",
      "094d443554a84f2788d4802512cda617",
      "4c1ee7022483425d9541b0e49f1efcd2",
      "17810a03d1424e729b70ec2044e9e7f6",
      "9d7425bc499c4f57a680a7166389e5dc",
      "08ddc7a42f8d492faa945a5d7eac4a86",
      "0a1412c6e3f6498ca9d221f259716943",
      "6e43059d835f4d62aa1e5c5bf7d676e1",
      "c20470f03116445ab707f5857592d046",
      "52e6b5978ec94fdabdc9adf9286c3078",
      "d0366972e1664000b72674d0a285a785",
      "66b421a890bc462b97e5d9d23fe5809a",
      "904ec053638f498aa1d0e4944145f736",
      "d8e230198678421ea3afef9ca721090d",
      "a1a8e8de38404b83bec2300554e42aa8",
      "7448bcccbfaa432c8f1f9936a51ccf3c",
      "eae1b12ae33041e9a14d7372fd0d6be3",
      "2d502879922046aaba1d84769e93ff1b",
      "0dc3288edbff469189f52ebf88863853",
      "d360dbb5ee734c839b8a30238d824633",
      "f0c4a07ca3cf4460bed061f0609b9b2b",
      "57e3592dda974775b2fc52ee73ecb50c",
      "cc64cb2f6f8148d7ad9ce9d9cd16dd5f",
      "3dd8046812e942bf9e2ccc62ba4bf2a5",
      "a4291bb80392498ba074a033b6c60d86",
      "2c22eeecfa054ab59f5a2bc6ea4e7244",
      "46eb9473b4c64c59956eae387e60555a",
      "eecbd2ce9de64166bcfddadaef395d65",
      "4e0a64915ccd490aae253c73dbf91a99"
     ]
    },
    "colab_type": "code",
    "id": "K5pXw5FFfuO8",
    "outputId": "3efd9151-1313-4d83-ccbb-877e088c44bc"
   },
   "outputs": [
    {
     "data": {
      "application/vnd.jupyter.widget-view+json": {
       "model_id": "e48f07f434af4a129f5541cac7981f71",
       "version_major": 2,
       "version_minor": 0
      },
      "text/plain": [
       "interactive(children=(ToggleButtons(description='Plot Type:', icons=('',), options=(('Hyperparameters', 'param…"
      ]
     },
     "metadata": {},
     "output_type": "display_data"
    }
   ],
   "source": [
    "evaluate_model(tuned_knn)"
   ]
  },
  {
   "cell_type": "markdown",
   "metadata": {
    "colab_type": "text",
    "id": "Wo-Ob7AffuO_"
   },
   "source": [
    "# 11.0 Predict on test / hold-out Sample"
   ]
  },
  {
   "cell_type": "markdown",
   "metadata": {
    "colab_type": "text",
    "id": "Bqznw_2efuPB"
   },
   "source": [
    "Before finalizing the model, it is advisable to perform one final check by predicting the test/hold-out set and reviewing the evaluation metrics. If you look at the information grid in Section 6 above, you will see that 30% (41 samples) of the data has been separated out as a test/hold-out sample. All of the evaluation metrics we have seen above are cross validated results based on the training set (70%) only. Now, using our final trained model stored in the `tuned_knn` variable we will predict against the hold-out sample and evaluate the metrics to see if they are materially different than the CV results."
   ]
  },
  {
   "cell_type": "code",
   "execution_count": 28,
   "metadata": {
    "colab": {
     "base_uri": "https://localhost:8080/",
     "height": 80
    },
    "colab_type": "code",
    "id": "8handW2hfuPD",
    "outputId": "b654968b-faec-4ce4-ff3b-338e263c2ceb"
   },
   "outputs": [
    {
     "data": {
      "text/html": [
       "<div>\n",
       "<style scoped>\n",
       "    .dataframe tbody tr th:only-of-type {\n",
       "        vertical-align: middle;\n",
       "    }\n",
       "\n",
       "    .dataframe tbody tr th {\n",
       "        vertical-align: top;\n",
       "    }\n",
       "\n",
       "    .dataframe thead th {\n",
       "        text-align: right;\n",
       "    }\n",
       "</style>\n",
       "<table border=\"1\" class=\"dataframe\">\n",
       "  <thead>\n",
       "    <tr style=\"text-align: right;\">\n",
       "      <th></th>\n",
       "      <th>Model</th>\n",
       "      <th>Accuracy</th>\n",
       "      <th>AUC</th>\n",
       "      <th>Recall</th>\n",
       "      <th>Prec.</th>\n",
       "      <th>F1</th>\n",
       "      <th>Kappa</th>\n",
       "      <th>MCC</th>\n",
       "    </tr>\n",
       "  </thead>\n",
       "  <tbody>\n",
       "    <tr>\n",
       "      <th>0</th>\n",
       "      <td>One Vs Rest Classifier</td>\n",
       "      <td>0.9512</td>\n",
       "      <td>0</td>\n",
       "      <td>0.9505</td>\n",
       "      <td>0.9512</td>\n",
       "      <td>0.9512</td>\n",
       "      <td>0.9268</td>\n",
       "      <td>0.9268</td>\n",
       "    </tr>\n",
       "  </tbody>\n",
       "</table>\n",
       "</div>"
      ],
      "text/plain": [
       "                    Model  Accuracy  AUC  Recall   Prec.      F1   Kappa  \\\n",
       "0  One Vs Rest Classifier    0.9512    0  0.9505  0.9512  0.9512  0.9268   \n",
       "\n",
       "      MCC  \n",
       "0  0.9268  "
      ]
     },
     "metadata": {},
     "output_type": "display_data"
    }
   ],
   "source": [
    "predict_model(tuned_knn);"
   ]
  },
  {
   "cell_type": "markdown",
   "metadata": {
    "colab_type": "text",
    "id": "XIM4IVWGfuPL"
   },
   "source": [
    "The accuracy on the test/hold-out set is **`0.9512`** compared to **`0.9356`** achieved on the `tuned_knn` CV results (in section 9.2 above). This is not a significant difference. If there is a large variation between the test/hold-out and CV results, then this would normally indicate over-fitting but could also be due to several other factors and would require further investigation. In this case, we will move forward with finalizing the model and predicting on unseen data (the 10% that we had separated in the beginning and never exposed to PyCaret).\n",
    "\n",
    "(TIP : It's always good to look at the standard deviation of CV results when using `create_model()`.)"
   ]
  },
  {
   "cell_type": "markdown",
   "metadata": {
    "colab_type": "text",
    "id": "HaVz-bOIfuPN"
   },
   "source": [
    "# 12.0 Finalize Model for Deployment"
   ]
  },
  {
   "cell_type": "markdown",
   "metadata": {
    "colab_type": "text",
    "id": "7pRFqxXVfuPO"
   },
   "source": [
    "Model finalization is the last step in the experiment. A normal machine learning workflow in PyCaret starts with `setup()`, followed by comparing all models using `compare_models()` and shortlisting a few candidate models (based on the metric of interest) to perform several modeling techniques such as hyperparameter tuning, ensembling, stacking etc. This workflow will eventually lead you to the best model for use in making predictions on new and unseen data. The `finalize_model()` function fits the model onto the complete dataset including the test/hold-out sample (30% in this case). The purpose of this function is to train the model on the complete dataset before it is deployed in production."
   ]
  },
  {
   "cell_type": "code",
   "execution_count": 29,
   "metadata": {
    "colab": {},
    "colab_type": "code",
    "id": "oIOJaUkEfuPP"
   },
   "outputs": [],
   "source": [
    "final_knn = finalize_model(tuned_knn)"
   ]
  },
  {
   "cell_type": "code",
   "execution_count": 30,
   "metadata": {
    "colab": {
     "base_uri": "https://localhost:8080/",
     "height": 136
    },
    "colab_type": "code",
    "id": "tyo7534XfuPV",
    "outputId": "c4562eb1-07ac-4c3b-b56d-4f7ae25d929a"
   },
   "outputs": [
    {
     "name": "stdout",
     "output_type": "stream",
     "text": [
      "OneVsRestClassifier(estimator=KNeighborsClassifier(algorithm='auto',\n",
      "                                                   leaf_size=30,\n",
      "                                                   metric='minkowski',\n",
      "                                                   metric_params=None,\n",
      "                                                   n_jobs=-1, n_neighbors=13,\n",
      "                                                   p=2, weights='uniform'),\n",
      "                    n_jobs=None)\n"
     ]
    }
   ],
   "source": [
    "#Final K Nearest Neighbour parameters for deployment\n",
    "print(final_knn)"
   ]
  },
  {
   "cell_type": "markdown",
   "metadata": {
    "colab_type": "text",
    "id": "da2mWvRefuPk"
   },
   "source": [
    "# 13.0 Predict on unseen data"
   ]
  },
  {
   "cell_type": "markdown",
   "metadata": {
    "colab_type": "text",
    "id": "BAAHbcnVfuPl"
   },
   "source": [
    "The `predict_model()` function is also used to predict on the unseen dataset. The only difference from section 11 above is that this time we will pass the `data_unseen` parameter. `data_unseen` is the variable created at the beginning of the tutorial and contains 10% (15 samples) of the original dataset which was never exposed to PyCaret. (see section 5 for explanation)"
   ]
  },
  {
   "cell_type": "code",
   "execution_count": 32,
   "metadata": {
    "colab": {
     "base_uri": "https://localhost:8080/",
     "height": 204
    },
    "colab_type": "code",
    "id": "rvL8lBlAfuPn",
    "outputId": "a6d8a475-6c99-4baf-a900-ac8d7c6468b0"
   },
   "outputs": [
    {
     "data": {
      "text/html": [
       "<div>\n",
       "<style scoped>\n",
       "    .dataframe tbody tr th:only-of-type {\n",
       "        vertical-align: middle;\n",
       "    }\n",
       "\n",
       "    .dataframe tbody tr th {\n",
       "        vertical-align: top;\n",
       "    }\n",
       "\n",
       "    .dataframe thead th {\n",
       "        text-align: right;\n",
       "    }\n",
       "</style>\n",
       "<table border=\"1\" class=\"dataframe\">\n",
       "  <thead>\n",
       "    <tr style=\"text-align: right;\">\n",
       "      <th></th>\n",
       "      <th>sepal_length</th>\n",
       "      <th>sepal_width</th>\n",
       "      <th>petal_length</th>\n",
       "      <th>petal_width</th>\n",
       "      <th>species</th>\n",
       "      <th>Label</th>\n",
       "      <th>Score</th>\n",
       "    </tr>\n",
       "  </thead>\n",
       "  <tbody>\n",
       "    <tr>\n",
       "      <th>0</th>\n",
       "      <td>5.4</td>\n",
       "      <td>3.9</td>\n",
       "      <td>1.7</td>\n",
       "      <td>0.4</td>\n",
       "      <td>Iris-setosa</td>\n",
       "      <td>0</td>\n",
       "      <td>1.0000</td>\n",
       "    </tr>\n",
       "    <tr>\n",
       "      <th>1</th>\n",
       "      <td>5.4</td>\n",
       "      <td>3.4</td>\n",
       "      <td>1.7</td>\n",
       "      <td>0.2</td>\n",
       "      <td>Iris-setosa</td>\n",
       "      <td>0</td>\n",
       "      <td>1.0000</td>\n",
       "    </tr>\n",
       "    <tr>\n",
       "      <th>2</th>\n",
       "      <td>5.1</td>\n",
       "      <td>3.3</td>\n",
       "      <td>1.7</td>\n",
       "      <td>0.5</td>\n",
       "      <td>Iris-setosa</td>\n",
       "      <td>0</td>\n",
       "      <td>1.0000</td>\n",
       "    </tr>\n",
       "    <tr>\n",
       "      <th>3</th>\n",
       "      <td>4.8</td>\n",
       "      <td>3.1</td>\n",
       "      <td>1.6</td>\n",
       "      <td>0.2</td>\n",
       "      <td>Iris-setosa</td>\n",
       "      <td>0</td>\n",
       "      <td>1.0000</td>\n",
       "    </tr>\n",
       "    <tr>\n",
       "      <th>4</th>\n",
       "      <td>6.9</td>\n",
       "      <td>3.1</td>\n",
       "      <td>4.9</td>\n",
       "      <td>1.5</td>\n",
       "      <td>Iris-versicolor</td>\n",
       "      <td>1</td>\n",
       "      <td>0.7692</td>\n",
       "    </tr>\n",
       "  </tbody>\n",
       "</table>\n",
       "</div>"
      ],
      "text/plain": [
       "   sepal_length  sepal_width  petal_length  petal_width          species  \\\n",
       "0           5.4          3.9           1.7          0.4      Iris-setosa   \n",
       "1           5.4          3.4           1.7          0.2      Iris-setosa   \n",
       "2           5.1          3.3           1.7          0.5      Iris-setosa   \n",
       "3           4.8          3.1           1.6          0.2      Iris-setosa   \n",
       "4           6.9          3.1           4.9          1.5  Iris-versicolor   \n",
       "\n",
       "   Label   Score  \n",
       "0      0  1.0000  \n",
       "1      0  1.0000  \n",
       "2      0  1.0000  \n",
       "3      0  1.0000  \n",
       "4      1  0.7692  "
      ]
     },
     "execution_count": 32,
     "metadata": {},
     "output_type": "execute_result"
    }
   ],
   "source": [
    "unseen_predictions = predict_model(final_knn, data=data_unseen)\n",
    "unseen_predictions.head()"
   ]
  },
  {
   "cell_type": "markdown",
   "metadata": {
    "colab_type": "text",
    "id": "LKi7aVcJfuPr"
   },
   "source": [
    "The `Label` and `Score` columns are added onto the `data_unseen` set. Label is the prediction and score is the probability of the prediction. Notice that predicted results are concatenated to the original dataset while all the transformations are automatically performed in the background."
   ]
  },
  {
   "cell_type": "markdown",
   "metadata": {
    "colab_type": "text",
    "id": "uAhEcJnqfuPs"
   },
   "source": [
    "# 14.0 Saving the model"
   ]
  },
  {
   "cell_type": "markdown",
   "metadata": {
    "colab_type": "text",
    "id": "vENiYvosfuPt"
   },
   "source": [
    "We have now finished the experiment by finalizing the `tuned_knn` model which is now stored in the `final_knn` variable. We have also used the model stored in `final_knn` to predict `data_unseen`. This brings us to the end of our experiment, but one question is still to be asked: What happens when you have more new data to predict? Do you have to go through the entire experiment again? The answer is no, PyCaret's inbuilt function `save_model()` allows you to save the model along with entire transformation pipeline for later use."
   ]
  },
  {
   "cell_type": "code",
   "execution_count": 33,
   "metadata": {
    "colab": {
     "base_uri": "https://localhost:8080/",
     "height": 34
    },
    "colab_type": "code",
    "id": "2UL0UC7UfuPu",
    "outputId": "003611da-e34b-4de1-d251-94e633323ee7"
   },
   "outputs": [
    {
     "name": "stdout",
     "output_type": "stream",
     "text": [
      "Transformation Pipeline and Model Succesfully Saved\n"
     ]
    }
   ],
   "source": [
    "save_model(final_knn,'Final KNN Model 08Feb2020')"
   ]
  },
  {
   "cell_type": "markdown",
   "metadata": {
    "colab_type": "text",
    "id": "Gt94CUaXfuPz"
   },
   "source": [
    "(TIP : It's always good to use date in the filename when saving models, it's good for version control.)"
   ]
  },
  {
   "cell_type": "markdown",
   "metadata": {
    "colab_type": "text",
    "id": "uVFI4If3fuP1"
   },
   "source": [
    "# 15.0 Loading the saved model"
   ]
  },
  {
   "cell_type": "markdown",
   "metadata": {
    "colab_type": "text",
    "id": "7eHcdfrRfuP3"
   },
   "source": [
    "To load a saved model at a future date in the same or an alternative environment, we would use PyCaret's `load_model()` function and then easily apply the saved model on new unseen data for prediction."
   ]
  },
  {
   "cell_type": "code",
   "execution_count": 34,
   "metadata": {
    "colab": {
     "base_uri": "https://localhost:8080/",
     "height": 34
    },
    "colab_type": "code",
    "id": "8ThDTvUifuP6",
    "outputId": "c599c153-1079-477c-a8d7-66cc846fc0c2"
   },
   "outputs": [
    {
     "name": "stdout",
     "output_type": "stream",
     "text": [
      "Transformation Pipeline and Model Sucessfully Loaded\n"
     ]
    }
   ],
   "source": [
    "saved_final_knn = load_model('Final KNN Model 08Feb2020')"
   ]
  },
  {
   "cell_type": "markdown",
   "metadata": {
    "colab_type": "text",
    "id": "7bo2xBltfuQC"
   },
   "source": [
    "Once the model is loaded in the environment, you can simply use it to predict on any new data using the same `predict_model()` function. Below we have applied the loaded model to predict the same `data_unseen` that we used in section 13 above."
   ]
  },
  {
   "cell_type": "code",
   "execution_count": 35,
   "metadata": {
    "colab": {},
    "colab_type": "code",
    "id": "bcPp5zcjfuQD"
   },
   "outputs": [],
   "source": [
    "new_prediction = predict_model(saved_final_knn, data=data_unseen)"
   ]
  },
  {
   "cell_type": "code",
   "execution_count": 36,
   "metadata": {
    "colab": {
     "base_uri": "https://localhost:8080/",
     "height": 204
    },
    "colab_type": "code",
    "id": "NYhNg8RyfuQM",
    "outputId": "05ff52a7-a98a-4d45-f2b7-75d3186785ce"
   },
   "outputs": [
    {
     "data": {
      "text/html": [
       "<div>\n",
       "<style scoped>\n",
       "    .dataframe tbody tr th:only-of-type {\n",
       "        vertical-align: middle;\n",
       "    }\n",
       "\n",
       "    .dataframe tbody tr th {\n",
       "        vertical-align: top;\n",
       "    }\n",
       "\n",
       "    .dataframe thead th {\n",
       "        text-align: right;\n",
       "    }\n",
       "</style>\n",
       "<table border=\"1\" class=\"dataframe\">\n",
       "  <thead>\n",
       "    <tr style=\"text-align: right;\">\n",
       "      <th></th>\n",
       "      <th>sepal_length</th>\n",
       "      <th>sepal_width</th>\n",
       "      <th>petal_length</th>\n",
       "      <th>petal_width</th>\n",
       "      <th>species</th>\n",
       "      <th>Label</th>\n",
       "      <th>Score</th>\n",
       "    </tr>\n",
       "  </thead>\n",
       "  <tbody>\n",
       "    <tr>\n",
       "      <th>0</th>\n",
       "      <td>5.4</td>\n",
       "      <td>3.9</td>\n",
       "      <td>1.7</td>\n",
       "      <td>0.4</td>\n",
       "      <td>Iris-setosa</td>\n",
       "      <td>0</td>\n",
       "      <td>1.0000</td>\n",
       "    </tr>\n",
       "    <tr>\n",
       "      <th>1</th>\n",
       "      <td>5.4</td>\n",
       "      <td>3.4</td>\n",
       "      <td>1.7</td>\n",
       "      <td>0.2</td>\n",
       "      <td>Iris-setosa</td>\n",
       "      <td>0</td>\n",
       "      <td>1.0000</td>\n",
       "    </tr>\n",
       "    <tr>\n",
       "      <th>2</th>\n",
       "      <td>5.1</td>\n",
       "      <td>3.3</td>\n",
       "      <td>1.7</td>\n",
       "      <td>0.5</td>\n",
       "      <td>Iris-setosa</td>\n",
       "      <td>0</td>\n",
       "      <td>1.0000</td>\n",
       "    </tr>\n",
       "    <tr>\n",
       "      <th>3</th>\n",
       "      <td>4.8</td>\n",
       "      <td>3.1</td>\n",
       "      <td>1.6</td>\n",
       "      <td>0.2</td>\n",
       "      <td>Iris-setosa</td>\n",
       "      <td>0</td>\n",
       "      <td>1.0000</td>\n",
       "    </tr>\n",
       "    <tr>\n",
       "      <th>4</th>\n",
       "      <td>6.9</td>\n",
       "      <td>3.1</td>\n",
       "      <td>4.9</td>\n",
       "      <td>1.5</td>\n",
       "      <td>Iris-versicolor</td>\n",
       "      <td>1</td>\n",
       "      <td>0.7692</td>\n",
       "    </tr>\n",
       "  </tbody>\n",
       "</table>\n",
       "</div>"
      ],
      "text/plain": [
       "   sepal_length  sepal_width  petal_length  petal_width          species  \\\n",
       "0           5.4          3.9           1.7          0.4      Iris-setosa   \n",
       "1           5.4          3.4           1.7          0.2      Iris-setosa   \n",
       "2           5.1          3.3           1.7          0.5      Iris-setosa   \n",
       "3           4.8          3.1           1.6          0.2      Iris-setosa   \n",
       "4           6.9          3.1           4.9          1.5  Iris-versicolor   \n",
       "\n",
       "   Label   Score  \n",
       "0      0  1.0000  \n",
       "1      0  1.0000  \n",
       "2      0  1.0000  \n",
       "3      0  1.0000  \n",
       "4      1  0.7692  "
      ]
     },
     "execution_count": 36,
     "metadata": {},
     "output_type": "execute_result"
    }
   ],
   "source": [
    "new_prediction.head()"
   ]
  },
  {
   "cell_type": "markdown",
   "metadata": {
    "colab_type": "text",
    "id": "Kp_XadZRfuQQ"
   },
   "source": [
    "Notice that the results of `unseen_predictions` and `new_prediction` are identical."
   ]
  },
  {
   "cell_type": "markdown",
   "metadata": {
    "colab_type": "text",
    "id": "9_gIC-mSfuQR"
   },
   "source": [
    "# 16.0 Wrap-up / Next Steps?"
   ]
  },
  {
   "cell_type": "markdown",
   "metadata": {
    "colab_type": "text",
    "id": "Rn_0E7H0fuQU"
   },
   "source": [
    "This tutorial has covered the entire machine learning pipeline from data ingestion, pre-processing, training the model, hyperparameter tuning, prediction and saving the model for later use. We have completed all of these steps in less than 10 commands which are naturally constructed and very intuitive to remember such as `create_model()`, `tune_model()`, `compare_models()`. Re-creating the entire experiment without PyCaret would have taken well over 100 lines of code in most libraries.\n",
    "\n",
    "We have only covered the basics of `pycaret.classification`. In following tutorials we will go deeper into advanced pre-processing, ensembling, generalized stacking and other techniques that allow you to fully customize your machine learning pipeline and are must know for any data scientist. "
   ]
  }
 ],
 "metadata": {
  "colab": {
   "collapsed_sections": [
    "e-NQVSpIfuMi",
    "QXG8qOz5fuM3",
    "i9ZvVSDYfuNL",
    "qH7AeJqjfuNX",
    "yyApyoXbfuNZ",
    "PhHDTJYwfuNl",
    "8IA_BtchfuNt",
    "jzY5pn-OfuN4",
    "WVgKXyjdfuN7",
    "fe9QKCZ8fuOU",
    "oF2hDwoifuOd",
    "3zct2zSYfuOl",
    "AegNi_BXfuOn",
    "WdQqEtO4fuOt",
    "iidIhDUufuOx",
    "Wo-Ob7AffuO_",
    "HaVz-bOIfuPN",
    "da2mWvRefuPk",
    "uAhEcJnqfuPs",
    "uVFI4If3fuP1",
    "9_gIC-mSfuQR"
   ],
   "name": "Multiclass Classification Tutorial (MCLF101) - Level Beginner (ACN_EDITS).ipynb",
   "provenance": []
  },
  "kernelspec": {
   "display_name": "Python 3 (ipykernel)",
   "language": "python",
   "name": "python3"
  },
  "language_info": {
   "codemirror_mode": {
    "name": "ipython",
    "version": 3
   },
   "file_extension": ".py",
   "mimetype": "text/x-python",
   "name": "python",
   "nbconvert_exporter": "python",
   "pygments_lexer": "ipython3",
   "version": "3.10.6"
  },
  "widgets": {
   "application/vnd.jupyter.widget-state+json": {
    "08ddc7a42f8d492faa945a5d7eac4a86": {
     "model_module": "@jupyter-widgets/controls",
     "model_name": "IntProgressModel",
     "state": {
      "_dom_classes": [],
      "_model_module": "@jupyter-widgets/controls",
      "_model_module_version": "1.5.0",
      "_model_name": "IntProgressModel",
      "_view_count": null,
      "_view_module": "@jupyter-widgets/controls",
      "_view_module_version": "1.5.0",
      "_view_name": "ProgressView",
      "bar_style": "",
      "description": "Processing: ",
      "description_tooltip": null,
      "layout": "IPY_MODEL_6e43059d835f4d62aa1e5c5bf7d676e1",
      "max": 5,
      "min": 0,
      "orientation": "horizontal",
      "style": "IPY_MODEL_0a1412c6e3f6498ca9d221f259716943",
      "value": 5
     }
    },
    "094d443554a84f2788d4802512cda617": {
     "model_module": "@jupyter-widgets/base",
     "model_name": "LayoutModel",
     "state": {
      "_model_module": "@jupyter-widgets/base",
      "_model_module_version": "1.2.0",
      "_model_name": "LayoutModel",
      "_view_count": null,
      "_view_module": "@jupyter-widgets/base",
      "_view_module_version": "1.2.0",
      "_view_name": "LayoutView",
      "align_content": null,
      "align_items": null,
      "align_self": null,
      "border": null,
      "bottom": null,
      "display": null,
      "flex": null,
      "flex_flow": null,
      "grid_area": null,
      "grid_auto_columns": null,
      "grid_auto_flow": null,
      "grid_auto_rows": null,
      "grid_column": null,
      "grid_gap": null,
      "grid_row": null,
      "grid_template_areas": null,
      "grid_template_columns": null,
      "grid_template_rows": null,
      "height": null,
      "justify_content": null,
      "justify_items": null,
      "left": null,
      "margin": null,
      "max_height": null,
      "max_width": null,
      "min_height": null,
      "min_width": null,
      "object_fit": null,
      "object_position": null,
      "order": null,
      "overflow": null,
      "overflow_x": null,
      "overflow_y": null,
      "padding": null,
      "right": null,
      "top": null,
      "visibility": null,
      "width": null
     }
    },
    "0a1412c6e3f6498ca9d221f259716943": {
     "model_module": "@jupyter-widgets/controls",
     "model_name": "ProgressStyleModel",
     "state": {
      "_model_module": "@jupyter-widgets/controls",
      "_model_module_version": "1.5.0",
      "_model_name": "ProgressStyleModel",
      "_view_count": null,
      "_view_module": "@jupyter-widgets/base",
      "_view_module_version": "1.2.0",
      "_view_name": "StyleView",
      "bar_color": null,
      "description_width": ""
     }
    },
    "0a505068ebbf4d068aa7d75f702ac715": {
     "model_module": "@jupyter-widgets/controls",
     "model_name": "ProgressStyleModel",
     "state": {
      "_model_module": "@jupyter-widgets/controls",
      "_model_module_version": "1.5.0",
      "_model_name": "ProgressStyleModel",
      "_view_count": null,
      "_view_module": "@jupyter-widgets/base",
      "_view_module_version": "1.2.0",
      "_view_name": "StyleView",
      "bar_color": null,
      "description_width": ""
     }
    },
    "0dc3288edbff469189f52ebf88863853": {
     "model_module": "@jupyter-widgets/controls",
     "model_name": "ProgressStyleModel",
     "state": {
      "_model_module": "@jupyter-widgets/controls",
      "_model_module_version": "1.5.0",
      "_model_name": "ProgressStyleModel",
      "_view_count": null,
      "_view_module": "@jupyter-widgets/base",
      "_view_module_version": "1.2.0",
      "_view_name": "StyleView",
      "bar_color": null,
      "description_width": ""
     }
    },
    "17810a03d1424e729b70ec2044e9e7f6": {
     "model_module": "@jupyter-widgets/controls",
     "model_name": "ProgressStyleModel",
     "state": {
      "_model_module": "@jupyter-widgets/controls",
      "_model_module_version": "1.5.0",
      "_model_name": "ProgressStyleModel",
      "_view_count": null,
      "_view_module": "@jupyter-widgets/base",
      "_view_module_version": "1.2.0",
      "_view_name": "StyleView",
      "bar_color": null,
      "description_width": ""
     }
    },
    "17f607299eaf4b05a1542960ba1f8953": {
     "model_module": "@jupyter-widgets/controls",
     "model_name": "ToggleButtonsStyleModel",
     "state": {
      "_model_module": "@jupyter-widgets/controls",
      "_model_module_version": "1.5.0",
      "_model_name": "ToggleButtonsStyleModel",
      "_view_count": null,
      "_view_module": "@jupyter-widgets/base",
      "_view_module_version": "1.2.0",
      "_view_name": "StyleView",
      "button_width": "",
      "description_width": "",
      "font_weight": ""
     }
    },
    "2c22eeecfa054ab59f5a2bc6ea4e7244": {
     "model_module": "@jupyter-widgets/base",
     "model_name": "LayoutModel",
     "state": {
      "_model_module": "@jupyter-widgets/base",
      "_model_module_version": "1.2.0",
      "_model_name": "LayoutModel",
      "_view_count": null,
      "_view_module": "@jupyter-widgets/base",
      "_view_module_version": "1.2.0",
      "_view_name": "LayoutView",
      "align_content": null,
      "align_items": null,
      "align_self": null,
      "border": null,
      "bottom": null,
      "display": null,
      "flex": null,
      "flex_flow": null,
      "grid_area": null,
      "grid_auto_columns": null,
      "grid_auto_flow": null,
      "grid_auto_rows": null,
      "grid_column": null,
      "grid_gap": null,
      "grid_row": null,
      "grid_template_areas": null,
      "grid_template_columns": null,
      "grid_template_rows": null,
      "height": null,
      "justify_content": null,
      "justify_items": null,
      "left": null,
      "margin": null,
      "max_height": null,
      "max_width": null,
      "min_height": null,
      "min_width": null,
      "object_fit": null,
      "object_position": null,
      "order": null,
      "overflow": null,
      "overflow_x": null,
      "overflow_y": null,
      "padding": null,
      "right": null,
      "top": null,
      "visibility": null,
      "width": null
     }
    },
    "2d502879922046aaba1d84769e93ff1b": {
     "model_module": "@jupyter-widgets/controls",
     "model_name": "IntProgressModel",
     "state": {
      "_dom_classes": [],
      "_model_module": "@jupyter-widgets/controls",
      "_model_module_version": "1.5.0",
      "_model_name": "IntProgressModel",
      "_view_count": null,
      "_view_module": "@jupyter-widgets/controls",
      "_view_module_version": "1.5.0",
      "_view_name": "ProgressView",
      "bar_style": "",
      "description": "Processing: ",
      "description_tooltip": null,
      "layout": "IPY_MODEL_d360dbb5ee734c839b8a30238d824633",
      "max": 5,
      "min": 0,
      "orientation": "horizontal",
      "style": "IPY_MODEL_0dc3288edbff469189f52ebf88863853",
      "value": 5
     }
    },
    "36a827017abf468d939c97492b5c73ab": {
     "model_module": "@jupyter-widgets/output",
     "model_name": "OutputModel",
     "state": {
      "_dom_classes": [],
      "_model_module": "@jupyter-widgets/output",
      "_model_module_version": "1.0.0",
      "_model_name": "OutputModel",
      "_view_count": null,
      "_view_module": "@jupyter-widgets/output",
      "_view_module_version": "1.0.0",
      "_view_name": "OutputView",
      "layout": "IPY_MODEL_8d00ff3d9987467db4b233132c5a3499",
      "msg_id": "",
      "outputs": [
       {
        "image/png": "iVBORw0KGgoAAAANSUhEUgAAAe0AAAFYCAYAAAB+s6Q9AAAABHNCSVQICAgIfAhkiAAAAAlwSFlz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\nBEEQhCBQ0yYIgiAIQfj/AZWi8U33gZV0AAAAAElFTkSuQmCC\n",
        "metadata": {
         "tags": []
        },
        "output_type": "display_data",
        "text/plain": "<Figure size 576x396 with 1 Axes>"
       }
      ]
     }
    },
    "3dd8046812e942bf9e2ccc62ba4bf2a5": {
     "model_module": "@jupyter-widgets/controls",
     "model_name": "IntProgressModel",
     "state": {
      "_dom_classes": [],
      "_model_module": "@jupyter-widgets/controls",
      "_model_module_version": "1.5.0",
      "_model_name": "IntProgressModel",
      "_view_count": null,
      "_view_module": "@jupyter-widgets/controls",
      "_view_module_version": "1.5.0",
      "_view_name": "ProgressView",
      "bar_style": "",
      "description": "Processing: ",
      "description_tooltip": null,
      "layout": "IPY_MODEL_2c22eeecfa054ab59f5a2bc6ea4e7244",
      "max": 5,
      "min": 0,
      "orientation": "horizontal",
      "style": "IPY_MODEL_a4291bb80392498ba074a033b6c60d86",
      "value": 5
     }
    },
    "46eb9473b4c64c59956eae387e60555a": {
     "model_module": "@jupyter-widgets/controls",
     "model_name": "IntProgressModel",
     "state": {
      "_dom_classes": [],
      "_model_module": "@jupyter-widgets/controls",
      "_model_module_version": "1.5.0",
      "_model_name": "IntProgressModel",
      "_view_count": null,
      "_view_module": "@jupyter-widgets/controls",
      "_view_module_version": "1.5.0",
      "_view_name": "ProgressView",
      "bar_style": "",
      "description": "Processing: ",
      "description_tooltip": null,
      "layout": "IPY_MODEL_4e0a64915ccd490aae253c73dbf91a99",
      "max": 5,
      "min": 0,
      "orientation": "horizontal",
      "style": "IPY_MODEL_eecbd2ce9de64166bcfddadaef395d65",
      "value": 5
     }
    },
    "4c1ee7022483425d9541b0e49f1efcd2": {
     "model_module": "@jupyter-widgets/controls",
     "model_name": "IntProgressModel",
     "state": {
      "_dom_classes": [],
      "_model_module": "@jupyter-widgets/controls",
      "_model_module_version": "1.5.0",
      "_model_name": "IntProgressModel",
      "_view_count": null,
      "_view_module": "@jupyter-widgets/controls",
      "_view_module_version": "1.5.0",
      "_view_name": "ProgressView",
      "bar_style": "",
      "description": "Processing: ",
      "description_tooltip": null,
      "layout": "IPY_MODEL_9d7425bc499c4f57a680a7166389e5dc",
      "max": 5,
      "min": 0,
      "orientation": "horizontal",
      "style": "IPY_MODEL_17810a03d1424e729b70ec2044e9e7f6",
      "value": 5
     }
    },
    "4e0a64915ccd490aae253c73dbf91a99": {
     "model_module": "@jupyter-widgets/base",
     "model_name": "LayoutModel",
     "state": {
      "_model_module": "@jupyter-widgets/base",
      "_model_module_version": "1.2.0",
      "_model_name": "LayoutModel",
      "_view_count": null,
      "_view_module": "@jupyter-widgets/base",
      "_view_module_version": "1.2.0",
      "_view_name": "LayoutView",
      "align_content": null,
      "align_items": null,
      "align_self": null,
      "border": null,
      "bottom": null,
      "display": null,
      "flex": null,
      "flex_flow": null,
      "grid_area": null,
      "grid_auto_columns": null,
      "grid_auto_flow": null,
      "grid_auto_rows": null,
      "grid_column": null,
      "grid_gap": null,
      "grid_row": null,
      "grid_template_areas": null,
      "grid_template_columns": null,
      "grid_template_rows": null,
      "height": null,
      "justify_content": null,
      "justify_items": null,
      "left": null,
      "margin": null,
      "max_height": null,
      "max_width": null,
      "min_height": null,
      "min_width": null,
      "object_fit": null,
      "object_position": null,
      "order": null,
      "overflow": null,
      "overflow_x": null,
      "overflow_y": null,
      "padding": null,
      "right": null,
      "top": null,
      "visibility": null,
      "width": null
     }
    },
    "52e6b5978ec94fdabdc9adf9286c3078": {
     "model_module": "@jupyter-widgets/controls",
     "model_name": "ProgressStyleModel",
     "state": {
      "_model_module": "@jupyter-widgets/controls",
      "_model_module_version": "1.5.0",
      "_model_name": "ProgressStyleModel",
      "_view_count": null,
      "_view_module": "@jupyter-widgets/base",
      "_view_module_version": "1.2.0",
      "_view_name": "StyleView",
      "bar_color": null,
      "description_width": ""
     }
    },
    "57e3592dda974775b2fc52ee73ecb50c": {
     "model_module": "@jupyter-widgets/controls",
     "model_name": "ProgressStyleModel",
     "state": {
      "_model_module": "@jupyter-widgets/controls",
      "_model_module_version": "1.5.0",
      "_model_name": "ProgressStyleModel",
      "_view_count": null,
      "_view_module": "@jupyter-widgets/base",
      "_view_module_version": "1.2.0",
      "_view_name": "StyleView",
      "bar_color": null,
      "description_width": ""
     }
    },
    "66b421a890bc462b97e5d9d23fe5809a": {
     "model_module": "@jupyter-widgets/controls",
     "model_name": "IntProgressModel",
     "state": {
      "_dom_classes": [],
      "_model_module": "@jupyter-widgets/controls",
      "_model_module_version": "1.5.0",
      "_model_name": "IntProgressModel",
      "_view_count": null,
      "_view_module": "@jupyter-widgets/controls",
      "_view_module_version": "1.5.0",
      "_view_name": "ProgressView",
      "bar_style": "",
      "description": "Processing: ",
      "description_tooltip": null,
      "layout": "IPY_MODEL_d8e230198678421ea3afef9ca721090d",
      "max": 5,
      "min": 0,
      "orientation": "horizontal",
      "style": "IPY_MODEL_904ec053638f498aa1d0e4944145f736",
      "value": 5
     }
    },
    "6e43059d835f4d62aa1e5c5bf7d676e1": {
     "model_module": "@jupyter-widgets/base",
     "model_name": "LayoutModel",
     "state": {
      "_model_module": "@jupyter-widgets/base",
      "_model_module_version": "1.2.0",
      "_model_name": "LayoutModel",
      "_view_count": null,
      "_view_module": "@jupyter-widgets/base",
      "_view_module_version": "1.2.0",
      "_view_name": "LayoutView",
      "align_content": null,
      "align_items": null,
      "align_self": null,
      "border": null,
      "bottom": null,
      "display": null,
      "flex": null,
      "flex_flow": null,
      "grid_area": null,
      "grid_auto_columns": null,
      "grid_auto_flow": null,
      "grid_auto_rows": null,
      "grid_column": null,
      "grid_gap": null,
      "grid_row": null,
      "grid_template_areas": null,
      "grid_template_columns": null,
      "grid_template_rows": null,
      "height": null,
      "justify_content": null,
      "justify_items": null,
      "left": null,
      "margin": null,
      "max_height": null,
      "max_width": null,
      "min_height": null,
      "min_width": null,
      "object_fit": null,
      "object_position": null,
      "order": null,
      "overflow": null,
      "overflow_x": null,
      "overflow_y": null,
      "padding": null,
      "right": null,
      "top": null,
      "visibility": null,
      "width": null
     }
    },
    "7448bcccbfaa432c8f1f9936a51ccf3c": {
     "model_module": "@jupyter-widgets/controls",
     "model_name": "ProgressStyleModel",
     "state": {
      "_model_module": "@jupyter-widgets/controls",
      "_model_module_version": "1.5.0",
      "_model_name": "ProgressStyleModel",
      "_view_count": null,
      "_view_module": "@jupyter-widgets/base",
      "_view_module_version": "1.2.0",
      "_view_name": "StyleView",
      "bar_color": null,
      "description_width": ""
     }
    },
    "904ec053638f498aa1d0e4944145f736": {
     "model_module": "@jupyter-widgets/controls",
     "model_name": "ProgressStyleModel",
     "state": {
      "_model_module": "@jupyter-widgets/controls",
      "_model_module_version": "1.5.0",
      "_model_name": "ProgressStyleModel",
      "_view_count": null,
      "_view_module": "@jupyter-widgets/base",
      "_view_module_version": "1.2.0",
      "_view_name": "StyleView",
      "bar_color": null,
      "description_width": ""
     }
    },
    "9cc0efb4189e48c6beb4fe1c0c4a2fdc": {
     "model_module": "@jupyter-widgets/controls",
     "model_name": "VBoxModel",
     "state": {
      "_dom_classes": [
       "widget-interact"
      ],
      "_model_module": "@jupyter-widgets/controls",
      "_model_module_version": "1.5.0",
      "_model_name": "VBoxModel",
      "_view_count": null,
      "_view_module": "@jupyter-widgets/controls",
      "_view_module_version": "1.5.0",
      "_view_name": "VBoxView",
      "box_style": "",
      "children": [
       "IPY_MODEL_b046e2e525ca425a80aac86d7b665854",
       "IPY_MODEL_36a827017abf468d939c97492b5c73ab"
      ],
      "layout": "IPY_MODEL_a63ed06ee88c4ca3883ac38e665bddf8"
     }
    },
    "9d7425bc499c4f57a680a7166389e5dc": {
     "model_module": "@jupyter-widgets/base",
     "model_name": "LayoutModel",
     "state": {
      "_model_module": "@jupyter-widgets/base",
      "_model_module_version": "1.2.0",
      "_model_name": "LayoutModel",
      "_view_count": null,
      "_view_module": "@jupyter-widgets/base",
      "_view_module_version": "1.2.0",
      "_view_name": "LayoutView",
      "align_content": null,
      "align_items": null,
      "align_self": null,
      "border": null,
      "bottom": null,
      "display": null,
      "flex": null,
      "flex_flow": null,
      "grid_area": null,
      "grid_auto_columns": null,
      "grid_auto_flow": null,
      "grid_auto_rows": null,
      "grid_column": null,
      "grid_gap": null,
      "grid_row": null,
      "grid_template_areas": null,
      "grid_template_columns": null,
      "grid_template_rows": null,
      "height": null,
      "justify_content": null,
      "justify_items": null,
      "left": null,
      "margin": null,
      "max_height": null,
      "max_width": null,
      "min_height": null,
      "min_width": null,
      "object_fit": null,
      "object_position": null,
      "order": null,
      "overflow": null,
      "overflow_x": null,
      "overflow_y": null,
      "padding": null,
      "right": null,
      "top": null,
      "visibility": null,
      "width": null
     }
    },
    "a1a8e8de38404b83bec2300554e42aa8": {
     "model_module": "@jupyter-widgets/controls",
     "model_name": "IntProgressModel",
     "state": {
      "_dom_classes": [],
      "_model_module": "@jupyter-widgets/controls",
      "_model_module_version": "1.5.0",
      "_model_name": "IntProgressModel",
      "_view_count": null,
      "_view_module": "@jupyter-widgets/controls",
      "_view_module_version": "1.5.0",
      "_view_name": "ProgressView",
      "bar_style": "",
      "description": "Processing: ",
      "description_tooltip": null,
      "layout": "IPY_MODEL_eae1b12ae33041e9a14d7372fd0d6be3",
      "max": 5,
      "min": 0,
      "orientation": "horizontal",
      "style": "IPY_MODEL_7448bcccbfaa432c8f1f9936a51ccf3c",
      "value": 5
     }
    },
    "a4291bb80392498ba074a033b6c60d86": {
     "model_module": "@jupyter-widgets/controls",
     "model_name": "ProgressStyleModel",
     "state": {
      "_model_module": "@jupyter-widgets/controls",
      "_model_module_version": "1.5.0",
      "_model_name": "ProgressStyleModel",
      "_view_count": null,
      "_view_module": "@jupyter-widgets/base",
      "_view_module_version": "1.2.0",
      "_view_name": "StyleView",
      "bar_color": null,
      "description_width": ""
     }
    },
    "a63ed06ee88c4ca3883ac38e665bddf8": {
     "model_module": "@jupyter-widgets/base",
     "model_name": "LayoutModel",
     "state": {
      "_model_module": "@jupyter-widgets/base",
      "_model_module_version": "1.2.0",
      "_model_name": "LayoutModel",
      "_view_count": null,
      "_view_module": "@jupyter-widgets/base",
      "_view_module_version": "1.2.0",
      "_view_name": "LayoutView",
      "align_content": null,
      "align_items": null,
      "align_self": null,
      "border": null,
      "bottom": null,
      "display": null,
      "flex": null,
      "flex_flow": null,
      "grid_area": null,
      "grid_auto_columns": null,
      "grid_auto_flow": null,
      "grid_auto_rows": null,
      "grid_column": null,
      "grid_gap": null,
      "grid_row": null,
      "grid_template_areas": null,
      "grid_template_columns": null,
      "grid_template_rows": null,
      "height": null,
      "justify_content": null,
      "justify_items": null,
      "left": null,
      "margin": null,
      "max_height": null,
      "max_width": null,
      "min_height": null,
      "min_width": null,
      "object_fit": null,
      "object_position": null,
      "order": null,
      "overflow": null,
      "overflow_x": null,
      "overflow_y": null,
      "padding": null,
      "right": null,
      "top": null,
      "visibility": null,
      "width": null
     }
    },
    "b046e2e525ca425a80aac86d7b665854": {
     "model_module": "@jupyter-widgets/controls",
     "model_name": "ToggleButtonsModel",
     "state": {
      "_dom_classes": [],
      "_model_module": "@jupyter-widgets/controls",
      "_model_module_version": "1.5.0",
      "_model_name": "ToggleButtonsModel",
      "_options_labels": [
       "Hyperparameters",
       "AUC",
       "Confusion Matrix",
       "Threshold",
       "Precision Recall",
       "Error",
       "Class Report",
       "Feature Selection",
       "Learning Curve",
       "Manifold Learning",
       "Calibration Curve",
       "Validation Curve",
       "Dimensions",
       "Feature Importance",
       "Decision Boundary"
      ],
      "_view_count": null,
      "_view_module": "@jupyter-widgets/controls",
      "_view_module_version": "1.5.0",
      "_view_name": "ToggleButtonsView",
      "button_style": "",
      "description": "Plot Type:",
      "description_tooltip": null,
      "disabled": false,
      "icons": [
       ""
      ],
      "index": 14,
      "layout": "IPY_MODEL_e4c7bdc3be744945b405b9905048f64f",
      "style": "IPY_MODEL_17f607299eaf4b05a1542960ba1f8953",
      "tooltips": []
     }
    },
    "bdb566b147ef4202b351fd1014883ce6": {
     "model_module": "@jupyter-widgets/controls",
     "model_name": "IntProgressModel",
     "state": {
      "_dom_classes": [],
      "_model_module": "@jupyter-widgets/controls",
      "_model_module_version": "1.5.0",
      "_model_name": "IntProgressModel",
      "_view_count": null,
      "_view_module": "@jupyter-widgets/controls",
      "_view_module_version": "1.5.0",
      "_view_name": "ProgressView",
      "bar_style": "",
      "description": "Processing: ",
      "description_tooltip": null,
      "layout": "IPY_MODEL_094d443554a84f2788d4802512cda617",
      "max": 5,
      "min": 0,
      "orientation": "horizontal",
      "style": "IPY_MODEL_0a505068ebbf4d068aa7d75f702ac715",
      "value": 2
     }
    },
    "c20470f03116445ab707f5857592d046": {
     "model_module": "@jupyter-widgets/controls",
     "model_name": "IntProgressModel",
     "state": {
      "_dom_classes": [],
      "_model_module": "@jupyter-widgets/controls",
      "_model_module_version": "1.5.0",
      "_model_name": "IntProgressModel",
      "_view_count": null,
      "_view_module": "@jupyter-widgets/controls",
      "_view_module_version": "1.5.0",
      "_view_name": "ProgressView",
      "bar_style": "",
      "description": "Processing: ",
      "description_tooltip": null,
      "layout": "IPY_MODEL_d0366972e1664000b72674d0a285a785",
      "max": 5,
      "min": 0,
      "orientation": "horizontal",
      "style": "IPY_MODEL_52e6b5978ec94fdabdc9adf9286c3078",
      "value": 5
     }
    },
    "cc64cb2f6f8148d7ad9ce9d9cd16dd5f": {
     "model_module": "@jupyter-widgets/base",
     "model_name": "LayoutModel",
     "state": {
      "_model_module": "@jupyter-widgets/base",
      "_model_module_version": "1.2.0",
      "_model_name": "LayoutModel",
      "_view_count": null,
      "_view_module": "@jupyter-widgets/base",
      "_view_module_version": "1.2.0",
      "_view_name": "LayoutView",
      "align_content": null,
      "align_items": null,
      "align_self": null,
      "border": null,
      "bottom": null,
      "display": null,
      "flex": null,
      "flex_flow": null,
      "grid_area": null,
      "grid_auto_columns": null,
      "grid_auto_flow": null,
      "grid_auto_rows": null,
      "grid_column": null,
      "grid_gap": null,
      "grid_row": null,
      "grid_template_areas": null,
      "grid_template_columns": null,
      "grid_template_rows": null,
      "height": null,
      "justify_content": null,
      "justify_items": null,
      "left": null,
      "margin": null,
      "max_height": null,
      "max_width": null,
      "min_height": null,
      "min_width": null,
      "object_fit": null,
      "object_position": null,
      "order": null,
      "overflow": null,
      "overflow_x": null,
      "overflow_y": null,
      "padding": null,
      "right": null,
      "top": null,
      "visibility": null,
      "width": null
     }
    },
    "d0366972e1664000b72674d0a285a785": {
     "model_module": "@jupyter-widgets/base",
     "model_name": "LayoutModel",
     "state": {
      "_model_module": "@jupyter-widgets/base",
      "_model_module_version": "1.2.0",
      "_model_name": "LayoutModel",
      "_view_count": null,
      "_view_module": "@jupyter-widgets/base",
      "_view_module_version": "1.2.0",
      "_view_name": "LayoutView",
      "align_content": null,
      "align_items": null,
      "align_self": null,
      "border": null,
      "bottom": null,
      "display": null,
      "flex": null,
      "flex_flow": null,
      "grid_area": null,
      "grid_auto_columns": null,
      "grid_auto_flow": null,
      "grid_auto_rows": null,
      "grid_column": null,
      "grid_gap": null,
      "grid_row": null,
      "grid_template_areas": null,
      "grid_template_columns": null,
      "grid_template_rows": null,
      "height": null,
      "justify_content": null,
      "justify_items": null,
      "left": null,
      "margin": null,
      "max_height": null,
      "max_width": null,
      "min_height": null,
      "min_width": null,
      "object_fit": null,
      "object_position": null,
      "order": null,
      "overflow": null,
      "overflow_x": null,
      "overflow_y": null,
      "padding": null,
      "right": null,
      "top": null,
      "visibility": null,
      "width": null
     }
    },
    "d360dbb5ee734c839b8a30238d824633": {
     "model_module": "@jupyter-widgets/base",
     "model_name": "LayoutModel",
     "state": {
      "_model_module": "@jupyter-widgets/base",
      "_model_module_version": "1.2.0",
      "_model_name": "LayoutModel",
      "_view_count": null,
      "_view_module": "@jupyter-widgets/base",
      "_view_module_version": "1.2.0",
      "_view_name": "LayoutView",
      "align_content": null,
      "align_items": null,
      "align_self": null,
      "border": null,
      "bottom": null,
      "display": null,
      "flex": null,
      "flex_flow": null,
      "grid_area": null,
      "grid_auto_columns": null,
      "grid_auto_flow": null,
      "grid_auto_rows": null,
      "grid_column": null,
      "grid_gap": null,
      "grid_row": null,
      "grid_template_areas": null,
      "grid_template_columns": null,
      "grid_template_rows": null,
      "height": null,
      "justify_content": null,
      "justify_items": null,
      "left": null,
      "margin": null,
      "max_height": null,
      "max_width": null,
      "min_height": null,
      "min_width": null,
      "object_fit": null,
      "object_position": null,
      "order": null,
      "overflow": null,
      "overflow_x": null,
      "overflow_y": null,
      "padding": null,
      "right": null,
      "top": null,
      "visibility": null,
      "width": null
     }
    },
    "d8e230198678421ea3afef9ca721090d": {
     "model_module": "@jupyter-widgets/base",
     "model_name": "LayoutModel",
     "state": {
      "_model_module": "@jupyter-widgets/base",
      "_model_module_version": "1.2.0",
      "_model_name": "LayoutModel",
      "_view_count": null,
      "_view_module": "@jupyter-widgets/base",
      "_view_module_version": "1.2.0",
      "_view_name": "LayoutView",
      "align_content": null,
      "align_items": null,
      "align_self": null,
      "border": null,
      "bottom": null,
      "display": null,
      "flex": null,
      "flex_flow": null,
      "grid_area": null,
      "grid_auto_columns": null,
      "grid_auto_flow": null,
      "grid_auto_rows": null,
      "grid_column": null,
      "grid_gap": null,
      "grid_row": null,
      "grid_template_areas": null,
      "grid_template_columns": null,
      "grid_template_rows": null,
      "height": null,
      "justify_content": null,
      "justify_items": null,
      "left": null,
      "margin": null,
      "max_height": null,
      "max_width": null,
      "min_height": null,
      "min_width": null,
      "object_fit": null,
      "object_position": null,
      "order": null,
      "overflow": null,
      "overflow_x": null,
      "overflow_y": null,
      "padding": null,
      "right": null,
      "top": null,
      "visibility": null,
      "width": null
     }
    },
    "e4c7bdc3be744945b405b9905048f64f": {
     "model_module": "@jupyter-widgets/base",
     "model_name": "LayoutModel",
     "state": {
      "_model_module": "@jupyter-widgets/base",
      "_model_module_version": "1.2.0",
      "_model_name": "LayoutModel",
      "_view_count": null,
      "_view_module": "@jupyter-widgets/base",
      "_view_module_version": "1.2.0",
      "_view_name": "LayoutView",
      "align_content": null,
      "align_items": null,
      "align_self": null,
      "border": null,
      "bottom": null,
      "display": null,
      "flex": null,
      "flex_flow": null,
      "grid_area": null,
      "grid_auto_columns": null,
      "grid_auto_flow": null,
      "grid_auto_rows": null,
      "grid_column": null,
      "grid_gap": null,
      "grid_row": null,
      "grid_template_areas": null,
      "grid_template_columns": null,
      "grid_template_rows": null,
      "height": null,
      "justify_content": null,
      "justify_items": null,
      "left": null,
      "margin": null,
      "max_height": null,
      "max_width": null,
      "min_height": null,
      "min_width": null,
      "object_fit": null,
      "object_position": null,
      "order": null,
      "overflow": null,
      "overflow_x": null,
      "overflow_y": null,
      "padding": null,
      "right": null,
      "top": null,
      "visibility": null,
      "width": null
     }
    },
    "eae1b12ae33041e9a14d7372fd0d6be3": {
     "model_module": "@jupyter-widgets/base",
     "model_name": "LayoutModel",
     "state": {
      "_model_module": "@jupyter-widgets/base",
      "_model_module_version": "1.2.0",
      "_model_name": "LayoutModel",
      "_view_count": null,
      "_view_module": "@jupyter-widgets/base",
      "_view_module_version": "1.2.0",
      "_view_name": "LayoutView",
      "align_content": null,
      "align_items": null,
      "align_self": null,
      "border": null,
      "bottom": null,
      "display": null,
      "flex": null,
      "flex_flow": null,
      "grid_area": null,
      "grid_auto_columns": null,
      "grid_auto_flow": null,
      "grid_auto_rows": null,
      "grid_column": null,
      "grid_gap": null,
      "grid_row": null,
      "grid_template_areas": null,
      "grid_template_columns": null,
      "grid_template_rows": null,
      "height": null,
      "justify_content": null,
      "justify_items": null,
      "left": null,
      "margin": null,
      "max_height": null,
      "max_width": null,
      "min_height": null,
      "min_width": null,
      "object_fit": null,
      "object_position": null,
      "order": null,
      "overflow": null,
      "overflow_x": null,
      "overflow_y": null,
      "padding": null,
      "right": null,
      "top": null,
      "visibility": null,
      "width": null
     }
    },
    "eecbd2ce9de64166bcfddadaef395d65": {
     "model_module": "@jupyter-widgets/controls",
     "model_name": "ProgressStyleModel",
     "state": {
      "_model_module": "@jupyter-widgets/controls",
      "_model_module_version": "1.5.0",
      "_model_name": "ProgressStyleModel",
      "_view_count": null,
      "_view_module": "@jupyter-widgets/base",
      "_view_module_version": "1.2.0",
      "_view_name": "StyleView",
      "bar_color": null,
      "description_width": ""
     }
    },
    "f0c4a07ca3cf4460bed061f0609b9b2b": {
     "model_module": "@jupyter-widgets/controls",
     "model_name": "IntProgressModel",
     "state": {
      "_dom_classes": [],
      "_model_module": "@jupyter-widgets/controls",
      "_model_module_version": "1.5.0",
      "_model_name": "IntProgressModel",
      "_view_count": null,
      "_view_module": "@jupyter-widgets/controls",
      "_view_module_version": "1.5.0",
      "_view_name": "ProgressView",
      "bar_style": "",
      "description": "Processing: ",
      "description_tooltip": null,
      "layout": "IPY_MODEL_cc64cb2f6f8148d7ad9ce9d9cd16dd5f",
      "max": 5,
      "min": 0,
      "orientation": "horizontal",
      "style": "IPY_MODEL_57e3592dda974775b2fc52ee73ecb50c",
      "value": 2
     }
    }
   }
  }
 },
 "nbformat": 4,
 "nbformat_minor": 1
}
